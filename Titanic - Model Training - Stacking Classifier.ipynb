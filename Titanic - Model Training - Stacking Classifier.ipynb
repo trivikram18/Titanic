{
 "cells": [
  {
   "cell_type": "markdown",
   "metadata": {},
   "source": [
    "# Titanic Dataset - Sklearn Stacking Classifier"
   ]
  },
  {
   "cell_type": "code",
   "execution_count": 1,
   "metadata": {
    "_cell_guid": "b1076dfc-b9ad-4769-8c92-a6c4dae69d19",
    "_uuid": "8f2839f25d086af736a60e9eeb907d3b93b6e0e5"
   },
   "outputs": [],
   "source": [
    "import numpy as np\n",
    "import pandas as pd\n",
    "import seaborn as sns\n",
    "import matplotlib.pyplot as plt"
   ]
  },
  {
   "cell_type": "code",
   "execution_count": 2,
   "metadata": {
    "_cell_guid": "79c7e3d0-c299-4dcb-8224-4455121ee9b0",
    "_uuid": "d629ff2d2480ee46fbb7e2d37f6b5fab8052498a"
   },
   "outputs": [
    {
     "name": "stdout",
     "output_type": "stream",
     "text": [
      "<class 'pandas.core.frame.DataFrame'>\n",
      "RangeIndex: 891 entries, 0 to 890\n",
      "Data columns (total 12 columns):\n",
      "PassengerId    891 non-null int64\n",
      "Survived       891 non-null int64\n",
      "Pclass         891 non-null int64\n",
      "Name           891 non-null object\n",
      "Sex            891 non-null object\n",
      "Age            714 non-null float64\n",
      "SibSp          891 non-null int64\n",
      "Parch          891 non-null int64\n",
      "Ticket         891 non-null object\n",
      "Fare           891 non-null float64\n",
      "Cabin          204 non-null object\n",
      "Embarked       889 non-null object\n",
      "dtypes: float64(2), int64(5), object(5)\n",
      "memory usage: 83.7+ KB\n",
      "None\n"
     ]
    }
   ],
   "source": [
    "# ReadIn the training data\n",
    "titanic_train = pd.read_csv(\"titanic_train.csv\")\n",
    "print (titanic_train.info())"
   ]
  },
  {
   "cell_type": "markdown",
   "metadata": {},
   "source": [
    "## Variable Notes"
   ]
  },
  {
   "cell_type": "markdown",
   "metadata": {},
   "source": [
    ">pclass: A proxy for socio-economic status (SES)\n",
    "1st = Upper\n",
    "2nd = Middle\n",
    "3rd = Lower\n",
    "\n",
    ">age: Age is fractional if less than 1. If the age is estimated, is it in the form of xx.5\n",
    "\n",
    ">sibsp: The dataset defines family relations in this way...\n",
    "Sibling = brother, sister, stepbrother, stepsister\n",
    "Spouse = husband, wife (mistresses and fiancÃ©s were ignored)\n",
    "\n",
    ">parch: The dataset defines family relations in this way...\n",
    "Parent = mother, father\n",
    "Child = daughter, son, stepdaughter, stepson\n",
    "Some children travelled only with a nanny, therefore parch=0 for them."
   ]
  },
  {
   "cell_type": "code",
   "execution_count": 3,
   "metadata": {},
   "outputs": [
    {
     "data": {
      "text/html": [
       "<div>\n",
       "<style scoped>\n",
       "    .dataframe tbody tr th:only-of-type {\n",
       "        vertical-align: middle;\n",
       "    }\n",
       "\n",
       "    .dataframe tbody tr th {\n",
       "        vertical-align: top;\n",
       "    }\n",
       "\n",
       "    .dataframe thead th {\n",
       "        text-align: right;\n",
       "    }\n",
       "</style>\n",
       "<table border=\"1\" class=\"dataframe\">\n",
       "  <thead>\n",
       "    <tr style=\"text-align: right;\">\n",
       "      <th></th>\n",
       "      <th>PassengerId</th>\n",
       "      <th>Survived</th>\n",
       "      <th>Pclass</th>\n",
       "      <th>Name</th>\n",
       "      <th>Sex</th>\n",
       "      <th>Age</th>\n",
       "      <th>SibSp</th>\n",
       "      <th>Parch</th>\n",
       "      <th>Ticket</th>\n",
       "      <th>Fare</th>\n",
       "      <th>Cabin</th>\n",
       "      <th>Embarked</th>\n",
       "    </tr>\n",
       "  </thead>\n",
       "  <tbody>\n",
       "    <tr>\n",
       "      <th>0</th>\n",
       "      <td>1</td>\n",
       "      <td>0</td>\n",
       "      <td>3</td>\n",
       "      <td>Braund, Mr. Owen Harris</td>\n",
       "      <td>male</td>\n",
       "      <td>22.0</td>\n",
       "      <td>1</td>\n",
       "      <td>0</td>\n",
       "      <td>A/5 21171</td>\n",
       "      <td>7.2500</td>\n",
       "      <td>NaN</td>\n",
       "      <td>S</td>\n",
       "    </tr>\n",
       "    <tr>\n",
       "      <th>1</th>\n",
       "      <td>2</td>\n",
       "      <td>1</td>\n",
       "      <td>1</td>\n",
       "      <td>Cumings, Mrs. John Bradley (Florence Briggs Th...</td>\n",
       "      <td>female</td>\n",
       "      <td>38.0</td>\n",
       "      <td>1</td>\n",
       "      <td>0</td>\n",
       "      <td>PC 17599</td>\n",
       "      <td>71.2833</td>\n",
       "      <td>C85</td>\n",
       "      <td>C</td>\n",
       "    </tr>\n",
       "    <tr>\n",
       "      <th>2</th>\n",
       "      <td>3</td>\n",
       "      <td>1</td>\n",
       "      <td>3</td>\n",
       "      <td>Heikkinen, Miss. Laina</td>\n",
       "      <td>female</td>\n",
       "      <td>26.0</td>\n",
       "      <td>0</td>\n",
       "      <td>0</td>\n",
       "      <td>STON/O2. 3101282</td>\n",
       "      <td>7.9250</td>\n",
       "      <td>NaN</td>\n",
       "      <td>S</td>\n",
       "    </tr>\n",
       "    <tr>\n",
       "      <th>3</th>\n",
       "      <td>4</td>\n",
       "      <td>1</td>\n",
       "      <td>1</td>\n",
       "      <td>Futrelle, Mrs. Jacques Heath (Lily May Peel)</td>\n",
       "      <td>female</td>\n",
       "      <td>35.0</td>\n",
       "      <td>1</td>\n",
       "      <td>0</td>\n",
       "      <td>113803</td>\n",
       "      <td>53.1000</td>\n",
       "      <td>C123</td>\n",
       "      <td>S</td>\n",
       "    </tr>\n",
       "    <tr>\n",
       "      <th>4</th>\n",
       "      <td>5</td>\n",
       "      <td>0</td>\n",
       "      <td>3</td>\n",
       "      <td>Allen, Mr. William Henry</td>\n",
       "      <td>male</td>\n",
       "      <td>35.0</td>\n",
       "      <td>0</td>\n",
       "      <td>0</td>\n",
       "      <td>373450</td>\n",
       "      <td>8.0500</td>\n",
       "      <td>NaN</td>\n",
       "      <td>S</td>\n",
       "    </tr>\n",
       "  </tbody>\n",
       "</table>\n",
       "</div>"
      ],
      "text/plain": [
       "   PassengerId  Survived  Pclass  \\\n",
       "0            1         0       3   \n",
       "1            2         1       1   \n",
       "2            3         1       3   \n",
       "3            4         1       1   \n",
       "4            5         0       3   \n",
       "\n",
       "                                                Name     Sex   Age  SibSp  \\\n",
       "0                            Braund, Mr. Owen Harris    male  22.0      1   \n",
       "1  Cumings, Mrs. John Bradley (Florence Briggs Th...  female  38.0      1   \n",
       "2                             Heikkinen, Miss. Laina  female  26.0      0   \n",
       "3       Futrelle, Mrs. Jacques Heath (Lily May Peel)  female  35.0      1   \n",
       "4                           Allen, Mr. William Henry    male  35.0      0   \n",
       "\n",
       "   Parch            Ticket     Fare Cabin Embarked  \n",
       "0      0         A/5 21171   7.2500   NaN        S  \n",
       "1      0          PC 17599  71.2833   C85        C  \n",
       "2      0  STON/O2. 3101282   7.9250   NaN        S  \n",
       "3      0            113803  53.1000  C123        S  \n",
       "4      0            373450   8.0500   NaN        S  "
      ]
     },
     "execution_count": 3,
     "metadata": {},
     "output_type": "execute_result"
    }
   ],
   "source": [
    "titanic_train.head()"
   ]
  },
  {
   "cell_type": "code",
   "execution_count": 4,
   "metadata": {},
   "outputs": [
    {
     "data": {
      "text/plain": [
       "PassengerId      0\n",
       "Survived         0\n",
       "Pclass           0\n",
       "Name             0\n",
       "Sex              0\n",
       "Age            177\n",
       "SibSp            0\n",
       "Parch            0\n",
       "Ticket           0\n",
       "Fare             0\n",
       "Cabin          687\n",
       "Embarked         2\n",
       "dtype: int64"
      ]
     },
     "execution_count": 4,
     "metadata": {},
     "output_type": "execute_result"
    }
   ],
   "source": [
    "titanic_train.isnull().sum()"
   ]
  },
  {
   "cell_type": "markdown",
   "metadata": {},
   "source": [
    "## Separate out the target/ label from the dataset"
   ]
  },
  {
   "cell_type": "code",
   "execution_count": 5,
   "metadata": {},
   "outputs": [
    {
     "name": "stdout",
     "output_type": "stream",
     "text": [
      "All column names: Index(['PassengerId', 'Survived', 'Pclass', 'Name', 'Sex', 'Age', 'SibSp',\n",
      "       'Parch', 'Ticket', 'Fare', 'Cabin', 'Embarked'],\n",
      "      dtype='object')\n",
      "Training data column names: Index(['PassengerId', 'Pclass', 'Name', 'Sex', 'Age', 'SibSp', 'Parch',\n",
      "       'Ticket', 'Fare', 'Cabin', 'Embarked'],\n",
      "      dtype='object')\n",
      "Training label: Survived\n"
     ]
    }
   ],
   "source": [
    "print(f'All column names: {titanic_train.columns}')\n",
    "X_train = titanic_train.copy()\n",
    "y_train = X_train.pop('Survived')\n",
    "print(f'Training data column names: {X_train.columns}')\n",
    "print(f'Training label: {y_train.name}')"
   ]
  },
  {
   "cell_type": "markdown",
   "metadata": {},
   "source": [
    "## Helper Functions"
   ]
  },
  {
   "cell_type": "code",
   "execution_count": 6,
   "metadata": {
    "_uuid": "c3b88b378d4108c61a0f769befb334946f3dbf1d"
   },
   "outputs": [],
   "source": [
    "def substrings_in_string(big_string, substrings):\n",
    "    for substring in substrings:\n",
    "        if str.find(big_string, substring) != -1:\n",
    "            return substring\n",
    "    # print (big_string)\n",
    "    return np.nan\n",
    "\n",
    "def replace_titles(x):\n",
    "    title=x['salut']\n",
    "    if title in ['Don', 'Major', 'Capt', 'Jonkheer', 'Rev', 'Col', 'Sir']:\n",
    "        return 'Mr'\n",
    "    elif title in ['the Countess', 'Mme', 'Lady', 'Dona']:\n",
    "        return 'Mrs'\n",
    "    elif title in ['Mlle', 'Ms']:\n",
    "        return 'Miss'\n",
    "    elif title =='Dr':\n",
    "        if x['Sex']=='Male':\n",
    "            return 'Mr'\n",
    "        else:\n",
    "            return 'Mrs'\n",
    "    else:\n",
    "        return title"
   ]
  },
  {
   "cell_type": "markdown",
   "metadata": {},
   "source": [
    "## Data Preprocessing - Training Data"
   ]
  },
  {
   "cell_type": "code",
   "execution_count": 7,
   "metadata": {},
   "outputs": [
    {
     "name": "stdout",
     "output_type": "stream",
     "text": [
      "Unique values from salut - training dataset:\n",
      " ['Mr' 'Mrs' 'Miss' 'Master' 'Don' 'Rev' 'Dr' 'Mme' 'Ms' 'Major' 'Lady'\n",
      " 'Sir' 'Mlle' 'Col' 'Capt' 'the Countess' 'Jonkheer'] \n",
      "\n",
      "salut Before:\n",
      "Mr              517\n",
      "Miss            182\n",
      "Mrs             125\n",
      "Master           40\n",
      "Dr                7\n",
      "Rev               6\n",
      "Major             2\n",
      "Col               2\n",
      "Mlle              2\n",
      "Ms                1\n",
      "Jonkheer          1\n",
      "the Countess      1\n",
      "Capt              1\n",
      "Mme               1\n",
      "Lady              1\n",
      "Sir               1\n",
      "Don               1\n",
      "Name: salut, dtype: int64 \n",
      "\n",
      "Index(['PassengerId', 'Pclass', 'Name', 'Sex', 'Age', 'SibSp', 'Parch',\n",
      "       'Ticket', 'Fare', 'Cabin', 'Embarked', 'salut'],\n",
      "      dtype='object') \n",
      "\n",
      "salut After:\n",
      "Mr        531\n",
      "Miss      185\n",
      "Mrs       135\n",
      "Master     40\n",
      "Name: salut, dtype: int64\n"
     ]
    },
    {
     "data": {
      "text/html": [
       "<div>\n",
       "<style scoped>\n",
       "    .dataframe tbody tr th:only-of-type {\n",
       "        vertical-align: middle;\n",
       "    }\n",
       "\n",
       "    .dataframe tbody tr th {\n",
       "        vertical-align: top;\n",
       "    }\n",
       "\n",
       "    .dataframe thead th {\n",
       "        text-align: right;\n",
       "    }\n",
       "</style>\n",
       "<table border=\"1\" class=\"dataframe\">\n",
       "  <thead>\n",
       "    <tr style=\"text-align: right;\">\n",
       "      <th>salut</th>\n",
       "      <th>Master</th>\n",
       "      <th>Miss</th>\n",
       "      <th>Mr</th>\n",
       "      <th>Mrs</th>\n",
       "    </tr>\n",
       "    <tr>\n",
       "      <th>Age</th>\n",
       "      <th></th>\n",
       "      <th></th>\n",
       "      <th></th>\n",
       "      <th></th>\n",
       "    </tr>\n",
       "  </thead>\n",
       "  <tbody>\n",
       "    <tr>\n",
       "      <th>62.0</th>\n",
       "      <td>0</td>\n",
       "      <td>0</td>\n",
       "      <td>3</td>\n",
       "      <td>1</td>\n",
       "    </tr>\n",
       "    <tr>\n",
       "      <th>63.0</th>\n",
       "      <td>0</td>\n",
       "      <td>1</td>\n",
       "      <td>0</td>\n",
       "      <td>1</td>\n",
       "    </tr>\n",
       "    <tr>\n",
       "      <th>64.0</th>\n",
       "      <td>0</td>\n",
       "      <td>0</td>\n",
       "      <td>2</td>\n",
       "      <td>0</td>\n",
       "    </tr>\n",
       "    <tr>\n",
       "      <th>65.0</th>\n",
       "      <td>0</td>\n",
       "      <td>0</td>\n",
       "      <td>3</td>\n",
       "      <td>0</td>\n",
       "    </tr>\n",
       "    <tr>\n",
       "      <th>66.0</th>\n",
       "      <td>0</td>\n",
       "      <td>0</td>\n",
       "      <td>1</td>\n",
       "      <td>0</td>\n",
       "    </tr>\n",
       "    <tr>\n",
       "      <th>70.0</th>\n",
       "      <td>0</td>\n",
       "      <td>0</td>\n",
       "      <td>2</td>\n",
       "      <td>0</td>\n",
       "    </tr>\n",
       "    <tr>\n",
       "      <th>70.5</th>\n",
       "      <td>0</td>\n",
       "      <td>0</td>\n",
       "      <td>1</td>\n",
       "      <td>0</td>\n",
       "    </tr>\n",
       "    <tr>\n",
       "      <th>71.0</th>\n",
       "      <td>0</td>\n",
       "      <td>0</td>\n",
       "      <td>2</td>\n",
       "      <td>0</td>\n",
       "    </tr>\n",
       "    <tr>\n",
       "      <th>74.0</th>\n",
       "      <td>0</td>\n",
       "      <td>0</td>\n",
       "      <td>1</td>\n",
       "      <td>0</td>\n",
       "    </tr>\n",
       "    <tr>\n",
       "      <th>80.0</th>\n",
       "      <td>0</td>\n",
       "      <td>0</td>\n",
       "      <td>1</td>\n",
       "      <td>0</td>\n",
       "    </tr>\n",
       "  </tbody>\n",
       "</table>\n",
       "</div>"
      ],
      "text/plain": [
       "salut  Master  Miss  Mr  Mrs\n",
       "Age                         \n",
       "62.0        0     0   3    1\n",
       "63.0        0     1   0    1\n",
       "64.0        0     0   2    0\n",
       "65.0        0     0   3    0\n",
       "66.0        0     0   1    0\n",
       "70.0        0     0   2    0\n",
       "70.5        0     0   1    0\n",
       "71.0        0     0   2    0\n",
       "74.0        0     0   1    0\n",
       "80.0        0     0   1    0"
      ]
     },
     "execution_count": 7,
     "metadata": {},
     "output_type": "execute_result"
    }
   ],
   "source": [
    "# Split Name and extract the salutation\n",
    "\n",
    "X_train['salut'] = X_train['Name'].str.split(',',expand=True)[1].str.split('.',expand=True)[0].str.strip()\n",
    "print(\"Unique values from salut - training dataset:\\n\", X_train['salut'].unique(), \"\\n\")\n",
    "\n",
    "print (\"salut Before:\")\n",
    "print (X_train['salut'].value_counts(), \"\\n\")\n",
    "\n",
    "# X_train.drop(['firstname', 'last_name', 'lastname', 'lastname1'], axis=1, inplace=True)\n",
    "print (X_train.columns, \"\\n\")\n",
    "\n",
    "X_train['salut']=X_train.apply(replace_titles, axis=1)\n",
    "print (\"salut After:\")\n",
    "print (X_train['salut'].value_counts())\n",
    "\n",
    "Age_salut = pd.crosstab(X_train.Age, X_train.salut)\n",
    "Age_salut.tail(10)"
   ]
  },
  {
   "cell_type": "markdown",
   "metadata": {},
   "source": [
    "## Imputing data to fill in the missing values"
   ]
  },
  {
   "cell_type": "code",
   "execution_count": 8,
   "metadata": {},
   "outputs": [
    {
     "name": "stdout",
     "output_type": "stream",
     "text": [
      "Null values for Age before imputation:  177\n",
      "Null values for Age after imputation:  0\n"
     ]
    }
   ],
   "source": [
    "# Imputing Age - We are using the 'salut' feature to group the respondent to impute the age\n",
    "print (\"Null values for Age before imputation: \", X_train['Age'].isnull().sum())\n",
    "X_train['Age'] = X_train.groupby('salut').Age.transform(lambda x: x.fillna(x.mean()))\n",
    "print (\"Null values for Age after imputation: \", X_train['Age'].isnull().sum())"
   ]
  },
  {
   "cell_type": "code",
   "execution_count": 9,
   "metadata": {},
   "outputs": [
    {
     "name": "stdout",
     "output_type": "stream",
     "text": [
      "Null values for Cabin before imputation:  687\n",
      "Value Counts of Cabin - Before\n",
      "NaN            687\n",
      "B96 B98          4\n",
      "C23 C25 C27      4\n",
      "G6               4\n",
      "C22 C26          3\n",
      "              ... \n",
      "B80              1\n",
      "B101             1\n",
      "C99              1\n",
      "E12              1\n",
      "E49              1\n",
      "Name: Cabin, Length: 148, dtype: int64\n",
      "Value Counts of Cabin - After\n",
      "Null           687\n",
      "C23 C25 C27      4\n",
      "G6               4\n",
      "B96 B98          4\n",
      "F33              3\n",
      "              ... \n",
      "B80              1\n",
      "B101             1\n",
      "C99              1\n",
      "E12              1\n",
      "E31              1\n",
      "Name: Cabin, Length: 148, dtype: int64\n"
     ]
    }
   ],
   "source": [
    "# Imputing Cabin - This cannot be imputed as there is no logic and hence we fill the NAs with 'Null' string\n",
    "print(\"Null values for Cabin before imputation: \", X_train['Cabin'].isnull().sum())\n",
    "\n",
    "print(\"Value Counts of Cabin - Before\")\n",
    "print (X_train['Cabin'].value_counts(dropna = False))\n",
    "\n",
    "X_train['Cabin'] = X_train['Cabin'].fillna('Null')\n",
    "\n",
    "print(\"Value Counts of Cabin - After\")\n",
    "print (X_train['Cabin'].value_counts(dropna = False))"
   ]
  },
  {
   "cell_type": "code",
   "execution_count": 10,
   "metadata": {},
   "outputs": [
    {
     "name": "stdout",
     "output_type": "stream",
     "text": [
      "Null values after imputation: \n",
      "PassengerId    0\n",
      "Pclass         0\n",
      "Name           0\n",
      "Sex            0\n",
      "Age            0\n",
      "SibSp          0\n",
      "Parch          0\n",
      "Ticket         0\n",
      "Fare           0\n",
      "Cabin          0\n",
      "Embarked       0\n",
      "salut          0\n",
      "dtype: int64\n"
     ]
    }
   ],
   "source": [
    "# Imputing the whole dataset just in case there are any furhter missing values\n",
    "X_train = X_train.fillna(method='ffill').fillna(method='bfill')\n",
    "print(\"Null values after imputation: \")\n",
    "print(X_train.isnull().sum())"
   ]
  },
  {
   "cell_type": "markdown",
   "metadata": {},
   "source": [
    "## Feature Engineering"
   ]
  },
  {
   "cell_type": "code",
   "execution_count": 11,
   "metadata": {},
   "outputs": [
    {
     "data": {
      "text/plain": [
       "Null    687\n",
       "C        59\n",
       "B        47\n",
       "E        33\n",
       "D        33\n",
       "A        15\n",
       "F        12\n",
       "G         4\n",
       "T         1\n",
       "Name: Deck, dtype: int64"
      ]
     },
     "execution_count": 11,
     "metadata": {},
     "output_type": "execute_result"
    }
   ],
   "source": [
    "# Deck\n",
    "cabin_list = ['A', 'B', 'C', 'D', 'E', 'F', 'T', 'G', 'Null']\n",
    "X_train['Deck']=X_train['Cabin'].map(lambda x: substrings_in_string(x, cabin_list))\n",
    "\n",
    "X_train['Deck'].value_counts()"
   ]
  },
  {
   "cell_type": "code",
   "execution_count": 12,
   "metadata": {},
   "outputs": [
    {
     "name": "stdout",
     "output_type": "stream",
     "text": [
      "1     537\n",
      "2     161\n",
      "3     102\n",
      "4      29\n",
      "6      22\n",
      "5      15\n",
      "7      12\n",
      "11      7\n",
      "8       6\n",
      "Name: FamilySize, dtype: int64\n"
     ]
    }
   ],
   "source": [
    "# Family Size and Fare per Passenger\n",
    "X_train['FamilySize'] = X_train['SibSp'] + X_train['Parch'] + 1\n",
    "# X_train['FarePerPassenger'] = X_train['Fare']/(X_train['FamilySize'])\n",
    "\n",
    "print(X_train['FamilySize'].value_counts())\n",
    "# print()\n",
    "# print(X_train['FarePerPassenger'].value_counts())"
   ]
  },
  {
   "cell_type": "markdown",
   "metadata": {},
   "source": [
    "## Converting Categorical and String features into Numeric"
   ]
  },
  {
   "cell_type": "code",
   "execution_count": 14,
   "metadata": {
    "_uuid": "eab93f8f93e80eda4dc0cb408eeb64e2b5ae98b9"
   },
   "outputs": [
    {
     "name": "stdout",
     "output_type": "stream",
     "text": [
      "Shape of training dataset after One Hot Encoding:  (891, 855)\n",
      "    Age  SibSp  Parch     Fare  FamilySize  Pclass_1  Pclass_2  Pclass_3  \\\n",
      "0  22.0      1      0   7.2500           2         0         0         1   \n",
      "1  38.0      1      0  71.2833           2         1         0         0   \n",
      "2  26.0      0      0   7.9250           1         0         0         1   \n",
      "3  35.0      1      0  53.1000           2         1         0         0   \n",
      "4  35.0      0      0   8.0500           1         0         0         1   \n",
      "\n",
      "   Sex_female  Sex_male  ...  Ticket_WE/P 5735  Deck_A  Deck_B  Deck_C  \\\n",
      "0           0         1  ...                 0       0       0       0   \n",
      "1           1         0  ...                 0       0       0       1   \n",
      "2           1         0  ...                 0       0       0       0   \n",
      "3           1         0  ...                 0       0       0       1   \n",
      "4           0         1  ...                 0       0       0       0   \n",
      "\n",
      "   Deck_D  Deck_E  Deck_F  Deck_G  Deck_Null  Deck_T  \n",
      "0       0       0       0       0          1       0  \n",
      "1       0       0       0       0          0       0  \n",
      "2       0       0       0       0          1       0  \n",
      "3       0       0       0       0          0       0  \n",
      "4       0       0       0       0          1       0  \n",
      "\n",
      "[5 rows x 855 columns]\n"
     ]
    }
   ],
   "source": [
    "# Drop features which are unique across respondents as they are not useful\n",
    "X_train.drop(['Name', 'PassengerId'], axis=1, inplace=True)\n",
    "\n",
    "# One Hot Encoding - To convert categorical to binary data\n",
    "X_train_dummies = pd.get_dummies(X_train, columns=['Pclass', 'Sex', 'Cabin', 'Embarked', 'salut', 'Ticket', 'Deck'])\n",
    "\n",
    "print (\"Shape of training dataset after One Hot Encoding: \", X_train_dummies.shape)\n",
    "print (X_train_dummies.head())"
   ]
  },
  {
   "cell_type": "markdown",
   "metadata": {},
   "source": [
    "## Test Data - ReadIn, Preprocess, Imputing, Feature Engineering and One Hot Encoding"
   ]
  },
  {
   "cell_type": "code",
   "execution_count": 15,
   "metadata": {},
   "outputs": [],
   "source": [
    "# ReadIn the test data\n",
    "\n",
    "titanic_test = pd.read_csv(\"titanic_test.csv\")"
   ]
  },
  {
   "cell_type": "code",
   "execution_count": 16,
   "metadata": {},
   "outputs": [
    {
     "name": "stdout",
     "output_type": "stream",
     "text": [
      "<class 'pandas.core.frame.DataFrame'>\n",
      "RangeIndex: 418 entries, 0 to 417\n",
      "Data columns (total 11 columns):\n",
      "PassengerId    418 non-null int64\n",
      "Pclass         418 non-null int64\n",
      "Name           418 non-null object\n",
      "Sex            418 non-null object\n",
      "Age            332 non-null float64\n",
      "SibSp          418 non-null int64\n",
      "Parch          418 non-null int64\n",
      "Ticket         418 non-null object\n",
      "Fare           417 non-null float64\n",
      "Cabin          91 non-null object\n",
      "Embarked       418 non-null object\n",
      "dtypes: float64(2), int64(4), object(5)\n",
      "memory usage: 36.0+ KB\n"
     ]
    }
   ],
   "source": [
    "titanic_test.info()"
   ]
  },
  {
   "cell_type": "code",
   "execution_count": 17,
   "metadata": {},
   "outputs": [
    {
     "data": {
      "text/html": [
       "<div>\n",
       "<style scoped>\n",
       "    .dataframe tbody tr th:only-of-type {\n",
       "        vertical-align: middle;\n",
       "    }\n",
       "\n",
       "    .dataframe tbody tr th {\n",
       "        vertical-align: top;\n",
       "    }\n",
       "\n",
       "    .dataframe thead th {\n",
       "        text-align: right;\n",
       "    }\n",
       "</style>\n",
       "<table border=\"1\" class=\"dataframe\">\n",
       "  <thead>\n",
       "    <tr style=\"text-align: right;\">\n",
       "      <th></th>\n",
       "      <th>PassengerId</th>\n",
       "      <th>Pclass</th>\n",
       "      <th>Name</th>\n",
       "      <th>Sex</th>\n",
       "      <th>Age</th>\n",
       "      <th>SibSp</th>\n",
       "      <th>Parch</th>\n",
       "      <th>Ticket</th>\n",
       "      <th>Fare</th>\n",
       "      <th>Cabin</th>\n",
       "      <th>Embarked</th>\n",
       "    </tr>\n",
       "  </thead>\n",
       "  <tbody>\n",
       "    <tr>\n",
       "      <th>0</th>\n",
       "      <td>892</td>\n",
       "      <td>3</td>\n",
       "      <td>Kelly, Mr. James</td>\n",
       "      <td>male</td>\n",
       "      <td>34.5</td>\n",
       "      <td>0</td>\n",
       "      <td>0</td>\n",
       "      <td>330911</td>\n",
       "      <td>7.8292</td>\n",
       "      <td>NaN</td>\n",
       "      <td>Q</td>\n",
       "    </tr>\n",
       "    <tr>\n",
       "      <th>1</th>\n",
       "      <td>893</td>\n",
       "      <td>3</td>\n",
       "      <td>Wilkes, Mrs. James (Ellen Needs)</td>\n",
       "      <td>female</td>\n",
       "      <td>47.0</td>\n",
       "      <td>1</td>\n",
       "      <td>0</td>\n",
       "      <td>363272</td>\n",
       "      <td>7.0000</td>\n",
       "      <td>NaN</td>\n",
       "      <td>S</td>\n",
       "    </tr>\n",
       "    <tr>\n",
       "      <th>2</th>\n",
       "      <td>894</td>\n",
       "      <td>2</td>\n",
       "      <td>Myles, Mr. Thomas Francis</td>\n",
       "      <td>male</td>\n",
       "      <td>62.0</td>\n",
       "      <td>0</td>\n",
       "      <td>0</td>\n",
       "      <td>240276</td>\n",
       "      <td>9.6875</td>\n",
       "      <td>NaN</td>\n",
       "      <td>Q</td>\n",
       "    </tr>\n",
       "    <tr>\n",
       "      <th>3</th>\n",
       "      <td>895</td>\n",
       "      <td>3</td>\n",
       "      <td>Wirz, Mr. Albert</td>\n",
       "      <td>male</td>\n",
       "      <td>27.0</td>\n",
       "      <td>0</td>\n",
       "      <td>0</td>\n",
       "      <td>315154</td>\n",
       "      <td>8.6625</td>\n",
       "      <td>NaN</td>\n",
       "      <td>S</td>\n",
       "    </tr>\n",
       "    <tr>\n",
       "      <th>4</th>\n",
       "      <td>896</td>\n",
       "      <td>3</td>\n",
       "      <td>Hirvonen, Mrs. Alexander (Helga E Lindqvist)</td>\n",
       "      <td>female</td>\n",
       "      <td>22.0</td>\n",
       "      <td>1</td>\n",
       "      <td>1</td>\n",
       "      <td>3101298</td>\n",
       "      <td>12.2875</td>\n",
       "      <td>NaN</td>\n",
       "      <td>S</td>\n",
       "    </tr>\n",
       "  </tbody>\n",
       "</table>\n",
       "</div>"
      ],
      "text/plain": [
       "   PassengerId  Pclass                                          Name     Sex  \\\n",
       "0          892       3                              Kelly, Mr. James    male   \n",
       "1          893       3              Wilkes, Mrs. James (Ellen Needs)  female   \n",
       "2          894       2                     Myles, Mr. Thomas Francis    male   \n",
       "3          895       3                              Wirz, Mr. Albert    male   \n",
       "4          896       3  Hirvonen, Mrs. Alexander (Helga E Lindqvist)  female   \n",
       "\n",
       "    Age  SibSp  Parch   Ticket     Fare Cabin Embarked  \n",
       "0  34.5      0      0   330911   7.8292   NaN        Q  \n",
       "1  47.0      1      0   363272   7.0000   NaN        S  \n",
       "2  62.0      0      0   240276   9.6875   NaN        Q  \n",
       "3  27.0      0      0   315154   8.6625   NaN        S  \n",
       "4  22.0      1      1  3101298  12.2875   NaN        S  "
      ]
     },
     "execution_count": 17,
     "metadata": {},
     "output_type": "execute_result"
    }
   ],
   "source": [
    "titanic_test.head()"
   ]
  },
  {
   "cell_type": "code",
   "execution_count": 18,
   "metadata": {},
   "outputs": [
    {
     "data": {
      "text/plain": [
       "PassengerId      0\n",
       "Pclass           0\n",
       "Name             0\n",
       "Sex              0\n",
       "Age             86\n",
       "SibSp            0\n",
       "Parch            0\n",
       "Ticket           0\n",
       "Fare             1\n",
       "Cabin          327\n",
       "Embarked         0\n",
       "dtype: int64"
      ]
     },
     "execution_count": 18,
     "metadata": {},
     "output_type": "execute_result"
    }
   ],
   "source": [
    "titanic_test.isnull().sum()"
   ]
  },
  {
   "cell_type": "code",
   "execution_count": 19,
   "metadata": {},
   "outputs": [
    {
     "name": "stdout",
     "output_type": "stream",
     "text": [
      "Unique values from salut - test dataset:\n",
      " ['Mr' 'Mrs' 'Miss' 'Master' 'Ms' 'Col' 'Rev' 'Dr' 'Dona']\n",
      "salut Before:\n",
      "Mr        240\n",
      "Miss       78\n",
      "Mrs        72\n",
      "Master     21\n",
      "Rev         2\n",
      "Col         2\n",
      "Ms          1\n",
      "Dr          1\n",
      "Dona        1\n",
      "Name: salut, dtype: int64\n",
      "Index(['PassengerId', 'Pclass', 'Name', 'Sex', 'Age', 'SibSp', 'Parch',\n",
      "       'Ticket', 'Fare', 'Cabin', 'Embarked', 'salut'],\n",
      "      dtype='object')\n",
      "salut After:\n",
      "Mr        244\n",
      "Miss       79\n",
      "Mrs        74\n",
      "Master     21\n",
      "Name: salut, dtype: int64\n",
      "salut  Master  Miss  Mr  Mrs\n",
      "Age                         \n",
      "0.17        0     1   0    0\n",
      "0.33        1     0   0    0\n",
      "0.75        1     0   0    0\n",
      "0.83        1     0   0    0\n",
      "0.92        0     1   0    0\n",
      "1.00        0     3   0    0\n",
      "salut  Master  Miss  Mr  Mrs\n",
      "Age                         \n",
      "61.0        0     0   2    0\n",
      "62.0        0     0   1    0\n",
      "63.0        0     0   1    1\n",
      "64.0        0     0   1    2\n",
      "67.0        0     0   1    0\n",
      "76.0        0     0   0    1\n"
     ]
    }
   ],
   "source": [
    "X_test = titanic_test.copy()\n",
    "\n",
    "# Split Name and extract the salutation\n",
    "X_test['salut'] = X_test['Name'].str.split(',',expand=True)[1].str.split('.',expand=True)[0].str.strip()\n",
    "print(\"Unique values from salut - test dataset:\\n\", X_test['salut'].unique())\n",
    "\n",
    "print (\"salut Before:\")\n",
    "print (X_test['salut'].value_counts())\n",
    "\n",
    "print (X_test.columns)\n",
    "\n",
    "X_test['salut']=X_test.apply(replace_titles, axis=1)\n",
    "\n",
    "print (\"salut After:\")\n",
    "print (X_test['salut'].value_counts())\n",
    "\n",
    "Age_salut_test = pd.crosstab(X_test.Age, X_test.salut)\n",
    "print(Age_salut_test.head(6))\n",
    "print(Age_salut_test.tail(6))"
   ]
  },
  {
   "cell_type": "code",
   "execution_count": 20,
   "metadata": {
    "_cell_guid": "add3b30e-ceda-4171-ad58-38140f50038b",
    "_uuid": "e899a2126368a63a402a685ebfa87e3eb5e71613"
   },
   "outputs": [
    {
     "name": "stdout",
     "output_type": "stream",
     "text": [
      "Null values for Age before imputation:  86\n",
      "Null values for Age after imputation:  0 \n",
      "\n",
      "Null values for Fare before imputation:  1\n",
      "Null values for Fare after imputation:  0 \n",
      "\n",
      "Null values for Cabin before imputation:  0\n",
      "Null values for Cabin after imputation:  0 \n",
      "\n",
      "Null values after imputation: \n",
      "PassengerId    0\n",
      "Pclass         0\n",
      "Name           0\n",
      "Sex            0\n",
      "Age            0\n",
      "SibSp          0\n",
      "Parch          0\n",
      "Ticket         0\n",
      "Fare           0\n",
      "Cabin          0\n",
      "Embarked       0\n",
      "salut          0\n",
      "dtype: int64\n"
     ]
    }
   ],
   "source": [
    "# Imputing missing values - Test Data\n",
    "print (\"Null values for Age before imputation: \", X_test['Age'].isnull().sum())\n",
    "X_test['Age'] = X_test.groupby('salut').Age.transform(lambda x: x.fillna(x.mean()))\n",
    "print (\"Null values for Age after imputation: \", X_test['Age'].isnull().sum(), \"\\n\")\n",
    "\n",
    "print (\"Null values for Fare before imputation: \", X_test['Fare'].isnull().sum())\n",
    "X_test['Fare'] = X_test.groupby('Pclass').Fare.transform(lambda x: x.fillna(x.median()))\n",
    "print (\"Null values for Fare after imputation: \", X_test['Fare'].isnull().sum(), \"\\n\")\n",
    "\n",
    "print(\"Null values for Cabin before imputation: \", X_train['Cabin'].isnull().sum())\n",
    "X_test['Cabin'] = X_test['Cabin'].fillna('Null')\n",
    "print(\"Null values for Cabin after imputation: \", X_train['Cabin'].isnull().sum(), \"\\n\")\n",
    "\n",
    "# Imputing the whole dataset just in case there are any furhter missing values\n",
    "X_test = X_test.fillna(method='ffill').fillna(method='bfill')\n",
    "\n",
    "print(\"Null values after imputation: \")\n",
    "print(X_test.isnull().sum())"
   ]
  },
  {
   "cell_type": "code",
   "execution_count": 21,
   "metadata": {},
   "outputs": [
    {
     "name": "stdout",
     "output_type": "stream",
     "text": [
      "Null    327\n",
      "C        35\n",
      "B        18\n",
      "D        13\n",
      "E        11\n",
      "A         7\n",
      "F         6\n",
      "G         1\n",
      "Name: Deck, dtype: int64 \n",
      "\n",
      "1     253\n",
      "2      74\n",
      "3      57\n",
      "4      14\n",
      "5       7\n",
      "11      4\n",
      "7       4\n",
      "6       3\n",
      "8       2\n",
      "Name: FamilySize, dtype: int64 \n",
      "\n"
     ]
    }
   ],
   "source": [
    "## Feature Engineering\n",
    "# Deck\n",
    "X_test['Deck']=X_test['Cabin'].map(lambda x: substrings_in_string(x, cabin_list))\n",
    "print(X_test['Deck'].value_counts(), \"\\n\")\n",
    "\n",
    "# Family Size and Fare per Passenger\n",
    "X_test['FamilySize'] = X_test['SibSp'] + X_test['Parch'] + 1\n",
    "# X_test['FarePerPassenger'] = X_test['Fare']/(X_test['FamilySize'] + 1)\n",
    "\n",
    "print(X_test['FamilySize'].value_counts(), \"\\n\")\n",
    "# print()\n",
    "# print(X_test['FarePerPassenger'].value_counts(), \"\\n\")"
   ]
  },
  {
   "cell_type": "code",
   "execution_count": 22,
   "metadata": {},
   "outputs": [
    {
     "name": "stdout",
     "output_type": "stream",
     "text": [
      "Shape of test dataset after One Hot Encoding:  (418, 466)\n",
      "                                           Name   Age  SibSp  Parch     Fare  \\\n",
      "0                              Kelly, Mr. James  34.5      0      0   7.8292   \n",
      "1              Wilkes, Mrs. James (Ellen Needs)  47.0      1      0   7.0000   \n",
      "2                     Myles, Mr. Thomas Francis  62.0      0      0   9.6875   \n",
      "3                              Wirz, Mr. Albert  27.0      0      0   8.6625   \n",
      "4  Hirvonen, Mrs. Alexander (Helga E Lindqvist)  22.0      1      1  12.2875   \n",
      "\n",
      "   FamilySize  Pclass_1  Pclass_2  Pclass_3  Sex_female  ...  \\\n",
      "0           1         0         0         1           0  ...   \n",
      "1           2         0         0         1           1  ...   \n",
      "2           1         0         1         0           0  ...   \n",
      "3           1         0         0         1           0  ...   \n",
      "4           3         0         0         1           1  ...   \n",
      "\n",
      "   Ticket_W./C. 6608  Ticket_W.E.P. 5734  Deck_A  Deck_B  Deck_C  Deck_D  \\\n",
      "0                  0                   0       0       0       0       0   \n",
      "1                  0                   0       0       0       0       0   \n",
      "2                  0                   0       0       0       0       0   \n",
      "3                  0                   0       0       0       0       0   \n",
      "4                  0                   0       0       0       0       0   \n",
      "\n",
      "   Deck_E  Deck_F  Deck_G  Deck_Null  \n",
      "0       0       0       0          1  \n",
      "1       0       0       0          1  \n",
      "2       0       0       0          1  \n",
      "3       0       0       0          1  \n",
      "4       0       0       0          1  \n",
      "\n",
      "[5 rows x 466 columns]\n"
     ]
    }
   ],
   "source": [
    "## Converting Categorical and String features into Numeric\n",
    "\n",
    "# Drop features which are unique across respondents as they are not useful\n",
    "X_test.drop(['PassengerId'], axis=1, inplace=True)\n",
    "\n",
    "# One Hot Encoding - To convert categorical to binary data\n",
    "X_test_dummies = pd.get_dummies(X_test, columns=['Pclass', 'Sex', 'Cabin', 'Embarked', 'salut', 'Ticket', 'Deck'])\n",
    "print (\"Shape of test dataset after One Hot Encoding: \", X_test_dummies.shape)\n",
    "print (X_test_dummies.head())"
   ]
  },
  {
   "cell_type": "code",
   "execution_count": 23,
   "metadata": {},
   "outputs": [
    {
     "name": "stdout",
     "output_type": "stream",
     "text": [
      "Shape of training dataset after One Hot Encoding:  (891, 855)\n",
      "Shape of test dataset after One Hot Encoding:  (418, 466)\n"
     ]
    }
   ],
   "source": [
    "print (\"Shape of training dataset after One Hot Encoding: \", X_train_dummies.shape)\n",
    "print (\"Shape of test dataset after One Hot Encoding: \", X_test_dummies.shape)"
   ]
  },
  {
   "cell_type": "code",
   "execution_count": 24,
   "metadata": {
    "_cell_guid": "3ef4c4c0-8a74-4685-8e78-ceea5092a7c5",
    "_uuid": "6c68eac37e1441787ae3f9234464e3bfc303b037"
   },
   "outputs": [
    {
     "name": "stdout",
     "output_type": "stream",
     "text": [
      "(891, 855)\n",
      "(418, 855)\n",
      "Age           0\n",
      "SibSp         0\n",
      "Parch         0\n",
      "Fare          0\n",
      "FamilySize    0\n",
      "             ..\n",
      "Deck_E        0\n",
      "Deck_F        0\n",
      "Deck_G        0\n",
      "Deck_Null     0\n",
      "Deck_T        0\n",
      "Length: 855, dtype: int64\n"
     ]
    }
   ],
   "source": [
    "# Align the Train and Test datset for One Hot Encoding \n",
    "X_train_final, X_test_final = X_train_dummies.align(X_test_dummies, join='left', axis=1)\n",
    "print (X_train_final.shape)\n",
    "print (X_test_final.shape)\n",
    "\n",
    "for col in (col for col in X_test_final.columns if X_test_final[col].isnull().any()):\n",
    "    X_test_final[col] = 0\n",
    "\n",
    "print(X_test_final.isnull().sum())"
   ]
  },
  {
   "cell_type": "markdown",
   "metadata": {},
   "source": [
    "## Model Training"
   ]
  },
  {
   "cell_type": "markdown",
   "metadata": {},
   "source": [
    "### Scaling the data"
   ]
  },
  {
   "cell_type": "markdown",
   "metadata": {},
   "source": [
    "#### Distribution of the original data"
   ]
  },
  {
   "cell_type": "code",
   "execution_count": 49,
   "metadata": {},
   "outputs": [
    {
     "data": {
      "text/html": [
       "<div>\n",
       "<style scoped>\n",
       "    .dataframe tbody tr th:only-of-type {\n",
       "        vertical-align: middle;\n",
       "    }\n",
       "\n",
       "    .dataframe tbody tr th {\n",
       "        vertical-align: top;\n",
       "    }\n",
       "\n",
       "    .dataframe thead th {\n",
       "        text-align: right;\n",
       "    }\n",
       "</style>\n",
       "<table border=\"1\" class=\"dataframe\">\n",
       "  <thead>\n",
       "    <tr style=\"text-align: right;\">\n",
       "      <th></th>\n",
       "      <th>count</th>\n",
       "      <th>mean</th>\n",
       "      <th>std</th>\n",
       "      <th>min</th>\n",
       "      <th>25%</th>\n",
       "      <th>50%</th>\n",
       "      <th>75%</th>\n",
       "      <th>max</th>\n",
       "    </tr>\n",
       "  </thead>\n",
       "  <tbody>\n",
       "    <tr>\n",
       "      <th>Age</th>\n",
       "      <td>891.0</td>\n",
       "      <td>29.826533</td>\n",
       "      <td>13.288444</td>\n",
       "      <td>0.42</td>\n",
       "      <td>21.845638</td>\n",
       "      <td>30.0000</td>\n",
       "      <td>36.0</td>\n",
       "      <td>80.0000</td>\n",
       "    </tr>\n",
       "    <tr>\n",
       "      <th>SibSp</th>\n",
       "      <td>891.0</td>\n",
       "      <td>0.523008</td>\n",
       "      <td>1.102743</td>\n",
       "      <td>0.00</td>\n",
       "      <td>0.000000</td>\n",
       "      <td>0.0000</td>\n",
       "      <td>1.0</td>\n",
       "      <td>8.0000</td>\n",
       "    </tr>\n",
       "    <tr>\n",
       "      <th>Fare</th>\n",
       "      <td>891.0</td>\n",
       "      <td>32.204208</td>\n",
       "      <td>49.693429</td>\n",
       "      <td>0.00</td>\n",
       "      <td>7.910400</td>\n",
       "      <td>14.4542</td>\n",
       "      <td>31.0</td>\n",
       "      <td>512.3292</td>\n",
       "    </tr>\n",
       "    <tr>\n",
       "      <th>FamilySize</th>\n",
       "      <td>891.0</td>\n",
       "      <td>1.904602</td>\n",
       "      <td>1.613459</td>\n",
       "      <td>1.00</td>\n",
       "      <td>1.000000</td>\n",
       "      <td>1.0000</td>\n",
       "      <td>2.0</td>\n",
       "      <td>11.0000</td>\n",
       "    </tr>\n",
       "    <tr>\n",
       "      <th>Pclass_3</th>\n",
       "      <td>891.0</td>\n",
       "      <td>0.551066</td>\n",
       "      <td>0.497665</td>\n",
       "      <td>0.00</td>\n",
       "      <td>0.000000</td>\n",
       "      <td>1.0000</td>\n",
       "      <td>1.0</td>\n",
       "      <td>1.0000</td>\n",
       "    </tr>\n",
       "    <tr>\n",
       "      <th>Sex_female</th>\n",
       "      <td>891.0</td>\n",
       "      <td>0.352413</td>\n",
       "      <td>0.477990</td>\n",
       "      <td>0.00</td>\n",
       "      <td>0.000000</td>\n",
       "      <td>0.0000</td>\n",
       "      <td>1.0</td>\n",
       "      <td>1.0000</td>\n",
       "    </tr>\n",
       "    <tr>\n",
       "      <th>Sex_male</th>\n",
       "      <td>891.0</td>\n",
       "      <td>0.647587</td>\n",
       "      <td>0.477990</td>\n",
       "      <td>0.00</td>\n",
       "      <td>0.000000</td>\n",
       "      <td>1.0000</td>\n",
       "      <td>1.0</td>\n",
       "      <td>1.0000</td>\n",
       "    </tr>\n",
       "  </tbody>\n",
       "</table>\n",
       "</div>"
      ],
      "text/plain": [
       "            count       mean        std   min        25%      50%   75%  \\\n",
       "Age         891.0  29.826533  13.288444  0.42  21.845638  30.0000  36.0   \n",
       "SibSp       891.0   0.523008   1.102743  0.00   0.000000   0.0000   1.0   \n",
       "Fare        891.0  32.204208  49.693429  0.00   7.910400  14.4542  31.0   \n",
       "FamilySize  891.0   1.904602   1.613459  1.00   1.000000   1.0000   2.0   \n",
       "Pclass_3    891.0   0.551066   0.497665  0.00   0.000000   1.0000   1.0   \n",
       "Sex_female  891.0   0.352413   0.477990  0.00   0.000000   0.0000   1.0   \n",
       "Sex_male    891.0   0.647587   0.477990  0.00   0.000000   1.0000   1.0   \n",
       "\n",
       "                 max  \n",
       "Age          80.0000  \n",
       "SibSp         8.0000  \n",
       "Fare        512.3292  \n",
       "FamilySize   11.0000  \n",
       "Pclass_3      1.0000  \n",
       "Sex_female    1.0000  \n",
       "Sex_male      1.0000  "
      ]
     },
     "execution_count": 49,
     "metadata": {},
     "output_type": "execute_result"
    }
   ],
   "source": [
    "X_train_final[['Age', 'SibSp', 'Fare', 'FamilySize', 'Pclass_3', 'Sex_female', 'Sex_male']].describe().T"
   ]
  },
  {
   "cell_type": "code",
   "execution_count": 40,
   "metadata": {},
   "outputs": [
    {
     "data": {
      "image/png": "[encoded data removed]",
      "text/plain": [
       "<Figure size 720x576 with 1 Axes>"
      ]
     },
     "metadata": {
      "needs_background": "light"
     },
     "output_type": "display_data"
    }
   ],
   "source": [
    "fig, (ax1) = plt.subplots(ncols=1, figsize=(10, 8))\n",
    "ax1.set_title('Original Distributions')\n",
    "\n",
    "column_list = ['Age', 'SibSp', 'Fare', 'FamilySize', 'Pclass_3', 'Sex_female', 'Sex_male']\n",
    "\n",
    "X_train_final[column_list].apply(sns.kdeplot, ax = ax1);"
   ]
  },
  {
   "cell_type": "code",
   "execution_count": 50,
   "metadata": {},
   "outputs": [
    {
     "data": {
      "text/html": [
       "<div>\n",
       "<style scoped>\n",
       "    .dataframe tbody tr th:only-of-type {\n",
       "        vertical-align: middle;\n",
       "    }\n",
       "\n",
       "    .dataframe tbody tr th {\n",
       "        vertical-align: top;\n",
       "    }\n",
       "\n",
       "    .dataframe thead th {\n",
       "        text-align: right;\n",
       "    }\n",
       "</style>\n",
       "<table border=\"1\" class=\"dataframe\">\n",
       "  <thead>\n",
       "    <tr style=\"text-align: right;\">\n",
       "      <th></th>\n",
       "      <th>count</th>\n",
       "      <th>mean</th>\n",
       "      <th>std</th>\n",
       "      <th>min</th>\n",
       "      <th>25%</th>\n",
       "      <th>50%</th>\n",
       "      <th>75%</th>\n",
       "      <th>max</th>\n",
       "    </tr>\n",
       "  </thead>\n",
       "  <tbody>\n",
       "    <tr>\n",
       "      <th>Age</th>\n",
       "      <td>891.0</td>\n",
       "      <td>0.369522</td>\n",
       "      <td>0.166982</td>\n",
       "      <td>0.0</td>\n",
       "      <td>0.269234</td>\n",
       "      <td>0.371701</td>\n",
       "      <td>0.447097</td>\n",
       "      <td>1.0</td>\n",
       "    </tr>\n",
       "    <tr>\n",
       "      <th>SibSp</th>\n",
       "      <td>891.0</td>\n",
       "      <td>0.065376</td>\n",
       "      <td>0.137843</td>\n",
       "      <td>0.0</td>\n",
       "      <td>0.000000</td>\n",
       "      <td>0.000000</td>\n",
       "      <td>0.125000</td>\n",
       "      <td>1.0</td>\n",
       "    </tr>\n",
       "    <tr>\n",
       "      <th>Fare</th>\n",
       "      <td>891.0</td>\n",
       "      <td>0.062858</td>\n",
       "      <td>0.096995</td>\n",
       "      <td>0.0</td>\n",
       "      <td>0.015440</td>\n",
       "      <td>0.028213</td>\n",
       "      <td>0.060508</td>\n",
       "      <td>1.0</td>\n",
       "    </tr>\n",
       "    <tr>\n",
       "      <th>FamilySize</th>\n",
       "      <td>891.0</td>\n",
       "      <td>0.090460</td>\n",
       "      <td>0.161346</td>\n",
       "      <td>0.0</td>\n",
       "      <td>0.000000</td>\n",
       "      <td>0.000000</td>\n",
       "      <td>0.100000</td>\n",
       "      <td>1.0</td>\n",
       "    </tr>\n",
       "    <tr>\n",
       "      <th>Pclass_3</th>\n",
       "      <td>891.0</td>\n",
       "      <td>0.551066</td>\n",
       "      <td>0.497665</td>\n",
       "      <td>0.0</td>\n",
       "      <td>0.000000</td>\n",
       "      <td>1.000000</td>\n",
       "      <td>1.000000</td>\n",
       "      <td>1.0</td>\n",
       "    </tr>\n",
       "    <tr>\n",
       "      <th>Sex_female</th>\n",
       "      <td>891.0</td>\n",
       "      <td>0.352413</td>\n",
       "      <td>0.477990</td>\n",
       "      <td>0.0</td>\n",
       "      <td>0.000000</td>\n",
       "      <td>0.000000</td>\n",
       "      <td>1.000000</td>\n",
       "      <td>1.0</td>\n",
       "    </tr>\n",
       "    <tr>\n",
       "      <th>Sex_male</th>\n",
       "      <td>891.0</td>\n",
       "      <td>0.647587</td>\n",
       "      <td>0.477990</td>\n",
       "      <td>0.0</td>\n",
       "      <td>0.000000</td>\n",
       "      <td>1.000000</td>\n",
       "      <td>1.000000</td>\n",
       "      <td>1.0</td>\n",
       "    </tr>\n",
       "  </tbody>\n",
       "</table>\n",
       "</div>"
      ],
      "text/plain": [
       "            count      mean       std  min       25%       50%       75%  max\n",
       "Age         891.0  0.369522  0.166982  0.0  0.269234  0.371701  0.447097  1.0\n",
       "SibSp       891.0  0.065376  0.137843  0.0  0.000000  0.000000  0.125000  1.0\n",
       "Fare        891.0  0.062858  0.096995  0.0  0.015440  0.028213  0.060508  1.0\n",
       "FamilySize  891.0  0.090460  0.161346  0.0  0.000000  0.000000  0.100000  1.0\n",
       "Pclass_3    891.0  0.551066  0.497665  0.0  0.000000  1.000000  1.000000  1.0\n",
       "Sex_female  891.0  0.352413  0.477990  0.0  0.000000  0.000000  1.000000  1.0\n",
       "Sex_male    891.0  0.647587  0.477990  0.0  0.000000  1.000000  1.000000  1.0"
      ]
     },
     "execution_count": 50,
     "metadata": {},
     "output_type": "execute_result"
    }
   ],
   "source": [
    "from sklearn.preprocessing import StandardScaler, MinMaxScaler, RobustScaler\n",
    "\n",
    "# standard_scaler = preprocessing.StandardScaler()\n",
    "# X_train_standard_scaled = standard_scaler.fit_transform(X_train_final)\n",
    "# X_test_standard_scaled = standard_scaler.fit_transform(X_test_final)\n",
    "\n",
    "scaler = MinMaxScaler()\n",
    "# scaler = RobustScaler()\n",
    "# scaler = StandardScaler()\n",
    "\n",
    "X_train_scaled = scaler.fit_transform(X_train_final)\n",
    "# print(X_train_scaled.mean(axis=0))\n",
    "X_test_scaled = scaler.transform(X_test_final)\n",
    "\n",
    "df_X_train_scaled = pd.DataFrame(X_train_scaled, columns=X_train_final.columns)"
   ]
  },
  {
   "cell_type": "markdown",
   "metadata": {},
   "source": [
    "#### Distribution of the scaled data"
   ]
  },
  {
   "cell_type": "code",
   "execution_count": null,
   "metadata": {},
   "outputs": [],
   "source": [
    "df_X_train_scaled[['Age', 'SibSp', 'Fare', 'FamilySize', 'Pclass_3', 'Sex_female', 'Sex_male']].describe().T"
   ]
  },
  {
   "cell_type": "code",
   "execution_count": 45,
   "metadata": {},
   "outputs": [
    {
     "data": {
      "image/png": "[encoded data removed]",
      "text/plain": [
       "<Figure size 720x576 with 1 Axes>"
      ]
     },
     "metadata": {
      "needs_background": "light"
     },
     "output_type": "display_data"
    }
   ],
   "source": [
    "# plot original distribution plot\n",
    "fig, (ax2) = plt.subplots(ncols=1, figsize=(10, 8))\n",
    "ax1.set_title('Scaled Distributions')\n",
    "\n",
    "column_list = ['Age', 'SibSp', 'Fare', 'FamilySize', 'Pclass_3', 'Sex_female', 'Sex_male']\n",
    "\n",
    "df_X_train_scaled[column_list].apply(sns.kdeplot, ax = ax2);"
   ]
  },
  {
   "cell_type": "code",
   "execution_count": 51,
   "metadata": {
    "_cell_guid": "682c5d7a-17c5-428a-8a5f-c6522dfec54d",
    "_uuid": "9062f190af0e65f91964fae8118adcd21c204c13"
   },
   "outputs": [
    {
     "name": "stdout",
     "output_type": "stream",
     "text": [
      "(623, 855)\n",
      "(268, 855)\n",
      "All: [61.61616162 38.38383838]\n",
      "Training: [61.63723917 38.36276083]\n",
      "Test: [61.56716418 38.43283582]\n"
     ]
    }
   ],
   "source": [
    "# split the data into train and evaluation data\n",
    "from sklearn.model_selection import train_test_split\n",
    "\n",
    "# X, val_X, y, val_y = train_test_split(X_train_final, y_train, train_size=0.7, test_size=0.3, random_state=123, stratify=y_train)\n",
    "\n",
    "# Applying scaled data\n",
    "X, val_X, y, val_y = train_test_split(df_X_train_scaled, y_train, train_size=0.7, test_size=0.3, random_state=123, stratify=y_train)\n",
    "\n",
    "print (X.shape)\n",
    "print (val_X.shape)\n",
    "print('All:', np.bincount(y_train) / float(len(y_train)) * 100.0)\n",
    "print('Training:', np.bincount(y) / float(len(y)) * 100.0)\n",
    "print('Test:', np.bincount(val_y) / float(len(val_y)) * 100.0)"
   ]
  },
  {
   "cell_type": "markdown",
   "metadata": {},
   "source": [
    "## Sklearn StackingClassifier"
   ]
  },
  {
   "cell_type": "code",
   "execution_count": 28,
   "metadata": {},
   "outputs": [],
   "source": [
    "from sklearn.linear_model import LogisticRegression\n",
    "from sklearn.ensemble import RandomForestClassifier\n",
    "from sklearn.tree import DecisionTreeClassifier\n",
    "from sklearn.neighbors import KNeighborsClassifier\n",
    "from sklearn.ensemble import StackingClassifier\n",
    "from sklearn.model_selection import GridSearchCV"
   ]
  },
  {
   "cell_type": "markdown",
   "metadata": {},
   "source": [
    "### Use GridSearchCV to find the best Random Forest estimator"
   ]
  },
  {
   "cell_type": "code",
   "execution_count": 83,
   "metadata": {},
   "outputs": [
    {
     "name": "stdout",
     "output_type": "stream",
     "text": [
      "Fitting 5 folds for each of 48 candidates, totalling 240 fits\n"
     ]
    },
    {
     "name": "stderr",
     "output_type": "stream",
     "text": [
      "[Parallel(n_jobs=-1)]: Using backend LokyBackend with 4 concurrent workers.\n",
      "[Parallel(n_jobs=-1)]: Done  40 tasks      | elapsed:    2.5s\n",
      "[Parallel(n_jobs=-1)]: Done 240 out of 240 | elapsed:   14.1s finished\n"
     ]
    },
    {
     "name": "stdout",
     "output_type": "stream",
     "text": [
      "Parameters:  <bound method BaseEstimator.get_params of GridSearchCV(cv=None, error_score=nan,\n",
      "             estimator=RandomForestClassifier(bootstrap=True, ccp_alpha=0.0,\n",
      "                                              class_weight=None,\n",
      "                                              criterion='gini', max_depth=None,\n",
      "                                              max_features='auto',\n",
      "                                              max_leaf_nodes=None,\n",
      "                                              max_samples=None,\n",
      "                                              min_impurity_decrease=0.0,\n",
      "                                              min_impurity_split=None,\n",
      "                                              min_samples_leaf=1,\n",
      "                                              min_samples_split=2,\n",
      "                                              min_weight_fraction_leaf=0.0,\n",
      "                                              n_estimators=100, n_jobs=None,\n",
      "                                              oob_score=False, random_state=42,\n",
      "                                              verbose=0, warm_start=False),\n",
      "             iid='deprecated', n_jobs=-1,\n",
      "             param_grid={'max_leaf_nodes': [90, 900, 9000, None],\n",
      "                         'min_samples_split': [2, 3, 4, 5],\n",
      "                         'n_estimators': [10, 20, 30]},\n",
      "             pre_dispatch='2*n_jobs', refit=True, return_train_score=False,\n",
      "             scoring=None, verbose=3)>\n",
      "\n",
      "GridSearchCV best score - Random Forest:  0.8411225806451613\n",
      "\n",
      "GridSearchCV best params - Random Forest:  {'max_leaf_nodes': None, 'min_samples_split': 2, 'n_estimators': 30}\n",
      "\n",
      "GridSearchCV best estimator - Random Forest:  RandomForestClassifier(bootstrap=True, ccp_alpha=0.0, class_weight=None,\n",
      "                       criterion='gini', max_depth=None, max_features='auto',\n",
      "                       max_leaf_nodes=None, max_samples=None,\n",
      "                       min_impurity_decrease=0.0, min_impurity_split=None,\n",
      "                       min_samples_leaf=1, min_samples_split=2,\n",
      "                       min_weight_fraction_leaf=0.0, n_estimators=30,\n",
      "                       n_jobs=None, oob_score=False, random_state=42, verbose=0,\n",
      "                       warm_start=False)\n",
      "\n",
      "GridSearchCV Score for validation data - Random Forest:  0.835820895522388\n"
     ]
    }
   ],
   "source": [
    "param_grid_rf = {'n_estimators': [10, 20, 30], \n",
    "                 'min_samples_split': [2, 3, 4, 5],\n",
    "                 'max_leaf_nodes':[90, 900, 9000, None]}\n",
    "\n",
    "model_random_forest_grid = GridSearchCV(RandomForestClassifier(random_state=42), param_grid=param_grid_rf, verbose=3, n_jobs=-1)\n",
    "model_random_forest_grid.fit(X, y)\n",
    "\n",
    "results_grid_rf = pd.DataFrame(model_random_forest_grid.cv_results_)\n",
    "\n",
    "print (\"Parameters: \", model_random_forest_grid.get_params)\n",
    "\n",
    "print(\"\\nGridSearchCV best score - Random Forest: \", model_random_forest_grid.best_score_)\n",
    "print(\"\\nGridSearchCV best params - Random Forest: \", model_random_forest_grid.best_params_)\n",
    "print(\"\\nGridSearchCV best estimator - Random Forest: \", model_random_forest_grid.best_estimator_)\n",
    "\n",
    "print (\"\\nGridSearchCV Score for validation data - Random Forest: \", model_random_forest_grid.score(val_X, val_y))"
   ]
  },
  {
   "cell_type": "code",
   "execution_count": 84,
   "metadata": {},
   "outputs": [
    {
     "name": "stdout",
     "output_type": "stream",
     "text": [
      "(48, 16)\n"
     ]
    },
    {
     "data": {
      "text/html": [
       "<div>\n",
       "<style scoped>\n",
       "    .dataframe tbody tr th:only-of-type {\n",
       "        vertical-align: middle;\n",
       "    }\n",
       "\n",
       "    .dataframe tbody tr th {\n",
       "        vertical-align: top;\n",
       "    }\n",
       "\n",
       "    .dataframe thead th {\n",
       "        text-align: right;\n",
       "    }\n",
       "</style>\n",
       "<table border=\"1\" class=\"dataframe\">\n",
       "  <thead>\n",
       "    <tr style=\"text-align: right;\">\n",
       "      <th></th>\n",
       "      <th>mean_fit_time</th>\n",
       "      <th>std_fit_time</th>\n",
       "      <th>mean_score_time</th>\n",
       "      <th>std_score_time</th>\n",
       "      <th>param_max_leaf_nodes</th>\n",
       "      <th>param_min_samples_split</th>\n",
       "      <th>param_n_estimators</th>\n",
       "      <th>params</th>\n",
       "      <th>split0_test_score</th>\n",
       "      <th>split1_test_score</th>\n",
       "      <th>split2_test_score</th>\n",
       "      <th>split3_test_score</th>\n",
       "      <th>split4_test_score</th>\n",
       "      <th>mean_test_score</th>\n",
       "      <th>std_test_score</th>\n",
       "      <th>rank_test_score</th>\n",
       "    </tr>\n",
       "  </thead>\n",
       "  <tbody>\n",
       "    <tr>\n",
       "      <th>0</th>\n",
       "      <td>0.077194</td>\n",
       "      <td>0.012450</td>\n",
       "      <td>0.008177</td>\n",
       "      <td>0.004009</td>\n",
       "      <td>90</td>\n",
       "      <td>2</td>\n",
       "      <td>10</td>\n",
       "      <td>{'max_leaf_nodes': 90, 'min_samples_split': 2,...</td>\n",
       "      <td>0.848</td>\n",
       "      <td>0.832</td>\n",
       "      <td>0.784</td>\n",
       "      <td>0.830645</td>\n",
       "      <td>0.838710</td>\n",
       "      <td>0.826671</td>\n",
       "      <td>0.022203</td>\n",
       "      <td>29</td>\n",
       "    </tr>\n",
       "    <tr>\n",
       "      <th>1</th>\n",
       "      <td>0.156781</td>\n",
       "      <td>0.023956</td>\n",
       "      <td>0.009975</td>\n",
       "      <td>0.004230</td>\n",
       "      <td>90</td>\n",
       "      <td>2</td>\n",
       "      <td>20</td>\n",
       "      <td>{'max_leaf_nodes': 90, 'min_samples_split': 2,...</td>\n",
       "      <td>0.840</td>\n",
       "      <td>0.832</td>\n",
       "      <td>0.784</td>\n",
       "      <td>0.846774</td>\n",
       "      <td>0.838710</td>\n",
       "      <td>0.828297</td>\n",
       "      <td>0.022639</td>\n",
       "      <td>21</td>\n",
       "    </tr>\n",
       "    <tr>\n",
       "      <th>2</th>\n",
       "      <td>0.215823</td>\n",
       "      <td>0.007767</td>\n",
       "      <td>0.013763</td>\n",
       "      <td>0.005477</td>\n",
       "      <td>90</td>\n",
       "      <td>2</td>\n",
       "      <td>30</td>\n",
       "      <td>{'max_leaf_nodes': 90, 'min_samples_split': 2,...</td>\n",
       "      <td>0.856</td>\n",
       "      <td>0.816</td>\n",
       "      <td>0.792</td>\n",
       "      <td>0.846774</td>\n",
       "      <td>0.830645</td>\n",
       "      <td>0.828284</td>\n",
       "      <td>0.022729</td>\n",
       "      <td>24</td>\n",
       "    </tr>\n",
       "  </tbody>\n",
       "</table>\n",
       "</div>"
      ],
      "text/plain": [
       "   mean_fit_time  std_fit_time  mean_score_time  std_score_time  \\\n",
       "0       0.077194      0.012450         0.008177        0.004009   \n",
       "1       0.156781      0.023956         0.009975        0.004230   \n",
       "2       0.215823      0.007767         0.013763        0.005477   \n",
       "\n",
       "  param_max_leaf_nodes param_min_samples_split param_n_estimators  \\\n",
       "0                   90                       2                 10   \n",
       "1                   90                       2                 20   \n",
       "2                   90                       2                 30   \n",
       "\n",
       "                                              params  split0_test_score  \\\n",
       "0  {'max_leaf_nodes': 90, 'min_samples_split': 2,...              0.848   \n",
       "1  {'max_leaf_nodes': 90, 'min_samples_split': 2,...              0.840   \n",
       "2  {'max_leaf_nodes': 90, 'min_samples_split': 2,...              0.856   \n",
       "\n",
       "   split1_test_score  split2_test_score  split3_test_score  split4_test_score  \\\n",
       "0              0.832              0.784           0.830645           0.838710   \n",
       "1              0.832              0.784           0.846774           0.838710   \n",
       "2              0.816              0.792           0.846774           0.830645   \n",
       "\n",
       "   mean_test_score  std_test_score  rank_test_score  \n",
       "0         0.826671        0.022203               29  \n",
       "1         0.828297        0.022639               21  \n",
       "2         0.828284        0.022729               24  "
      ]
     },
     "execution_count": 84,
     "metadata": {},
     "output_type": "execute_result"
    }
   ],
   "source": [
    "print(results_grid_rf.shape)\n",
    "results_grid_rf.head(3)"
   ]
  },
  {
   "cell_type": "code",
   "execution_count": 85,
   "metadata": {},
   "outputs": [
    {
     "data": {
      "image/png": "[encoded data removed]",
      "text/plain": [
       "<Figure size 864x576 with 1 Axes>"
      ]
     },
     "metadata": {
      "needs_background": "light"
     },
     "output_type": "display_data"
    }
   ],
   "source": [
    "current_palette = sns.color_palette(\"Set2\", 4)\n",
    "\n",
    "plt.figure(figsize=(12,8))\n",
    "\n",
    "sns.lineplot(data=results_grid_rf,\n",
    "             x='param_n_estimators',\n",
    "             y='mean_test_score',\n",
    "             hue='param_min_samples_split',\n",
    "             palette=current_palette,\n",
    "             marker='o')\n",
    "\n",
    "plt.show()"
   ]
  },
  {
   "cell_type": "markdown",
   "metadata": {},
   "source": [
    "### Use GridSearchCV to find the best kNN estimator"
   ]
  },
  {
   "cell_type": "code",
   "execution_count": 86,
   "metadata": {},
   "outputs": [
    {
     "name": "stdout",
     "output_type": "stream",
     "text": [
      "Fitting 5 folds for each of 32 candidates, totalling 160 fits\n"
     ]
    },
    {
     "name": "stderr",
     "output_type": "stream",
     "text": [
      "[Parallel(n_jobs=-1)]: Using backend LokyBackend with 4 concurrent workers.\n",
      "[Parallel(n_jobs=-1)]: Done  24 tasks      | elapsed:    2.1s\n",
      "[Parallel(n_jobs=-1)]: Done 120 tasks      | elapsed:    9.5s\n",
      "[Parallel(n_jobs=-1)]: Done 160 out of 160 | elapsed:   10.1s finished\n"
     ]
    },
    {
     "name": "stdout",
     "output_type": "stream",
     "text": [
      "\n",
      "GridSearchCV best score - k-Nearest Neighbor:  0.8298967741935485\n",
      "\n",
      "GridSearchCV best params - k-Nearest Neighbor:  {'algorithm': 'auto', 'n_neighbors': 10, 'weights': 'distance'}\n",
      "\n",
      "GridSearchCV best estimator - k-Nearest Neighbor:  KNeighborsClassifier(algorithm='auto', leaf_size=30, metric='minkowski',\n",
      "                     metric_params=None, n_jobs=None, n_neighbors=10, p=2,\n",
      "                     weights='distance')\n",
      "\n",
      "GridSearchCV Score for validation data - k-Nearest Neighbor:  0.832089552238806\n"
     ]
    }
   ],
   "source": [
    "param_grid_kNN = {'n_neighbors': [1, 5, 10, 15], \n",
    "                  'weights': ['uniform', 'distance'], \n",
    "                  'algorithm': ['auto', 'ball_tree', 'kd_tree', 'brute']}\n",
    "\n",
    "model_knearest_neighbors_grid = GridSearchCV(KNeighborsClassifier(), param_grid=param_grid_kNN, verbose=3, n_jobs=-1)\n",
    "model_knearest_neighbors_grid.fit(X, y)\n",
    "\n",
    "results_grid_kNN = pd.DataFrame(model_knearest_neighbors_grid.cv_results_)\n",
    "\n",
    "# print (\"Parameters: \", model_knearest_neighbors_grid.get_params)\n",
    "\n",
    "print(\"\\nGridSearchCV best score - k-Nearest Neighbor: \", model_knearest_neighbors_grid.best_score_)\n",
    "print(\"\\nGridSearchCV best params - k-Nearest Neighbor: \", model_knearest_neighbors_grid.best_params_)\n",
    "print(\"\\nGridSearchCV best estimator - k-Nearest Neighbor: \", model_knearest_neighbors_grid.best_estimator_)\n",
    "\n",
    "print (\"\\nGridSearchCV Score for validation data - k-Nearest Neighbor: \", model_knearest_neighbors_grid.score(val_X, val_y))"
   ]
  },
  {
   "cell_type": "code",
   "execution_count": 87,
   "metadata": {},
   "outputs": [
    {
     "name": "stdout",
     "output_type": "stream",
     "text": [
      "(32, 16)\n"
     ]
    },
    {
     "data": {
      "text/html": [
       "<div>\n",
       "<style scoped>\n",
       "    .dataframe tbody tr th:only-of-type {\n",
       "        vertical-align: middle;\n",
       "    }\n",
       "\n",
       "    .dataframe tbody tr th {\n",
       "        vertical-align: top;\n",
       "    }\n",
       "\n",
       "    .dataframe thead th {\n",
       "        text-align: right;\n",
       "    }\n",
       "</style>\n",
       "<table border=\"1\" class=\"dataframe\">\n",
       "  <thead>\n",
       "    <tr style=\"text-align: right;\">\n",
       "      <th></th>\n",
       "      <th>mean_fit_time</th>\n",
       "      <th>std_fit_time</th>\n",
       "      <th>mean_score_time</th>\n",
       "      <th>std_score_time</th>\n",
       "      <th>param_algorithm</th>\n",
       "      <th>param_n_neighbors</th>\n",
       "      <th>param_weights</th>\n",
       "      <th>params</th>\n",
       "      <th>split0_test_score</th>\n",
       "      <th>split1_test_score</th>\n",
       "      <th>split2_test_score</th>\n",
       "      <th>split3_test_score</th>\n",
       "      <th>split4_test_score</th>\n",
       "      <th>mean_test_score</th>\n",
       "      <th>std_test_score</th>\n",
       "      <th>rank_test_score</th>\n",
       "    </tr>\n",
       "  </thead>\n",
       "  <tbody>\n",
       "    <tr>\n",
       "      <th>0</th>\n",
       "      <td>0.204652</td>\n",
       "      <td>0.017036</td>\n",
       "      <td>0.132048</td>\n",
       "      <td>0.012624</td>\n",
       "      <td>auto</td>\n",
       "      <td>1</td>\n",
       "      <td>uniform</td>\n",
       "      <td>{'algorithm': 'auto', 'n_neighbors': 1, 'weigh...</td>\n",
       "      <td>0.784</td>\n",
       "      <td>0.792</td>\n",
       "      <td>0.720</td>\n",
       "      <td>0.790323</td>\n",
       "      <td>0.766129</td>\n",
       "      <td>0.770490</td>\n",
       "      <td>0.026858</td>\n",
       "      <td>29</td>\n",
       "    </tr>\n",
       "    <tr>\n",
       "      <th>1</th>\n",
       "      <td>0.195675</td>\n",
       "      <td>0.015811</td>\n",
       "      <td>0.106319</td>\n",
       "      <td>0.007262</td>\n",
       "      <td>auto</td>\n",
       "      <td>1</td>\n",
       "      <td>distance</td>\n",
       "      <td>{'algorithm': 'auto', 'n_neighbors': 1, 'weigh...</td>\n",
       "      <td>0.784</td>\n",
       "      <td>0.792</td>\n",
       "      <td>0.720</td>\n",
       "      <td>0.790323</td>\n",
       "      <td>0.766129</td>\n",
       "      <td>0.770490</td>\n",
       "      <td>0.026858</td>\n",
       "      <td>29</td>\n",
       "    </tr>\n",
       "    <tr>\n",
       "      <th>2</th>\n",
       "      <td>0.191088</td>\n",
       "      <td>0.008334</td>\n",
       "      <td>0.147808</td>\n",
       "      <td>0.015786</td>\n",
       "      <td>auto</td>\n",
       "      <td>5</td>\n",
       "      <td>uniform</td>\n",
       "      <td>{'algorithm': 'auto', 'n_neighbors': 5, 'weigh...</td>\n",
       "      <td>0.864</td>\n",
       "      <td>0.792</td>\n",
       "      <td>0.768</td>\n",
       "      <td>0.838710</td>\n",
       "      <td>0.798387</td>\n",
       "      <td>0.812219</td>\n",
       "      <td>0.034463</td>\n",
       "      <td>13</td>\n",
       "    </tr>\n",
       "  </tbody>\n",
       "</table>\n",
       "</div>"
      ],
      "text/plain": [
       "   mean_fit_time  std_fit_time  mean_score_time  std_score_time  \\\n",
       "0       0.204652      0.017036         0.132048        0.012624   \n",
       "1       0.195675      0.015811         0.106319        0.007262   \n",
       "2       0.191088      0.008334         0.147808        0.015786   \n",
       "\n",
       "  param_algorithm param_n_neighbors param_weights  \\\n",
       "0            auto                 1       uniform   \n",
       "1            auto                 1      distance   \n",
       "2            auto                 5       uniform   \n",
       "\n",
       "                                              params  split0_test_score  \\\n",
       "0  {'algorithm': 'auto', 'n_neighbors': 1, 'weigh...              0.784   \n",
       "1  {'algorithm': 'auto', 'n_neighbors': 1, 'weigh...              0.784   \n",
       "2  {'algorithm': 'auto', 'n_neighbors': 5, 'weigh...              0.864   \n",
       "\n",
       "   split1_test_score  split2_test_score  split3_test_score  split4_test_score  \\\n",
       "0              0.792              0.720           0.790323           0.766129   \n",
       "1              0.792              0.720           0.790323           0.766129   \n",
       "2              0.792              0.768           0.838710           0.798387   \n",
       "\n",
       "   mean_test_score  std_test_score  rank_test_score  \n",
       "0         0.770490        0.026858               29  \n",
       "1         0.770490        0.026858               29  \n",
       "2         0.812219        0.034463               13  "
      ]
     },
     "execution_count": 87,
     "metadata": {},
     "output_type": "execute_result"
    }
   ],
   "source": [
    "print(results_grid_kNN.shape)\n",
    "results_grid_kNN.head(3)"
   ]
  },
  {
   "cell_type": "code",
   "execution_count": 88,
   "metadata": {},
   "outputs": [
    {
     "data": {
      "image/png": "[encoded data removed]",
      "text/plain": [
       "<Figure size 864x576 with 1 Axes>"
      ]
     },
     "metadata": {
      "needs_background": "light"
     },
     "output_type": "display_data"
    }
   ],
   "source": [
    "current_palette = sns.color_palette(\"Set2\", 2)\n",
    "\n",
    "plt.figure(figsize=(12,8))\n",
    "\n",
    "sns.lineplot(data=results_grid_kNN,\n",
    "             x='param_n_neighbors',\n",
    "             y='mean_test_score',\n",
    "             hue='param_weights',\n",
    "             palette=current_palette,\n",
    "             marker='o')\n",
    "\n",
    "plt.show()"
   ]
  },
  {
   "cell_type": "code",
   "execution_count": 89,
   "metadata": {},
   "outputs": [],
   "source": [
    "estimators = [\n",
    "    ('rf', model_random_forest_grid.best_estimator_),\n",
    "    ('kNN', model_knearest_neighbors_grid.best_estimator_)\n",
    "]\n",
    "# model_stacking_clf = StackingClassifier(estimators=estimators, final_estimator=LogisticRegression(), n_jobs=-1)\n",
    "model_stacking_clf = StackingClassifier(estimators=estimators, final_estimator=LogisticRegression())"
   ]
  },
  {
   "cell_type": "code",
   "execution_count": 95,
   "metadata": {},
   "outputs": [
    {
     "name": "stdout",
     "output_type": "stream",
     "text": [
      "Parameters for Stacking Classifier:\n"
     ]
    },
    {
     "data": {
      "text/plain": [
       "{'cv': None,\n",
       " 'estimators': [('rf',\n",
       "   RandomForestClassifier(bootstrap=True, ccp_alpha=0.0, class_weight=None,\n",
       "                          criterion='gini', max_depth=None, max_features='auto',\n",
       "                          max_leaf_nodes=None, max_samples=None,\n",
       "                          min_impurity_decrease=0.0, min_impurity_split=None,\n",
       "                          min_samples_leaf=1, min_samples_split=2,\n",
       "                          min_weight_fraction_leaf=0.0, n_estimators=30,\n",
       "                          n_jobs=None, oob_score=False, random_state=42, verbose=0,\n",
       "                          warm_start=False)),\n",
       "  ('kNN',\n",
       "   KNeighborsClassifier(algorithm='auto', leaf_size=30, metric='minkowski',\n",
       "                        metric_params=None, n_jobs=None, n_neighbors=10, p=2,\n",
       "                        weights='distance'))],\n",
       " 'final_estimator__C': 1.0,\n",
       " 'final_estimator__class_weight': None,\n",
       " 'final_estimator__dual': False,\n",
       " 'final_estimator__fit_intercept': True,\n",
       " 'final_estimator__intercept_scaling': 1,\n",
       " 'final_estimator__l1_ratio': None,\n",
       " 'final_estimator__max_iter': 100,\n",
       " 'final_estimator__multi_class': 'auto',\n",
       " 'final_estimator__n_jobs': None,\n",
       " 'final_estimator__penalty': 'l2',\n",
       " 'final_estimator__random_state': None,\n",
       " 'final_estimator__solver': 'lbfgs',\n",
       " 'final_estimator__tol': 0.0001,\n",
       " 'final_estimator__verbose': 0,\n",
       " 'final_estimator__warm_start': False,\n",
       " 'final_estimator': LogisticRegression(C=1.0, class_weight=None, dual=False, fit_intercept=True,\n",
       "                    intercept_scaling=1, l1_ratio=None, max_iter=100,\n",
       "                    multi_class='auto', n_jobs=None, penalty='l2',\n",
       "                    random_state=None, solver='lbfgs', tol=0.0001, verbose=0,\n",
       "                    warm_start=False),\n",
       " 'n_jobs': None,\n",
       " 'passthrough': False,\n",
       " 'stack_method': 'auto',\n",
       " 'verbose': 0,\n",
       " 'rf': RandomForestClassifier(bootstrap=True, ccp_alpha=0.0, class_weight=None,\n",
       "                        criterion='gini', max_depth=None, max_features='auto',\n",
       "                        max_leaf_nodes=None, max_samples=None,\n",
       "                        min_impurity_decrease=0.0, min_impurity_split=None,\n",
       "                        min_samples_leaf=1, min_samples_split=2,\n",
       "                        min_weight_fraction_leaf=0.0, n_estimators=30,\n",
       "                        n_jobs=None, oob_score=False, random_state=42, verbose=0,\n",
       "                        warm_start=False),\n",
       " 'kNN': KNeighborsClassifier(algorithm='auto', leaf_size=30, metric='minkowski',\n",
       "                      metric_params=None, n_jobs=None, n_neighbors=10, p=2,\n",
       "                      weights='distance'),\n",
       " 'rf__bootstrap': True,\n",
       " 'rf__ccp_alpha': 0.0,\n",
       " 'rf__class_weight': None,\n",
       " 'rf__criterion': 'gini',\n",
       " 'rf__max_depth': None,\n",
       " 'rf__max_features': 'auto',\n",
       " 'rf__max_leaf_nodes': None,\n",
       " 'rf__max_samples': None,\n",
       " 'rf__min_impurity_decrease': 0.0,\n",
       " 'rf__min_impurity_split': None,\n",
       " 'rf__min_samples_leaf': 1,\n",
       " 'rf__min_samples_split': 2,\n",
       " 'rf__min_weight_fraction_leaf': 0.0,\n",
       " 'rf__n_estimators': 30,\n",
       " 'rf__n_jobs': None,\n",
       " 'rf__oob_score': False,\n",
       " 'rf__random_state': 42,\n",
       " 'rf__verbose': 0,\n",
       " 'rf__warm_start': False,\n",
       " 'kNN__algorithm': 'auto',\n",
       " 'kNN__leaf_size': 30,\n",
       " 'kNN__metric': 'minkowski',\n",
       " 'kNN__metric_params': None,\n",
       " 'kNN__n_jobs': None,\n",
       " 'kNN__n_neighbors': 10,\n",
       " 'kNN__p': 2,\n",
       " 'kNN__weights': 'distance'}"
      ]
     },
     "execution_count": 95,
     "metadata": {},
     "output_type": "execute_result"
    }
   ],
   "source": [
    "# model_stacking_clf.fit(X, y).score(val_X, val_y)\n",
    "model_stacking_clf.fit(X, y)\n",
    "print(\"Parameters for Stacking Classifier:\")\n",
    "model_stacking_clf.get_params()"
   ]
  },
  {
   "cell_type": "code",
   "execution_count": 96,
   "metadata": {},
   "outputs": [
    {
     "name": "stdout",
     "output_type": "stream",
     "text": [
      "Count for validation data - actual:  [165 103]\n",
      "Count for validation data - prediction:  [179  89] \n",
      "\n"
     ]
    }
   ],
   "source": [
    "predictions = model_stacking_clf.predict(val_X)\n",
    "predict_proba = model_stacking_clf.predict_proba(val_X)\n",
    "\n",
    "print (\"Count for validation data - actual: \", np.bincount(val_y))\n",
    "print (\"Count for validation data - prediction: \", np.bincount(predictions), \"\\n\")"
   ]
  },
  {
   "cell_type": "code",
   "execution_count": 97,
   "metadata": {},
   "outputs": [
    {
     "name": "stdout",
     "output_type": "stream",
     "text": [
      "Score for validation data - Stacked Classifier:  0.835820895522388 \n",
      "\n"
     ]
    }
   ],
   "source": [
    "score_val_dataset = model_stacking_clf.score(val_X, val_y)\n",
    "print (\"Score for validation data - Stacked Classifier: \", score_val_dataset, \"\\n\")"
   ]
  },
  {
   "cell_type": "code",
   "execution_count": 98,
   "metadata": {},
   "outputs": [
    {
     "name": "stdout",
     "output_type": "stream",
     "text": [
      "Predictions:  [0 1 0 0 0 0] \n",
      "\n",
      "Prediction Probabilities:\n",
      " [[0.81897739 0.18102261]\n",
      " [0.066223   0.933777  ]\n",
      " [0.89937739 0.10062261]\n",
      " [0.91852529 0.08147471]\n",
      " [0.91607186 0.08392814]\n",
      " [0.73091436 0.26908564]]\n"
     ]
    }
   ],
   "source": [
    "print(\"Predictions: \", predictions[0:6], \"\\n\")\n",
    "print(\"Prediction Probabilities:\\n\", predict_proba[0:6])"
   ]
  },
  {
   "cell_type": "code",
   "execution_count": 100,
   "metadata": {},
   "outputs": [
    {
     "name": "stdout",
     "output_type": "stream",
     "text": [
      "Classification Report - Validation Data\n",
      "              precision    recall  f1-score   support\n",
      "\n",
      "           0       0.84      0.91      0.87       165\n",
      "           1       0.83      0.72      0.77       103\n",
      "\n",
      "    accuracy                           0.84       268\n",
      "   macro avg       0.83      0.81      0.82       268\n",
      "weighted avg       0.84      0.84      0.83       268\n",
      "\n"
     ]
    }
   ],
   "source": [
    "from sklearn.metrics import classification_report, roc_curve\n",
    "\n",
    "print(\"Classification Report - Validation Data\")\n",
    "print(classification_report(val_y, model_stacking_clf.predict(val_X)))"
   ]
  },
  {
   "cell_type": "code",
   "execution_count": 101,
   "metadata": {},
   "outputs": [
    {
     "data": {
      "image/png": "[encoded data removed]",
      "text/plain": [
       "<Figure size 432x288 with 1 Axes>"
      ]
     },
     "metadata": {
      "needs_background": "light"
     },
     "output_type": "display_data"
    }
   ],
   "source": [
    "fpr, tpr, thresholds = roc_curve(val_y, predict_proba[:,1])\n",
    "\n",
    "plt.plot(fpr, tpr)\n",
    "plt.xlim([0.0, 1.0])\n",
    "plt.ylim([0.0, 1.0])\n",
    "plt.rcParams['font.size'] = 12\n",
    "plt.title('ROC curve')\n",
    "plt.xlabel('False Positive Rate (1 - Specificity)')\n",
    "plt.ylabel('True Positive Rate (Sensitivity)')\n",
    "plt.grid(True)"
   ]
  },
  {
   "cell_type": "markdown",
   "metadata": {},
   "source": [
    "<b>Note</b>: I am not predicting on the test data as I am not using this notebook for submission."
   ]
  }
 ],
 "metadata": {
  "kernelspec": {
   "display_name": "Python 3",
   "language": "python",
   "name": "python3"
  },
  "language_info": {
   "codemirror_mode": {
    "name": "ipython",
    "version": 3
   },
   "file_extension": ".py",
   "mimetype": "text/x-python",
   "name": "python",
   "nbconvert_exporter": "python",
   "pygments_lexer": "ipython3",
   "version": "3.7.3"
  }
 },
 "nbformat": 4,
 "nbformat_minor": 1
}
