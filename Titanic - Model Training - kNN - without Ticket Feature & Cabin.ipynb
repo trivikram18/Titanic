{
 "cells": [
  {
   "cell_type": "markdown",
   "metadata": {},
   "source": [
    "# Titanic Dataset - k-Nearest Neighbor without Ticket Feature & Cabin"
   ]
  },
  {
   "cell_type": "code",
   "execution_count": 1,
   "metadata": {
    "_cell_guid": "b1076dfc-b9ad-4769-8c92-a6c4dae69d19",
    "_uuid": "8f2839f25d086af736a60e9eeb907d3b93b6e0e5"
   },
   "outputs": [],
   "source": [
    "import numpy as np\n",
    "import pandas as pd\n",
    "import matplotlib\n",
    "import matplotlib.pyplot as plt\n",
    "\n",
    "%matplotlib inline\n",
    "matplotlib.style.use('ggplot')\n",
    "\n",
    "import seaborn as sns"
   ]
  },
  {
   "cell_type": "code",
   "execution_count": 2,
   "metadata": {
    "_cell_guid": "79c7e3d0-c299-4dcb-8224-4455121ee9b0",
    "_uuid": "d629ff2d2480ee46fbb7e2d37f6b5fab8052498a"
   },
   "outputs": [
    {
     "name": "stdout",
     "output_type": "stream",
     "text": [
      "<class 'pandas.core.frame.DataFrame'>\n",
      "RangeIndex: 891 entries, 0 to 890\n",
      "Data columns (total 12 columns):\n",
      "PassengerId    891 non-null int64\n",
      "Survived       891 non-null int64\n",
      "Pclass         891 non-null int64\n",
      "Name           891 non-null object\n",
      "Sex            891 non-null object\n",
      "Age            714 non-null float64\n",
      "SibSp          891 non-null int64\n",
      "Parch          891 non-null int64\n",
      "Ticket         891 non-null object\n",
      "Fare           891 non-null float64\n",
      "Cabin          204 non-null object\n",
      "Embarked       889 non-null object\n",
      "dtypes: float64(2), int64(5), object(5)\n",
      "memory usage: 83.7+ KB\n",
      "None\n"
     ]
    }
   ],
   "source": [
    "# ReadIn the training data\n",
    "titanic_train = pd.read_csv(\"titanic_train.csv\")\n",
    "print (titanic_train.info())"
   ]
  },
  {
   "cell_type": "markdown",
   "metadata": {},
   "source": [
    "## Variable Notes"
   ]
  },
  {
   "cell_type": "markdown",
   "metadata": {},
   "source": [
    ">pclass: A proxy for socio-economic status (SES)\n",
    "1st = Upper\n",
    "2nd = Middle\n",
    "3rd = Lower\n",
    "\n",
    ">age: Age is fractional if less than 1. If the age is estimated, is it in the form of xx.5\n",
    "\n",
    ">sibsp: The dataset defines family relations in this way...\n",
    "Sibling = brother, sister, stepbrother, stepsister\n",
    "Spouse = husband, wife (mistresses and fiancÃ©s were ignored)\n",
    "\n",
    ">parch: The dataset defines family relations in this way...\n",
    "Parent = mother, father\n",
    "Child = daughter, son, stepdaughter, stepson\n",
    "Some children travelled only with a nanny, therefore parch=0 for them."
   ]
  },
  {
   "cell_type": "code",
   "execution_count": 3,
   "metadata": {},
   "outputs": [
    {
     "data": {
      "text/html": [
       "<div>\n",
       "<style scoped>\n",
       "    .dataframe tbody tr th:only-of-type {\n",
       "        vertical-align: middle;\n",
       "    }\n",
       "\n",
       "    .dataframe tbody tr th {\n",
       "        vertical-align: top;\n",
       "    }\n",
       "\n",
       "    .dataframe thead th {\n",
       "        text-align: right;\n",
       "    }\n",
       "</style>\n",
       "<table border=\"1\" class=\"dataframe\">\n",
       "  <thead>\n",
       "    <tr style=\"text-align: right;\">\n",
       "      <th></th>\n",
       "      <th>PassengerId</th>\n",
       "      <th>Survived</th>\n",
       "      <th>Pclass</th>\n",
       "      <th>Name</th>\n",
       "      <th>Sex</th>\n",
       "      <th>Age</th>\n",
       "      <th>SibSp</th>\n",
       "      <th>Parch</th>\n",
       "      <th>Ticket</th>\n",
       "      <th>Fare</th>\n",
       "      <th>Cabin</th>\n",
       "      <th>Embarked</th>\n",
       "    </tr>\n",
       "  </thead>\n",
       "  <tbody>\n",
       "    <tr>\n",
       "      <th>0</th>\n",
       "      <td>1</td>\n",
       "      <td>0</td>\n",
       "      <td>3</td>\n",
       "      <td>Braund, Mr. Owen Harris</td>\n",
       "      <td>male</td>\n",
       "      <td>22.0</td>\n",
       "      <td>1</td>\n",
       "      <td>0</td>\n",
       "      <td>A/5 21171</td>\n",
       "      <td>7.2500</td>\n",
       "      <td>NaN</td>\n",
       "      <td>S</td>\n",
       "    </tr>\n",
       "    <tr>\n",
       "      <th>1</th>\n",
       "      <td>2</td>\n",
       "      <td>1</td>\n",
       "      <td>1</td>\n",
       "      <td>Cumings, Mrs. John Bradley (Florence Briggs Th...</td>\n",
       "      <td>female</td>\n",
       "      <td>38.0</td>\n",
       "      <td>1</td>\n",
       "      <td>0</td>\n",
       "      <td>PC 17599</td>\n",
       "      <td>71.2833</td>\n",
       "      <td>C85</td>\n",
       "      <td>C</td>\n",
       "    </tr>\n",
       "    <tr>\n",
       "      <th>2</th>\n",
       "      <td>3</td>\n",
       "      <td>1</td>\n",
       "      <td>3</td>\n",
       "      <td>Heikkinen, Miss. Laina</td>\n",
       "      <td>female</td>\n",
       "      <td>26.0</td>\n",
       "      <td>0</td>\n",
       "      <td>0</td>\n",
       "      <td>STON/O2. 3101282</td>\n",
       "      <td>7.9250</td>\n",
       "      <td>NaN</td>\n",
       "      <td>S</td>\n",
       "    </tr>\n",
       "    <tr>\n",
       "      <th>3</th>\n",
       "      <td>4</td>\n",
       "      <td>1</td>\n",
       "      <td>1</td>\n",
       "      <td>Futrelle, Mrs. Jacques Heath (Lily May Peel)</td>\n",
       "      <td>female</td>\n",
       "      <td>35.0</td>\n",
       "      <td>1</td>\n",
       "      <td>0</td>\n",
       "      <td>113803</td>\n",
       "      <td>53.1000</td>\n",
       "      <td>C123</td>\n",
       "      <td>S</td>\n",
       "    </tr>\n",
       "    <tr>\n",
       "      <th>4</th>\n",
       "      <td>5</td>\n",
       "      <td>0</td>\n",
       "      <td>3</td>\n",
       "      <td>Allen, Mr. William Henry</td>\n",
       "      <td>male</td>\n",
       "      <td>35.0</td>\n",
       "      <td>0</td>\n",
       "      <td>0</td>\n",
       "      <td>373450</td>\n",
       "      <td>8.0500</td>\n",
       "      <td>NaN</td>\n",
       "      <td>S</td>\n",
       "    </tr>\n",
       "  </tbody>\n",
       "</table>\n",
       "</div>"
      ],
      "text/plain": [
       "   PassengerId  Survived  Pclass  \\\n",
       "0            1         0       3   \n",
       "1            2         1       1   \n",
       "2            3         1       3   \n",
       "3            4         1       1   \n",
       "4            5         0       3   \n",
       "\n",
       "                                                Name     Sex   Age  SibSp  \\\n",
       "0                            Braund, Mr. Owen Harris    male  22.0      1   \n",
       "1  Cumings, Mrs. John Bradley (Florence Briggs Th...  female  38.0      1   \n",
       "2                             Heikkinen, Miss. Laina  female  26.0      0   \n",
       "3       Futrelle, Mrs. Jacques Heath (Lily May Peel)  female  35.0      1   \n",
       "4                           Allen, Mr. William Henry    male  35.0      0   \n",
       "\n",
       "   Parch            Ticket     Fare Cabin Embarked  \n",
       "0      0         A/5 21171   7.2500   NaN        S  \n",
       "1      0          PC 17599  71.2833   C85        C  \n",
       "2      0  STON/O2. 3101282   7.9250   NaN        S  \n",
       "3      0            113803  53.1000  C123        S  \n",
       "4      0            373450   8.0500   NaN        S  "
      ]
     },
     "execution_count": 3,
     "metadata": {},
     "output_type": "execute_result"
    }
   ],
   "source": [
    "titanic_train.head()"
   ]
  },
  {
   "cell_type": "code",
   "execution_count": 4,
   "metadata": {},
   "outputs": [
    {
     "data": {
      "text/plain": [
       "PassengerId      0\n",
       "Survived         0\n",
       "Pclass           0\n",
       "Name             0\n",
       "Sex              0\n",
       "Age            177\n",
       "SibSp            0\n",
       "Parch            0\n",
       "Ticket           0\n",
       "Fare             0\n",
       "Cabin          687\n",
       "Embarked         2\n",
       "dtype: int64"
      ]
     },
     "execution_count": 4,
     "metadata": {},
     "output_type": "execute_result"
    }
   ],
   "source": [
    "titanic_train.isnull().sum()"
   ]
  },
  {
   "cell_type": "markdown",
   "metadata": {},
   "source": [
    "## Separate out the target/ label from the dataset"
   ]
  },
  {
   "cell_type": "code",
   "execution_count": 5,
   "metadata": {},
   "outputs": [
    {
     "name": "stdout",
     "output_type": "stream",
     "text": [
      "All column names: Index(['PassengerId', 'Survived', 'Pclass', 'Name', 'Sex', 'Age', 'SibSp',\n",
      "       'Parch', 'Ticket', 'Fare', 'Cabin', 'Embarked'],\n",
      "      dtype='object')\n",
      "Training data column names: Index(['PassengerId', 'Pclass', 'Name', 'Sex', 'Age', 'SibSp', 'Parch',\n",
      "       'Ticket', 'Fare', 'Cabin', 'Embarked'],\n",
      "      dtype='object')\n",
      "Training label: Survived\n"
     ]
    }
   ],
   "source": [
    "print(f'All column names: {titanic_train.columns}')\n",
    "X_train = titanic_train.copy()\n",
    "y_train = X_train.pop('Survived')\n",
    "print(f'Training data column names: {X_train.columns}')\n",
    "print(f'Training label: {y_train.name}')"
   ]
  },
  {
   "cell_type": "markdown",
   "metadata": {},
   "source": [
    "## Helper Functions"
   ]
  },
  {
   "cell_type": "code",
   "execution_count": 6,
   "metadata": {
    "_uuid": "c3b88b378d4108c61a0f769befb334946f3dbf1d"
   },
   "outputs": [],
   "source": [
    "def substrings_in_string(big_string, substrings):\n",
    "    for substring in substrings:\n",
    "        if str.find(big_string, substring) != -1:\n",
    "            return substring\n",
    "    # print (big_string)\n",
    "    return np.nan\n",
    "\n",
    "def replace_titles(x):\n",
    "    title=x['salut']\n",
    "    if title in ['Don', 'Major', 'Capt', 'Jonkheer', 'Rev', 'Col', 'Sir']:\n",
    "        return 'Mr'\n",
    "    elif title in ['the Countess', 'Mme', 'Lady', 'Dona']:\n",
    "        return 'Mrs'\n",
    "    elif title in ['Mlle', 'Ms']:\n",
    "        return 'Miss'\n",
    "    elif title =='Dr':\n",
    "        if x['Sex']=='Male':\n",
    "            return 'Mr'\n",
    "        else:\n",
    "            return 'Mrs'\n",
    "    else:\n",
    "        return title"
   ]
  },
  {
   "cell_type": "markdown",
   "metadata": {},
   "source": [
    "## Data Preprocessing - Training Data"
   ]
  },
  {
   "cell_type": "code",
   "execution_count": 7,
   "metadata": {},
   "outputs": [
    {
     "name": "stdout",
     "output_type": "stream",
     "text": [
      "Unique values from salut - training dataset:\n",
      " ['Mr' 'Mrs' 'Miss' 'Master' 'Don' 'Rev' 'Dr' 'Mme' 'Ms' 'Major' 'Lady'\n",
      " 'Sir' 'Mlle' 'Col' 'Capt' 'the Countess' 'Jonkheer'] \n",
      "\n",
      "salut Before:\n",
      "Mr              517\n",
      "Miss            182\n",
      "Mrs             125\n",
      "Master           40\n",
      "Dr                7\n",
      "Rev               6\n",
      "Mlle              2\n",
      "Major             2\n",
      "Col               2\n",
      "the Countess      1\n",
      "Lady              1\n",
      "Don               1\n",
      "Mme               1\n",
      "Capt              1\n",
      "Jonkheer          1\n",
      "Sir               1\n",
      "Ms                1\n",
      "Name: salut, dtype: int64 \n",
      "\n",
      "Index(['PassengerId', 'Pclass', 'Name', 'Sex', 'Age', 'SibSp', 'Parch',\n",
      "       'Ticket', 'Fare', 'Cabin', 'Embarked', 'salut'],\n",
      "      dtype='object') \n",
      "\n",
      "salut After:\n",
      "Mr        531\n",
      "Miss      185\n",
      "Mrs       135\n",
      "Master     40\n",
      "Name: salut, dtype: int64\n"
     ]
    },
    {
     "data": {
      "text/html": [
       "<div>\n",
       "<style scoped>\n",
       "    .dataframe tbody tr th:only-of-type {\n",
       "        vertical-align: middle;\n",
       "    }\n",
       "\n",
       "    .dataframe tbody tr th {\n",
       "        vertical-align: top;\n",
       "    }\n",
       "\n",
       "    .dataframe thead th {\n",
       "        text-align: right;\n",
       "    }\n",
       "</style>\n",
       "<table border=\"1\" class=\"dataframe\">\n",
       "  <thead>\n",
       "    <tr style=\"text-align: right;\">\n",
       "      <th>salut</th>\n",
       "      <th>Master</th>\n",
       "      <th>Miss</th>\n",
       "      <th>Mr</th>\n",
       "      <th>Mrs</th>\n",
       "    </tr>\n",
       "    <tr>\n",
       "      <th>Age</th>\n",
       "      <th></th>\n",
       "      <th></th>\n",
       "      <th></th>\n",
       "      <th></th>\n",
       "    </tr>\n",
       "  </thead>\n",
       "  <tbody>\n",
       "    <tr>\n",
       "      <th>62.0</th>\n",
       "      <td>0</td>\n",
       "      <td>0</td>\n",
       "      <td>3</td>\n",
       "      <td>1</td>\n",
       "    </tr>\n",
       "    <tr>\n",
       "      <th>63.0</th>\n",
       "      <td>0</td>\n",
       "      <td>1</td>\n",
       "      <td>0</td>\n",
       "      <td>1</td>\n",
       "    </tr>\n",
       "    <tr>\n",
       "      <th>64.0</th>\n",
       "      <td>0</td>\n",
       "      <td>0</td>\n",
       "      <td>2</td>\n",
       "      <td>0</td>\n",
       "    </tr>\n",
       "    <tr>\n",
       "      <th>65.0</th>\n",
       "      <td>0</td>\n",
       "      <td>0</td>\n",
       "      <td>3</td>\n",
       "      <td>0</td>\n",
       "    </tr>\n",
       "    <tr>\n",
       "      <th>66.0</th>\n",
       "      <td>0</td>\n",
       "      <td>0</td>\n",
       "      <td>1</td>\n",
       "      <td>0</td>\n",
       "    </tr>\n",
       "    <tr>\n",
       "      <th>70.0</th>\n",
       "      <td>0</td>\n",
       "      <td>0</td>\n",
       "      <td>2</td>\n",
       "      <td>0</td>\n",
       "    </tr>\n",
       "    <tr>\n",
       "      <th>70.5</th>\n",
       "      <td>0</td>\n",
       "      <td>0</td>\n",
       "      <td>1</td>\n",
       "      <td>0</td>\n",
       "    </tr>\n",
       "    <tr>\n",
       "      <th>71.0</th>\n",
       "      <td>0</td>\n",
       "      <td>0</td>\n",
       "      <td>2</td>\n",
       "      <td>0</td>\n",
       "    </tr>\n",
       "    <tr>\n",
       "      <th>74.0</th>\n",
       "      <td>0</td>\n",
       "      <td>0</td>\n",
       "      <td>1</td>\n",
       "      <td>0</td>\n",
       "    </tr>\n",
       "    <tr>\n",
       "      <th>80.0</th>\n",
       "      <td>0</td>\n",
       "      <td>0</td>\n",
       "      <td>1</td>\n",
       "      <td>0</td>\n",
       "    </tr>\n",
       "  </tbody>\n",
       "</table>\n",
       "</div>"
      ],
      "text/plain": [
       "salut  Master  Miss  Mr  Mrs\n",
       "Age                         \n",
       "62.0        0     0   3    1\n",
       "63.0        0     1   0    1\n",
       "64.0        0     0   2    0\n",
       "65.0        0     0   3    0\n",
       "66.0        0     0   1    0\n",
       "70.0        0     0   2    0\n",
       "70.5        0     0   1    0\n",
       "71.0        0     0   2    0\n",
       "74.0        0     0   1    0\n",
       "80.0        0     0   1    0"
      ]
     },
     "execution_count": 7,
     "metadata": {},
     "output_type": "execute_result"
    }
   ],
   "source": [
    "# Split Name and extract the salutation\n",
    "\n",
    "X_train['salut'] = X_train['Name'].str.split(',',expand=True)[1].str.split('.',expand=True)[0].str.strip()\n",
    "print(\"Unique values from salut - training dataset:\\n\", X_train['salut'].unique(), \"\\n\")\n",
    "\n",
    "print (\"salut Before:\")\n",
    "print (X_train['salut'].value_counts(), \"\\n\")\n",
    "\n",
    "# X_train.drop(['firstname', 'last_name', 'lastname', 'lastname1'], axis=1, inplace=True)\n",
    "print (X_train.columns, \"\\n\")\n",
    "\n",
    "X_train['salut']=X_train.apply(replace_titles, axis=1)\n",
    "print (\"salut After:\")\n",
    "print (X_train['salut'].value_counts())\n",
    "\n",
    "Age_salut = pd.crosstab(X_train.Age, X_train.salut)\n",
    "Age_salut.tail(10)"
   ]
  },
  {
   "cell_type": "markdown",
   "metadata": {},
   "source": [
    "## Imputing data to fill in the missing values"
   ]
  },
  {
   "cell_type": "code",
   "execution_count": 8,
   "metadata": {},
   "outputs": [
    {
     "name": "stdout",
     "output_type": "stream",
     "text": [
      "Null values for Age before imputation:  177\n",
      "Null values for Age after imputation:  0\n"
     ]
    }
   ],
   "source": [
    "# Imputing Age - We are using the 'salut' feature to group the respondent to impute the age\n",
    "print (\"Null values for Age before imputation: \", X_train['Age'].isnull().sum())\n",
    "X_train['Age'] = X_train.groupby('salut').Age.transform(lambda x: x.fillna(x.mean()))\n",
    "print (\"Null values for Age after imputation: \", X_train['Age'].isnull().sum())"
   ]
  },
  {
   "cell_type": "code",
   "execution_count": 9,
   "metadata": {},
   "outputs": [
    {
     "name": "stdout",
     "output_type": "stream",
     "text": [
      "Null values for Cabin before imputation:  687\n",
      "Value Counts of Cabin - Before\n",
      "NaN            687\n",
      "C23 C25 C27      4\n",
      "G6               4\n",
      "B96 B98          4\n",
      "C22 C26          3\n",
      "              ... \n",
      "A24              1\n",
      "C62 C64          1\n",
      "D45              1\n",
      "C82              1\n",
      "C104             1\n",
      "Name: Cabin, Length: 148, dtype: int64\n",
      "Value Counts of Cabin - After\n",
      "Null           687\n",
      "B96 B98          4\n",
      "C23 C25 C27      4\n",
      "G6               4\n",
      "E101             3\n",
      "              ... \n",
      "E50              1\n",
      "B19              1\n",
      "B37              1\n",
      "D47              1\n",
      "C87              1\n",
      "Name: Cabin, Length: 148, dtype: int64\n"
     ]
    }
   ],
   "source": [
    "# Imputing Cabin - This cannot be imputed as there is no logic and hence we fill the NAs with 'Null' string\n",
    "print(\"Null values for Cabin before imputation: \", X_train['Cabin'].isnull().sum())\n",
    "\n",
    "print(\"Value Counts of Cabin - Before\")\n",
    "print (X_train['Cabin'].value_counts(dropna = False))\n",
    "\n",
    "X_train['Cabin'] = X_train['Cabin'].fillna('Null')\n",
    "\n",
    "print(\"Value Counts of Cabin - After\")\n",
    "print (X_train['Cabin'].value_counts(dropna = False))"
   ]
  },
  {
   "cell_type": "code",
   "execution_count": 10,
   "metadata": {},
   "outputs": [
    {
     "name": "stdout",
     "output_type": "stream",
     "text": [
      "Null values after imputation: \n",
      "PassengerId    0\n",
      "Pclass         0\n",
      "Name           0\n",
      "Sex            0\n",
      "Age            0\n",
      "SibSp          0\n",
      "Parch          0\n",
      "Ticket         0\n",
      "Fare           0\n",
      "Cabin          0\n",
      "Embarked       0\n",
      "salut          0\n",
      "dtype: int64\n"
     ]
    }
   ],
   "source": [
    "# Imputing the whole dataset just in case there are any furhter missing values\n",
    "X_train = X_train.fillna(method='ffill').fillna(method='bfill')\n",
    "print(\"Null values after imputation: \")\n",
    "print(X_train.isnull().sum())"
   ]
  },
  {
   "cell_type": "markdown",
   "metadata": {},
   "source": [
    "## Feature Engineering"
   ]
  },
  {
   "cell_type": "code",
   "execution_count": 11,
   "metadata": {},
   "outputs": [
    {
     "data": {
      "text/plain": [
       "Null    687\n",
       "C        59\n",
       "B        47\n",
       "D        33\n",
       "E        33\n",
       "A        15\n",
       "F        12\n",
       "G         4\n",
       "T         1\n",
       "Name: Deck, dtype: int64"
      ]
     },
     "execution_count": 11,
     "metadata": {},
     "output_type": "execute_result"
    }
   ],
   "source": [
    "# Deck\n",
    "cabin_list = ['A', 'B', 'C', 'D', 'E', 'F', 'T', 'G', 'Null']\n",
    "X_train['Deck']=X_train['Cabin'].map(lambda x: substrings_in_string(x, cabin_list))\n",
    "\n",
    "X_train['Deck'].value_counts()"
   ]
  },
  {
   "cell_type": "code",
   "execution_count": 12,
   "metadata": {},
   "outputs": [
    {
     "name": "stdout",
     "output_type": "stream",
     "text": [
      "1     537\n",
      "2     161\n",
      "3     102\n",
      "4      29\n",
      "6      22\n",
      "5      15\n",
      "7      12\n",
      "11      7\n",
      "8       6\n",
      "Name: FamilySize, dtype: int64\n"
     ]
    }
   ],
   "source": [
    "# Family Size and Fare per Passenger\n",
    "X_train['FamilySize'] = X_train['SibSp'] + X_train['Parch'] + 1\n",
    "# X_train['FarePerPassenger'] = X_train['Fare']/(X_train['FamilySize'])\n",
    "\n",
    "print(X_train['FamilySize'].value_counts())\n",
    "# print()\n",
    "# print(X_train['FarePerPassenger'].value_counts())"
   ]
  },
  {
   "cell_type": "code",
   "execution_count": 13,
   "metadata": {},
   "outputs": [],
   "source": [
    "# X_train.to_csv(\"Titanic_Train_Processed.csv\", index = False)"
   ]
  },
  {
   "cell_type": "markdown",
   "metadata": {},
   "source": [
    "## Converting Categorical and String features into Numeric"
   ]
  },
  {
   "cell_type": "code",
   "execution_count": 14,
   "metadata": {
    "_uuid": "eab93f8f93e80eda4dc0cb408eeb64e2b5ae98b9"
   },
   "outputs": [
    {
     "name": "stdout",
     "output_type": "stream",
     "text": [
      "Shape of training dataset after One Hot Encoding:  (891, 26)\n",
      "    Age  SibSp  Parch     Fare  FamilySize  Pclass_1  Pclass_2  Pclass_3  \\\n",
      "0  22.0      1      0   7.2500           2         0         0         1   \n",
      "1  38.0      1      0  71.2833           2         1         0         0   \n",
      "2  26.0      0      0   7.9250           1         0         0         1   \n",
      "3  35.0      1      0  53.1000           2         1         0         0   \n",
      "4  35.0      0      0   8.0500           1         0         0         1   \n",
      "\n",
      "   Sex_female  Sex_male  ...  salut_Mrs  Deck_A  Deck_B  Deck_C  Deck_D  \\\n",
      "0           0         1  ...          0       0       0       0       0   \n",
      "1           1         0  ...          1       0       0       1       0   \n",
      "2           1         0  ...          0       0       0       0       0   \n",
      "3           1         0  ...          1       0       0       1       0   \n",
      "4           0         1  ...          0       0       0       0       0   \n",
      "\n",
      "   Deck_E  Deck_F  Deck_G  Deck_Null  Deck_T  \n",
      "0       0       0       0          1       0  \n",
      "1       0       0       0          0       0  \n",
      "2       0       0       0          1       0  \n",
      "3       0       0       0          0       0  \n",
      "4       0       0       0          1       0  \n",
      "\n",
      "[5 rows x 26 columns]\n"
     ]
    }
   ],
   "source": [
    "# Drop features which are unique across respondents as they are not useful\n",
    "X_train.drop(['Name', 'PassengerId', 'Cabin', 'Ticket'], axis=1, inplace=True)\n",
    "\n",
    "# One Hot Encoding - To convert categorical to binary data\n",
    "X_train_dummies = pd.get_dummies(X_train, columns=['Pclass', 'Sex', 'Embarked', 'salut', 'Deck'])\n",
    "\n",
    "print (\"Shape of training dataset after One Hot Encoding: \", X_train_dummies.shape)\n",
    "print (X_train_dummies.head())"
   ]
  },
  {
   "cell_type": "markdown",
   "metadata": {},
   "source": [
    "## Test Data - ReadIn, Preprocess, Imputing, Feature Engineering and One Hot Encoding"
   ]
  },
  {
   "cell_type": "code",
   "execution_count": 15,
   "metadata": {},
   "outputs": [],
   "source": [
    "# ReadIn the test data\n",
    "\n",
    "titanic_test = pd.read_csv(\"titanic_test.csv\")"
   ]
  },
  {
   "cell_type": "code",
   "execution_count": 16,
   "metadata": {},
   "outputs": [
    {
     "name": "stdout",
     "output_type": "stream",
     "text": [
      "<class 'pandas.core.frame.DataFrame'>\n",
      "RangeIndex: 418 entries, 0 to 417\n",
      "Data columns (total 11 columns):\n",
      "PassengerId    418 non-null int64\n",
      "Pclass         418 non-null int64\n",
      "Name           418 non-null object\n",
      "Sex            418 non-null object\n",
      "Age            332 non-null float64\n",
      "SibSp          418 non-null int64\n",
      "Parch          418 non-null int64\n",
      "Ticket         418 non-null object\n",
      "Fare           417 non-null float64\n",
      "Cabin          91 non-null object\n",
      "Embarked       418 non-null object\n",
      "dtypes: float64(2), int64(4), object(5)\n",
      "memory usage: 36.0+ KB\n"
     ]
    }
   ],
   "source": [
    "titanic_test.info()"
   ]
  },
  {
   "cell_type": "code",
   "execution_count": 17,
   "metadata": {},
   "outputs": [
    {
     "data": {
      "text/html": [
       "<div>\n",
       "<style scoped>\n",
       "    .dataframe tbody tr th:only-of-type {\n",
       "        vertical-align: middle;\n",
       "    }\n",
       "\n",
       "    .dataframe tbody tr th {\n",
       "        vertical-align: top;\n",
       "    }\n",
       "\n",
       "    .dataframe thead th {\n",
       "        text-align: right;\n",
       "    }\n",
       "</style>\n",
       "<table border=\"1\" class=\"dataframe\">\n",
       "  <thead>\n",
       "    <tr style=\"text-align: right;\">\n",
       "      <th></th>\n",
       "      <th>PassengerId</th>\n",
       "      <th>Pclass</th>\n",
       "      <th>Name</th>\n",
       "      <th>Sex</th>\n",
       "      <th>Age</th>\n",
       "      <th>SibSp</th>\n",
       "      <th>Parch</th>\n",
       "      <th>Ticket</th>\n",
       "      <th>Fare</th>\n",
       "      <th>Cabin</th>\n",
       "      <th>Embarked</th>\n",
       "    </tr>\n",
       "  </thead>\n",
       "  <tbody>\n",
       "    <tr>\n",
       "      <th>0</th>\n",
       "      <td>892</td>\n",
       "      <td>3</td>\n",
       "      <td>Kelly, Mr. James</td>\n",
       "      <td>male</td>\n",
       "      <td>34.5</td>\n",
       "      <td>0</td>\n",
       "      <td>0</td>\n",
       "      <td>330911</td>\n",
       "      <td>7.8292</td>\n",
       "      <td>NaN</td>\n",
       "      <td>Q</td>\n",
       "    </tr>\n",
       "    <tr>\n",
       "      <th>1</th>\n",
       "      <td>893</td>\n",
       "      <td>3</td>\n",
       "      <td>Wilkes, Mrs. James (Ellen Needs)</td>\n",
       "      <td>female</td>\n",
       "      <td>47.0</td>\n",
       "      <td>1</td>\n",
       "      <td>0</td>\n",
       "      <td>363272</td>\n",
       "      <td>7.0000</td>\n",
       "      <td>NaN</td>\n",
       "      <td>S</td>\n",
       "    </tr>\n",
       "    <tr>\n",
       "      <th>2</th>\n",
       "      <td>894</td>\n",
       "      <td>2</td>\n",
       "      <td>Myles, Mr. Thomas Francis</td>\n",
       "      <td>male</td>\n",
       "      <td>62.0</td>\n",
       "      <td>0</td>\n",
       "      <td>0</td>\n",
       "      <td>240276</td>\n",
       "      <td>9.6875</td>\n",
       "      <td>NaN</td>\n",
       "      <td>Q</td>\n",
       "    </tr>\n",
       "    <tr>\n",
       "      <th>3</th>\n",
       "      <td>895</td>\n",
       "      <td>3</td>\n",
       "      <td>Wirz, Mr. Albert</td>\n",
       "      <td>male</td>\n",
       "      <td>27.0</td>\n",
       "      <td>0</td>\n",
       "      <td>0</td>\n",
       "      <td>315154</td>\n",
       "      <td>8.6625</td>\n",
       "      <td>NaN</td>\n",
       "      <td>S</td>\n",
       "    </tr>\n",
       "    <tr>\n",
       "      <th>4</th>\n",
       "      <td>896</td>\n",
       "      <td>3</td>\n",
       "      <td>Hirvonen, Mrs. Alexander (Helga E Lindqvist)</td>\n",
       "      <td>female</td>\n",
       "      <td>22.0</td>\n",
       "      <td>1</td>\n",
       "      <td>1</td>\n",
       "      <td>3101298</td>\n",
       "      <td>12.2875</td>\n",
       "      <td>NaN</td>\n",
       "      <td>S</td>\n",
       "    </tr>\n",
       "  </tbody>\n",
       "</table>\n",
       "</div>"
      ],
      "text/plain": [
       "   PassengerId  Pclass                                          Name     Sex  \\\n",
       "0          892       3                              Kelly, Mr. James    male   \n",
       "1          893       3              Wilkes, Mrs. James (Ellen Needs)  female   \n",
       "2          894       2                     Myles, Mr. Thomas Francis    male   \n",
       "3          895       3                              Wirz, Mr. Albert    male   \n",
       "4          896       3  Hirvonen, Mrs. Alexander (Helga E Lindqvist)  female   \n",
       "\n",
       "    Age  SibSp  Parch   Ticket     Fare Cabin Embarked  \n",
       "0  34.5      0      0   330911   7.8292   NaN        Q  \n",
       "1  47.0      1      0   363272   7.0000   NaN        S  \n",
       "2  62.0      0      0   240276   9.6875   NaN        Q  \n",
       "3  27.0      0      0   315154   8.6625   NaN        S  \n",
       "4  22.0      1      1  3101298  12.2875   NaN        S  "
      ]
     },
     "execution_count": 17,
     "metadata": {},
     "output_type": "execute_result"
    }
   ],
   "source": [
    "titanic_test.head()"
   ]
  },
  {
   "cell_type": "code",
   "execution_count": 18,
   "metadata": {},
   "outputs": [
    {
     "data": {
      "text/plain": [
       "PassengerId      0\n",
       "Pclass           0\n",
       "Name             0\n",
       "Sex              0\n",
       "Age             86\n",
       "SibSp            0\n",
       "Parch            0\n",
       "Ticket           0\n",
       "Fare             1\n",
       "Cabin          327\n",
       "Embarked         0\n",
       "dtype: int64"
      ]
     },
     "execution_count": 18,
     "metadata": {},
     "output_type": "execute_result"
    }
   ],
   "source": [
    "titanic_test.isnull().sum()"
   ]
  },
  {
   "cell_type": "code",
   "execution_count": 19,
   "metadata": {},
   "outputs": [
    {
     "name": "stdout",
     "output_type": "stream",
     "text": [
      "Unique values from salut - test dataset:\n",
      " ['Mr' 'Mrs' 'Miss' 'Master' 'Ms' 'Col' 'Rev' 'Dr' 'Dona']\n",
      "salut Before:\n",
      "Mr        240\n",
      "Miss       78\n",
      "Mrs        72\n",
      "Master     21\n",
      "Col         2\n",
      "Rev         2\n",
      "Ms          1\n",
      "Dr          1\n",
      "Dona        1\n",
      "Name: salut, dtype: int64\n",
      "Index(['PassengerId', 'Pclass', 'Name', 'Sex', 'Age', 'SibSp', 'Parch',\n",
      "       'Ticket', 'Fare', 'Cabin', 'Embarked', 'salut'],\n",
      "      dtype='object')\n",
      "salut After:\n",
      "Mr        244\n",
      "Miss       79\n",
      "Mrs        74\n",
      "Master     21\n",
      "Name: salut, dtype: int64\n",
      "salut  Master  Miss  Mr  Mrs\n",
      "Age                         \n",
      "0.17        0     1   0    0\n",
      "0.33        1     0   0    0\n",
      "0.75        1     0   0    0\n",
      "0.83        1     0   0    0\n",
      "0.92        0     1   0    0\n",
      "1.00        0     3   0    0\n",
      "salut  Master  Miss  Mr  Mrs\n",
      "Age                         \n",
      "61.0        0     0   2    0\n",
      "62.0        0     0   1    0\n",
      "63.0        0     0   1    1\n",
      "64.0        0     0   1    2\n",
      "67.0        0     0   1    0\n",
      "76.0        0     0   0    1\n"
     ]
    }
   ],
   "source": [
    "X_test = titanic_test.copy()\n",
    "\n",
    "# Split Name and extract the salutation\n",
    "X_test['salut'] = X_test['Name'].str.split(',',expand=True)[1].str.split('.',expand=True)[0].str.strip()\n",
    "print(\"Unique values from salut - test dataset:\\n\", X_test['salut'].unique())\n",
    "\n",
    "print (\"salut Before:\")\n",
    "print (X_test['salut'].value_counts())\n",
    "\n",
    "print (X_test.columns)\n",
    "\n",
    "X_test['salut']=X_test.apply(replace_titles, axis=1)\n",
    "\n",
    "print (\"salut After:\")\n",
    "print (X_test['salut'].value_counts())\n",
    "\n",
    "Age_salut_test = pd.crosstab(X_test.Age, X_test.salut)\n",
    "print(Age_salut_test.head(6))\n",
    "print(Age_salut_test.tail(6))"
   ]
  },
  {
   "cell_type": "code",
   "execution_count": 20,
   "metadata": {
    "_cell_guid": "add3b30e-ceda-4171-ad58-38140f50038b",
    "_uuid": "e899a2126368a63a402a685ebfa87e3eb5e71613"
   },
   "outputs": [
    {
     "name": "stdout",
     "output_type": "stream",
     "text": [
      "Null values for Age before imputation:  86\n",
      "Null values for Age after imputation:  0 \n",
      "\n",
      "Null values for Fare before imputation:  1\n",
      "Null values for Fare after imputation:  0 \n",
      "\n",
      "Null values for Cabin before imputation:  327\n",
      "Null values for Cabin after imputation:  0 \n",
      "\n",
      "Null values after imputation: \n",
      "PassengerId    0\n",
      "Pclass         0\n",
      "Name           0\n",
      "Sex            0\n",
      "Age            0\n",
      "SibSp          0\n",
      "Parch          0\n",
      "Ticket         0\n",
      "Fare           0\n",
      "Cabin          0\n",
      "Embarked       0\n",
      "salut          0\n",
      "dtype: int64\n"
     ]
    }
   ],
   "source": [
    "# Imputing missing values - Test Data\n",
    "print (\"Null values for Age before imputation: \", X_test['Age'].isnull().sum())\n",
    "X_test['Age'] = X_test.groupby('salut').Age.transform(lambda x: x.fillna(x.mean()))\n",
    "print (\"Null values for Age after imputation: \", X_test['Age'].isnull().sum(), \"\\n\")\n",
    "\n",
    "print (\"Null values for Fare before imputation: \", X_test['Fare'].isnull().sum())\n",
    "X_test['Fare'] = X_test.groupby('Pclass').Fare.transform(lambda x: x.fillna(x.median()))\n",
    "print (\"Null values for Fare after imputation: \", X_test['Fare'].isnull().sum(), \"\\n\")\n",
    "\n",
    "print(\"Null values for Cabin before imputation: \", X_test['Cabin'].isnull().sum())\n",
    "X_test['Cabin'] = X_test['Cabin'].fillna('Null')\n",
    "print(\"Null values for Cabin after imputation: \", X_test['Cabin'].isnull().sum(), \"\\n\")\n",
    "\n",
    "# Imputing the whole dataset just in case there are any furhter missing values\n",
    "X_test = X_test.fillna(method='ffill').fillna(method='bfill')\n",
    "\n",
    "print(\"Null values after imputation: \")\n",
    "print(X_test.isnull().sum())"
   ]
  },
  {
   "cell_type": "code",
   "execution_count": 21,
   "metadata": {},
   "outputs": [
    {
     "name": "stdout",
     "output_type": "stream",
     "text": [
      "Null    327\n",
      "C        35\n",
      "B        18\n",
      "D        13\n",
      "E        11\n",
      "A         7\n",
      "F         6\n",
      "G         1\n",
      "Name: Deck, dtype: int64 \n",
      "\n",
      "1     253\n",
      "2      74\n",
      "3      57\n",
      "4      14\n",
      "5       7\n",
      "11      4\n",
      "7       4\n",
      "6       3\n",
      "8       2\n",
      "Name: FamilySize, dtype: int64 \n",
      "\n"
     ]
    }
   ],
   "source": [
    "## Feature Engineering\n",
    "# Deck\n",
    "X_test['Deck']=X_test['Cabin'].map(lambda x: substrings_in_string(x, cabin_list))\n",
    "print(X_test['Deck'].value_counts(), \"\\n\")\n",
    "\n",
    "# Family Size and Fare per Passenger\n",
    "X_test['FamilySize'] = X_test['SibSp'] + X_test['Parch'] + 1\n",
    "# X_test['FarePerPassenger'] = X_test['Fare']/(X_test['FamilySize'] + 1)\n",
    "\n",
    "print(X_test['FamilySize'].value_counts(), \"\\n\")\n",
    "# print()\n",
    "# print(X_test['FarePerPassenger'].value_counts(), \"\\n\")"
   ]
  },
  {
   "cell_type": "code",
   "execution_count": 22,
   "metadata": {},
   "outputs": [
    {
     "name": "stdout",
     "output_type": "stream",
     "text": [
      "Shape of test dataset after One Hot Encoding:  (418, 26)\n",
      "                                           Name   Age  SibSp  Parch     Fare  \\\n",
      "0                              Kelly, Mr. James  34.5      0      0   7.8292   \n",
      "1              Wilkes, Mrs. James (Ellen Needs)  47.0      1      0   7.0000   \n",
      "2                     Myles, Mr. Thomas Francis  62.0      0      0   9.6875   \n",
      "3                              Wirz, Mr. Albert  27.0      0      0   8.6625   \n",
      "4  Hirvonen, Mrs. Alexander (Helga E Lindqvist)  22.0      1      1  12.2875   \n",
      "\n",
      "   FamilySize  Pclass_1  Pclass_2  Pclass_3  Sex_female  ...  salut_Mr  \\\n",
      "0           1         0         0         1           0  ...         1   \n",
      "1           2         0         0         1           1  ...         0   \n",
      "2           1         0         1         0           0  ...         1   \n",
      "3           1         0         0         1           0  ...         1   \n",
      "4           3         0         0         1           1  ...         0   \n",
      "\n",
      "   salut_Mrs  Deck_A  Deck_B  Deck_C  Deck_D  Deck_E  Deck_F  Deck_G  \\\n",
      "0          0       0       0       0       0       0       0       0   \n",
      "1          1       0       0       0       0       0       0       0   \n",
      "2          0       0       0       0       0       0       0       0   \n",
      "3          0       0       0       0       0       0       0       0   \n",
      "4          1       0       0       0       0       0       0       0   \n",
      "\n",
      "   Deck_Null  \n",
      "0          1  \n",
      "1          1  \n",
      "2          1  \n",
      "3          1  \n",
      "4          1  \n",
      "\n",
      "[5 rows x 26 columns]\n"
     ]
    }
   ],
   "source": [
    "## Converting Categorical and String features into Numeric\n",
    "\n",
    "# Drop features which are unique across respondents as they are not useful\n",
    "X_test.drop(['PassengerId', 'Cabin', 'Ticket'], axis=1, inplace=True)\n",
    "\n",
    "# One Hot Encoding - To convert categorical to binary data\n",
    "X_test_dummies = pd.get_dummies(X_test, columns=['Pclass', 'Sex', 'Embarked', 'salut', 'Deck'])\n",
    "print (\"Shape of test dataset after One Hot Encoding: \", X_test_dummies.shape)\n",
    "print (X_test_dummies.head())"
   ]
  },
  {
   "cell_type": "code",
   "execution_count": 23,
   "metadata": {},
   "outputs": [
    {
     "name": "stdout",
     "output_type": "stream",
     "text": [
      "Shape of training dataset after One Hot Encoding:  (891, 26)\n",
      "Shape of test dataset after One Hot Encoding:  (418, 26)\n"
     ]
    }
   ],
   "source": [
    "print (\"Shape of training dataset after One Hot Encoding: \", X_train_dummies.shape)\n",
    "print (\"Shape of test dataset after One Hot Encoding: \", X_test_dummies.shape)"
   ]
  },
  {
   "cell_type": "code",
   "execution_count": 24,
   "metadata": {
    "_cell_guid": "3ef4c4c0-8a74-4685-8e78-ceea5092a7c5",
    "_uuid": "6c68eac37e1441787ae3f9234464e3bfc303b037"
   },
   "outputs": [
    {
     "name": "stdout",
     "output_type": "stream",
     "text": [
      "(891, 26)\n",
      "(418, 26)\n",
      "Age             0\n",
      "SibSp           0\n",
      "Parch           0\n",
      "Fare            0\n",
      "FamilySize      0\n",
      "Pclass_1        0\n",
      "Pclass_2        0\n",
      "Pclass_3        0\n",
      "Sex_female      0\n",
      "Sex_male        0\n",
      "Embarked_C      0\n",
      "Embarked_Q      0\n",
      "Embarked_S      0\n",
      "salut_Master    0\n",
      "salut_Miss      0\n",
      "salut_Mr        0\n",
      "salut_Mrs       0\n",
      "Deck_A          0\n",
      "Deck_B          0\n",
      "Deck_C          0\n",
      "Deck_D          0\n",
      "Deck_E          0\n",
      "Deck_F          0\n",
      "Deck_G          0\n",
      "Deck_Null       0\n",
      "Deck_T          0\n",
      "dtype: int64\n"
     ]
    }
   ],
   "source": [
    "# Align the Train and Test datset for One Hot Encoding \n",
    "X_train_final, X_test_final = X_train_dummies.align(X_test_dummies, join='left', axis=1)\n",
    "print (X_train_final.shape)\n",
    "print (X_test_final.shape)\n",
    "\n",
    "for col in (col for col in X_test_final.columns if X_test_final[col].isnull().any()):\n",
    "    X_test_final[col] = 0\n",
    "\n",
    "print(X_test_final.isnull().sum())"
   ]
  },
  {
   "cell_type": "markdown",
   "metadata": {},
   "source": [
    "## Model Training"
   ]
  },
  {
   "cell_type": "markdown",
   "metadata": {},
   "source": [
    "### Scaling the data"
   ]
  },
  {
   "cell_type": "code",
   "execution_count": 25,
   "metadata": {},
   "outputs": [],
   "source": [
    "X_train_final_description = X_train_final.describe().T\n",
    "X_test_final_description = X_test_final.describe().T\n",
    "\n",
    "X_train_final_description.to_csv(\"X_train_final_description.csv\")\n",
    "X_test_final_description.to_csv(\"X_test_final_description.csv\")"
   ]
  },
  {
   "cell_type": "code",
   "execution_count": 26,
   "metadata": {},
   "outputs": [
    {
     "name": "stdout",
     "output_type": "stream",
     "text": [
      "0    678\n",
      "1    118\n",
      "2     80\n",
      "5      5\n",
      "3      5\n",
      "4      4\n",
      "6      1\n",
      "Name: Parch, dtype: int64\n"
     ]
    }
   ],
   "source": [
    "print(X_train_final['Parch'].value_counts(dropna=False))"
   ]
  },
  {
   "cell_type": "code",
   "execution_count": 27,
   "metadata": {},
   "outputs": [
    {
     "data": {
      "image/png": "[encoded data removed]",
      "text/plain": [
       "<Figure size 720x576 with 1 Axes>"
      ]
     },
     "metadata": {},
     "output_type": "display_data"
    }
   ],
   "source": [
    "# plot original distribution plot\n",
    "fig, (ax1) = plt.subplots(ncols=1, figsize=(10, 8))\n",
    "ax1.set_title('Original Distributions')\n",
    "\n",
    "column_list = ['Age', 'SibSp', 'Fare', 'FamilySize', 'Pclass_3', 'Sex_female', 'Sex_male']\n",
    "\n",
    "X_train_final[column_list].apply(sns.kdeplot, ax = ax1);"
   ]
  },
  {
   "cell_type": "code",
   "execution_count": 28,
   "metadata": {},
   "outputs": [],
   "source": [
    "from sklearn.preprocessing import StandardScaler, MinMaxScaler, RobustScaler\n",
    "\n",
    "scaler = MinMaxScaler()\n",
    "# scaler = RobustScaler()\n",
    "# scaler = StandardScaler()\n",
    "\n",
    "X_train_scaled = scaler.fit_transform(X_train_final)\n",
    "# print(X_train_scaled.mean(axis=0))\n",
    "X_test_scaled = scaler.transform(X_test_final)\n",
    "\n",
    "df_X_train_scaled = pd.DataFrame(X_train_scaled, columns=X_train_final.columns)\n",
    "df_X_train_scaled.describe().T.to_csv('X_train_MinMaxScaled_description.csv')"
   ]
  },
  {
   "cell_type": "code",
   "execution_count": 29,
   "metadata": {},
   "outputs": [
    {
     "data": {
      "image/png": "[encoded data removed]",
      "text/plain": [
       "<Figure size 720x576 with 1 Axes>"
      ]
     },
     "metadata": {},
     "output_type": "display_data"
    }
   ],
   "source": [
    "# plot original distribution plot\n",
    "fig, (ax2) = plt.subplots(ncols=1, figsize=(10, 8))\n",
    "ax1.set_title('Scaled Distributions')\n",
    "\n",
    "# print([*df_X_train_scaled.columns])\n",
    "# column_list = ['Age', 'SibSp', 'Parch', 'Fare', 'FamilySize', 'Pclass_1', 'Pclass_2', 'Pclass_3', 'Sex_female', 'Sex_male', 'Deck_A', 'Deck_B', 'Deck_C', 'Deck_D', 'Deck_E', 'Deck_F', 'Deck_G', 'Deck_Null', 'Deck_T']\n",
    "\n",
    "column_list = ['Age', 'SibSp', 'Fare', 'FamilySize', 'Pclass_3', 'Sex_female', 'Sex_male']\n",
    "\n",
    "df_X_train_scaled[column_list].apply(sns.kdeplot, ax = ax2);"
   ]
  },
  {
   "cell_type": "code",
   "execution_count": 30,
   "metadata": {
    "_cell_guid": "682c5d7a-17c5-428a-8a5f-c6522dfec54d",
    "_uuid": "9062f190af0e65f91964fae8118adcd21c204c13"
   },
   "outputs": [
    {
     "name": "stdout",
     "output_type": "stream",
     "text": [
      "(623, 26)\n",
      "(268, 26)\n",
      "All: [61.61616162 38.38383838]\n",
      "Training: [61.63723917 38.36276083]\n",
      "Test: [61.56716418 38.43283582]\n"
     ]
    },
    {
     "data": {
      "text/plain": [
       "(numpy.ndarray, pandas.core.series.Series)"
      ]
     },
     "execution_count": 30,
     "metadata": {},
     "output_type": "execute_result"
    }
   ],
   "source": [
    "# split the data into train and evaluation data\n",
    "from sklearn.model_selection import train_test_split\n",
    "\n",
    "# X, val_X, y, val_y = train_test_split(X_train_final, y_train, train_size=0.7, test_size=0.3, random_state=123, stratify=y_train)\n",
    "\n",
    "# Applying scaled data\n",
    "X, val_X, y, val_y = train_test_split(X_train_scaled, y_train, train_size=0.7, test_size=0.3, random_state=123, stratify=y_train)\n",
    "\n",
    "print (X.shape)\n",
    "print (val_X.shape)\n",
    "print('All:', np.bincount(y_train) / float(len(y_train)) * 100.0)\n",
    "print('Training:', np.bincount(y) / float(len(y)) * 100.0)\n",
    "print('Test:', np.bincount(val_y) / float(len(val_y)) * 100.0)\n",
    "type(X), type(y)"
   ]
  },
  {
   "cell_type": "markdown",
   "metadata": {},
   "source": [
    "## k-Nearest Neighbors"
   ]
  },
  {
   "cell_type": "code",
   "execution_count": 31,
   "metadata": {},
   "outputs": [
    {
     "name": "stdout",
     "output_type": "stream",
     "text": [
      "Model Parameters:\n",
      "{'algorithm': 'auto', 'leaf_size': 30, 'metric': 'minkowski', 'metric_params': None, 'n_jobs': None, 'n_neighbors': 5, 'p': 2, 'weights': 'uniform'} \n",
      "\n",
      "Count for validation data - actual:  [165 103]\n",
      "Count for validation data - prediction:  [184  84] \n",
      "\n"
     ]
    }
   ],
   "source": [
    "from sklearn.neighbors import KNeighborsClassifier\n",
    "\n",
    "model_knearest_neighbors = KNeighborsClassifier(n_neighbors = 5)\n",
    "model_knearest_neighbors.fit(X,y)\n",
    "\n",
    "print(\"Model Parameters:\")\n",
    "print(model_knearest_neighbors.get_params(), \"\\n\")\n",
    "\n",
    "predictions = model_knearest_neighbors.predict(val_X)\n",
    "predict_proba = model_knearest_neighbors.predict_proba(val_X)\n",
    "\n",
    "print (\"Count for validation data - actual: \", np.bincount(val_y))\n",
    "print (\"Count for validation data - prediction: \", np.bincount(predictions), \"\\n\")"
   ]
  },
  {
   "cell_type": "markdown",
   "metadata": {},
   "source": [
    "### Model Evaluation"
   ]
  },
  {
   "cell_type": "code",
   "execution_count": 32,
   "metadata": {},
   "outputs": [
    {
     "name": "stdout",
     "output_type": "stream",
     "text": [
      "Score for training data - k-Nearest Neighbor:  0.8667736757624398\n",
      "Score for validation data - k-Nearest Neighbor:  0.8395522388059702 \n",
      "\n",
      "Predictions:  [0 1 0 0 0 0] \n",
      "\n",
      "Prediction Probabilities:\n",
      " [[0.8 0.2]\n",
      " [0.  1. ]\n",
      " [1.  0. ]\n",
      " [1.  0. ]\n",
      " [0.8 0.2]\n",
      " [0.6 0.4]]\n"
     ]
    }
   ],
   "source": [
    "# Score\n",
    "print (\"Score for training data - k-Nearest Neighbor: \", model_knearest_neighbors.score(X, y))\n",
    "score_val_dataset = model_knearest_neighbors.score(val_X, val_y)\n",
    "print (\"Score for validation data - k-Nearest Neighbor: \", score_val_dataset, \"\\n\")\n",
    "\n",
    "print(\"Predictions: \", predictions[0:6], \"\\n\")\n",
    "print(\"Prediction Probabilities:\\n\", predict_proba[0:6])"
   ]
  },
  {
   "cell_type": "code",
   "execution_count": 33,
   "metadata": {
    "_uuid": "9043eb8cdacd754f94a094e38fe3adf37c01e856"
   },
   "outputs": [
    {
     "name": "stdout",
     "output_type": "stream",
     "text": [
      "f1_score for validation data - k-Nearest Neighbor:  0.7700534759358288\n",
      "f1_score (average=None) for validation data - k-Nearest Neighbor:  [0.87679083 0.77005348] \n",
      "\n",
      "precision_recall_fscore for validation data - k-Nearest Neighbor:  (array([0.83152174, 0.85714286]), array([0.92727273, 0.69902913]), array([0.87679083, 0.77005348]), array([165, 103], dtype=int64)) \n",
      "\n",
      "Accuracy for model k-Nearest Neighbor: 83.96\n"
     ]
    }
   ],
   "source": [
    "from sklearn.metrics import f1_score, precision_recall_fscore_support, accuracy_score\n",
    "\n",
    "print (\"f1_score for validation data - k-Nearest Neighbor: \", f1_score(val_y, model_knearest_neighbors.predict(val_X)))\n",
    "print (\"f1_score (average=None) for validation data - k-Nearest Neighbor: \", f1_score(val_y, model_knearest_neighbors.predict(val_X), average=None), \"\\n\")\n",
    "\n",
    "print (\"precision_recall_fscore for validation data - k-Nearest Neighbor: \", precision_recall_fscore_support(val_y, model_knearest_neighbors.predict(val_X)), \"\\n\")\n",
    "\n",
    "print(\"Accuracy for model k-Nearest Neighbor: %.2f\" % (accuracy_score(val_y, model_knearest_neighbors.predict(val_X)) * 100))"
   ]
  },
  {
   "cell_type": "markdown",
   "metadata": {},
   "source": [
    "### Model Selection"
   ]
  },
  {
   "cell_type": "code",
   "execution_count": 34,
   "metadata": {},
   "outputs": [
    {
     "name": "stdout",
     "output_type": "stream",
     "text": [
      "\n",
      "Score for training data with default CV:  [0.7877095  0.78651685 0.84831461 0.79775281 0.88202247]\n",
      "0.8204632477559475\n",
      "\n",
      "Score for training data with CV=3:  [0.78451178 0.83838384 0.83501684]\n",
      "0.8193041526374859\n"
     ]
    }
   ],
   "source": [
    "# Applying cross validation on the enire training data\n",
    "from sklearn.model_selection import cross_val_score, KFold, StratifiedKFold, ShuffleSplit\n",
    "\n",
    "scores = cross_val_score(model_knearest_neighbors, X_train_scaled, y_train)\n",
    "print(\"\\nScore for training data with default CV: \", scores)\n",
    "print(np.mean(scores))\n",
    "\n",
    "scores = cross_val_score(model_knearest_neighbors, X_train_scaled, y_train, cv=3)\n",
    "print(\"\\nScore for training data with CV=3: \", scores)\n",
    "print(np.mean(scores))"
   ]
  },
  {
   "cell_type": "code",
   "execution_count": 35,
   "metadata": {
    "_cell_guid": "e7788a12-823e-46c4-8516-6504c630df80",
    "_uuid": "af835a1d079f47be012d4cdeaab275fc3dfea559"
   },
   "outputs": [
    {
     "name": "stdout",
     "output_type": "stream",
     "text": [
      "Score for training data with default CV:  [0.864      0.792      0.768      0.82258065 0.80645161]\n",
      "Mean Score:  0.8106064516129032 \n",
      "\n",
      "Score for training data with CV=3:  [0.80288462 0.80288462 0.79710145]\n",
      "Mean Score:  0.8009568933481978 \n",
      "\n",
      "Score for validation data with CV=3:  [0.78888889 0.80898876 0.73033708]\n",
      "Mean Score:  0.7760715771951728\n"
     ]
    }
   ],
   "source": [
    "# Applying cross validation by splitting the training data into training data and validation data\n",
    "from sklearn.model_selection import cross_val_score, KFold, StratifiedKFold, ShuffleSplit\n",
    "\n",
    "scores = cross_val_score(model_knearest_neighbors, X, y)\n",
    "print(\"Score for training data with default CV: \", scores)\n",
    "print(\"Mean Score: \", np.mean(scores), \"\\n\")\n",
    "\n",
    "scores = cross_val_score(model_knearest_neighbors, X, y, cv=3)\n",
    "print(\"Score for training data with CV=3: \", scores)\n",
    "print(\"Mean Score: \", np.mean(scores), \"\\n\")\n",
    "\n",
    "scores = cross_val_score(model_knearest_neighbors, val_X, val_y, cv=3)\n",
    "print(\"Score for validation data with CV=3: \", scores)\n",
    "print(\"Mean Score: \", np.mean(scores))"
   ]
  },
  {
   "cell_type": "code",
   "execution_count": 36,
   "metadata": {
    "_cell_guid": "b2d8524c-e2f6-4d99-9ebe-5b9b0dda3b40",
    "_uuid": "369e224e3bc2e94f29c4da661999f275da399988"
   },
   "outputs": [
    {
     "name": "stdout",
     "output_type": "stream",
     "text": [
      "Score for validation data with StartifiedKFold, CV=5:  [0.82089552 0.71641791 0.82089552 0.73134328]\n",
      "Mean Score:  0.7723880597014926\n"
     ]
    }
   ],
   "source": [
    "cv = StratifiedKFold(n_splits=4)\n",
    "scores = cross_val_score(model_knearest_neighbors, val_X, val_y, cv=cv)\n",
    "print(\"Score for validation data with StartifiedKFold, CV=5: \", scores)\n",
    "print(\"Mean Score: \", np.mean(scores))"
   ]
  },
  {
   "cell_type": "markdown",
   "metadata": {},
   "source": [
    "### GridSearch"
   ]
  },
  {
   "cell_type": "code",
   "execution_count": 37,
   "metadata": {
    "_cell_guid": "562daf63-8a3a-491a-b400-a1376c164ae5",
    "_uuid": "4473beab4bc8c184145834cee2910590d387fe27"
   },
   "outputs": [
    {
     "name": "stdout",
     "output_type": "stream",
     "text": [
      "Fitting 4 folds for each of 32 candidates, totalling 128 fits\n",
      "[CV] algorithm=auto, n_neighbors=1, weights=uniform ..................\n"
     ]
    },
    {
     "name": "stderr",
     "output_type": "stream",
     "text": [
      "[Parallel(n_jobs=1)]: Using backend SequentialBackend with 1 concurrent workers.\n"
     ]
    },
    {
     "name": "stdout",
     "output_type": "stream",
     "text": [
      "[CV]  algorithm=auto, n_neighbors=1, weights=uniform, score=0.776, total=   6.4s\n",
      "[CV] algorithm=auto, n_neighbors=1, weights=uniform ..................\n",
      "[CV]  algorithm=auto, n_neighbors=1, weights=uniform, score=0.763, total=   0.0s\n",
      "[CV] algorithm=auto, n_neighbors=1, weights=uniform ..................\n",
      "[CV]  algorithm=auto, n_neighbors=1, weights=uniform, score=0.756, total=   0.0s\n",
      "[CV] algorithm=auto, n_neighbors=1, weights=uniform ..................\n",
      "[CV]  algorithm=auto, n_neighbors=1, weights=uniform, score=0.781, total=   0.0s\n",
      "[CV] algorithm=auto, n_neighbors=1, weights=distance .................\n",
      "[CV]  algorithm=auto, n_neighbors=1, weights=distance, score=0.776, total=   0.0s\n",
      "[CV] algorithm=auto, n_neighbors=1, weights=distance .................\n",
      "[CV]  algorithm=auto, n_neighbors=1, weights=distance, score=0.763, total=   0.0s\n",
      "[CV] algorithm=auto, n_neighbors=1, weights=distance .................\n",
      "[CV]  algorithm=auto, n_neighbors=1, weights=distance, score=0.756, total=   0.0s\n",
      "[CV] algorithm=auto, n_neighbors=1, weights=distance .................\n",
      "[CV]  algorithm=auto, n_neighbors=1, weights=distance, score=0.781, total=   0.0s\n",
      "[CV] algorithm=auto, n_neighbors=5, weights=uniform ..................\n",
      "[CV]  algorithm=auto, n_neighbors=5, weights=uniform, score=0.859, total=   0.0s\n",
      "[CV] algorithm=auto, n_neighbors=5, weights=uniform ..................\n",
      "[CV]  algorithm=auto, n_neighbors=5, weights=uniform, score=0.776, total=   0.0s\n",
      "[CV] algorithm=auto, n_neighbors=5, weights=uniform ..................\n",
      "[CV]  algorithm=auto, n_neighbors=5, weights=uniform, score=0.795, total=   0.0s"
     ]
    },
    {
     "name": "stderr",
     "output_type": "stream",
     "text": [
      "[Parallel(n_jobs=1)]: Done   1 out of   1 | elapsed:    6.3s remaining:    0.0s\n",
      "[Parallel(n_jobs=1)]: Done   2 out of   2 | elapsed:    6.4s remaining:    0.0s\n"
     ]
    },
    {
     "name": "stdout",
     "output_type": "stream",
     "text": [
      "\n",
      "[CV] algorithm=auto, n_neighbors=5, weights=uniform ..................\n",
      "[CV]  algorithm=auto, n_neighbors=5, weights=uniform, score=0.768, total=   0.0s\n",
      "[CV] algorithm=auto, n_neighbors=5, weights=distance .................\n",
      "[CV]  algorithm=auto, n_neighbors=5, weights=distance, score=0.801, total=   0.0s\n",
      "[CV] algorithm=auto, n_neighbors=5, weights=distance .................\n",
      "[CV]  algorithm=auto, n_neighbors=5, weights=distance, score=0.769, total=   0.0s\n",
      "[CV] algorithm=auto, n_neighbors=5, weights=distance .................\n",
      "[CV]  algorithm=auto, n_neighbors=5, weights=distance, score=0.769, total=   0.0s\n",
      "[CV] algorithm=auto, n_neighbors=5, weights=distance .................\n",
      "[CV]  algorithm=auto, n_neighbors=5, weights=distance, score=0.761, total=   0.0s\n",
      "[CV] algorithm=auto, n_neighbors=10, weights=uniform .................\n",
      "[CV]  algorithm=auto, n_neighbors=10, weights=uniform, score=0.865, total=   0.0s\n",
      "[CV] algorithm=auto, n_neighbors=10, weights=uniform .................\n",
      "[CV]  algorithm=auto, n_neighbors=10, weights=uniform, score=0.782, total=   0.0s\n",
      "[CV] algorithm=auto, n_neighbors=10, weights=uniform .................\n",
      "[CV]  algorithm=auto, n_neighbors=10, weights=uniform, score=0.808, total=   0.0s\n",
      "[CV] algorithm=auto, n_neighbors=10, weights=uniform .................\n",
      "[CV]  algorithm=auto, n_neighbors=10, weights=uniform, score=0.819, total=   0.0s\n",
      "[CV] algorithm=auto, n_neighbors=10, weights=distance ................\n",
      "[CV]  algorithm=auto, n_neighbors=10, weights=distance, score=0.833, total=   0.0s\n",
      "[CV] algorithm=auto, n_neighbors=10, weights=distance ................\n",
      "[CV]  algorithm=auto, n_neighbors=10, weights=distance, score=0.782, total=   0.0s\n",
      "[CV] algorithm=auto, n_neighbors=10, weights=distance ................\n",
      "[CV]  algorithm=auto, n_neighbors=10, weights=distance, score=0.782, total=   0.0s\n",
      "[CV] algorithm=auto, n_neighbors=10, weights=distance ................\n",
      "[CV]  algorithm=auto, n_neighbors=10, weights=distance, score=0.813, total=   0.0s\n",
      "[CV] algorithm=auto, n_neighbors=15, weights=uniform .................\n",
      "[CV]  algorithm=auto, n_neighbors=15, weights=uniform, score=0.846, total=   0.0s\n",
      "[CV] algorithm=auto, n_neighbors=15, weights=uniform .................\n",
      "[CV]  algorithm=auto, n_neighbors=15, weights=uniform, score=0.795, total=   0.0s\n",
      "[CV] algorithm=auto, n_neighbors=15, weights=uniform .................\n",
      "[CV]  algorithm=auto, n_neighbors=15, weights=uniform, score=0.814, total=   0.0s\n",
      "[CV] algorithm=auto, n_neighbors=15, weights=uniform .................\n",
      "[CV]  algorithm=auto, n_neighbors=15, weights=uniform, score=0.806, total=   0.0s\n",
      "[CV] algorithm=auto, n_neighbors=15, weights=distance ................\n",
      "[CV]  algorithm=auto, n_neighbors=15, weights=distance, score=0.846, total=   0.0s\n",
      "[CV] algorithm=auto, n_neighbors=15, weights=distance ................\n",
      "[CV]  algorithm=auto, n_neighbors=15, weights=distance, score=0.788, total=   0.0s\n",
      "[CV] algorithm=auto, n_neighbors=15, weights=distance ................\n",
      "[CV]  algorithm=auto, n_neighbors=15, weights=distance, score=0.795, total=   0.0s\n",
      "[CV] algorithm=auto, n_neighbors=15, weights=distance ................\n",
      "[CV]  algorithm=auto, n_neighbors=15, weights=distance, score=0.800, total=   0.0s\n",
      "[CV] algorithm=ball_tree, n_neighbors=1, weights=uniform .............\n",
      "[CV]  algorithm=ball_tree, n_neighbors=1, weights=uniform, score=0.776, total=   0.0s\n",
      "[CV] algorithm=ball_tree, n_neighbors=1, weights=uniform .............\n",
      "[CV]  algorithm=ball_tree, n_neighbors=1, weights=uniform, score=0.763, total=   0.0s\n",
      "[CV] algorithm=ball_tree, n_neighbors=1, weights=uniform .............\n",
      "[CV]  algorithm=ball_tree, n_neighbors=1, weights=uniform, score=0.756, total=   0.0s\n",
      "[CV] algorithm=ball_tree, n_neighbors=1, weights=uniform .............\n",
      "[CV]  algorithm=ball_tree, n_neighbors=1, weights=uniform, score=0.781, total=   0.0s\n",
      "[CV] algorithm=ball_tree, n_neighbors=1, weights=distance ............\n",
      "[CV]  algorithm=ball_tree, n_neighbors=1, weights=distance, score=0.776, total=   0.0s\n",
      "[CV] algorithm=ball_tree, n_neighbors=1, weights=distance ............\n",
      "[CV]  algorithm=ball_tree, n_neighbors=1, weights=distance, score=0.763, total=   0.0s\n",
      "[CV] algorithm=ball_tree, n_neighbors=1, weights=distance ............\n",
      "[CV]  algorithm=ball_tree, n_neighbors=1, weights=distance, score=0.756, total=   0.0s\n",
      "[CV] algorithm=ball_tree, n_neighbors=1, weights=distance ............\n",
      "[CV]  algorithm=ball_tree, n_neighbors=1, weights=distance, score=0.781, total=   0.0s\n",
      "[CV] algorithm=ball_tree, n_neighbors=5, weights=uniform .............\n",
      "[CV]  algorithm=ball_tree, n_neighbors=5, weights=uniform, score=0.859, total=   0.0s\n",
      "[CV] algorithm=ball_tree, n_neighbors=5, weights=uniform .............\n",
      "[CV]  algorithm=ball_tree, n_neighbors=5, weights=uniform, score=0.776, total=   0.0s\n",
      "[CV] algorithm=ball_tree, n_neighbors=5, weights=uniform .............\n",
      "[CV]  algorithm=ball_tree, n_neighbors=5, weights=uniform, score=0.795, total=   0.0s\n",
      "[CV] algorithm=ball_tree, n_neighbors=5, weights=uniform .............\n",
      "[CV]  algorithm=ball_tree, n_neighbors=5, weights=uniform, score=0.768, total=   0.0s\n",
      "[CV] algorithm=ball_tree, n_neighbors=5, weights=distance ............\n",
      "[CV]  algorithm=ball_tree, n_neighbors=5, weights=distance, score=0.801, total=   0.0s\n",
      "[CV] algorithm=ball_tree, n_neighbors=5, weights=distance ............\n",
      "[CV]  algorithm=ball_tree, n_neighbors=5, weights=distance, score=0.769, total=   0.0s\n",
      "[CV] algorithm=ball_tree, n_neighbors=5, weights=distance ............\n",
      "[CV]  algorithm=ball_tree, n_neighbors=5, weights=distance, score=0.769, total=   0.0s\n",
      "[CV] algorithm=ball_tree, n_neighbors=5, weights=distance ............\n",
      "[CV]  algorithm=ball_tree, n_neighbors=5, weights=distance, score=0.761, total=   0.0s\n",
      "[CV] algorithm=ball_tree, n_neighbors=10, weights=uniform ............\n",
      "[CV]  algorithm=ball_tree, n_neighbors=10, weights=uniform, score=0.865, total=   0.0s\n",
      "[CV] algorithm=ball_tree, n_neighbors=10, weights=uniform ............\n",
      "[CV]  algorithm=ball_tree, n_neighbors=10, weights=uniform, score=0.782, total=   0.0s\n",
      "[CV] algorithm=ball_tree, n_neighbors=10, weights=uniform ............\n",
      "[CV]  algorithm=ball_tree, n_neighbors=10, weights=uniform, score=0.808, total=   0.0s\n",
      "[CV] algorithm=ball_tree, n_neighbors=10, weights=uniform ............\n",
      "[CV]  algorithm=ball_tree, n_neighbors=10, weights=uniform, score=0.819, total=   0.0s\n",
      "[CV] algorithm=ball_tree, n_neighbors=10, weights=distance ...........\n",
      "[CV]  algorithm=ball_tree, n_neighbors=10, weights=distance, score=0.833, total=   0.0s\n",
      "[CV] algorithm=ball_tree, n_neighbors=10, weights=distance ...........\n",
      "[CV]  algorithm=ball_tree, n_neighbors=10, weights=distance, score=0.782, total=   0.0s\n",
      "[CV] algorithm=ball_tree, n_neighbors=10, weights=distance ...........\n",
      "[CV]  algorithm=ball_tree, n_neighbors=10, weights=distance, score=0.782, total=   0.0s\n",
      "[CV] algorithm=ball_tree, n_neighbors=10, weights=distance ...........\n",
      "[CV]  algorithm=ball_tree, n_neighbors=10, weights=distance, score=0.813, total=   0.0s\n",
      "[CV] algorithm=ball_tree, n_neighbors=15, weights=uniform ............\n",
      "[CV]  algorithm=ball_tree, n_neighbors=15, weights=uniform, score=0.846, total=   0.0s\n",
      "[CV] algorithm=ball_tree, n_neighbors=15, weights=uniform ............\n",
      "[CV]  algorithm=ball_tree, n_neighbors=15, weights=uniform, score=0.795, total=   0.0s\n",
      "[CV] algorithm=ball_tree, n_neighbors=15, weights=uniform ............\n",
      "[CV]  algorithm=ball_tree, n_neighbors=15, weights=uniform, score=0.814, total=   0.0s\n",
      "[CV] algorithm=ball_tree, n_neighbors=15, weights=uniform ............\n",
      "[CV]  algorithm=ball_tree, n_neighbors=15, weights=uniform, score=0.806, total=   0.0s\n",
      "[CV] algorithm=ball_tree, n_neighbors=15, weights=distance ...........\n",
      "[CV]  algorithm=ball_tree, n_neighbors=15, weights=distance, score=0.846, total=   0.0s\n",
      "[CV] algorithm=ball_tree, n_neighbors=15, weights=distance ...........\n",
      "[CV]  algorithm=ball_tree, n_neighbors=15, weights=distance, score=0.788, total=   0.0s\n",
      "[CV] algorithm=ball_tree, n_neighbors=15, weights=distance ...........\n",
      "[CV]  algorithm=ball_tree, n_neighbors=15, weights=distance, score=0.795, total=   0.0s\n",
      "[CV] algorithm=ball_tree, n_neighbors=15, weights=distance ...........\n",
      "[CV]  algorithm=ball_tree, n_neighbors=15, weights=distance, score=0.800, total=   0.0s\n",
      "[CV] algorithm=kd_tree, n_neighbors=1, weights=uniform ...............\n",
      "[CV]  algorithm=kd_tree, n_neighbors=1, weights=uniform, score=0.776, total=   0.0s\n",
      "[CV] algorithm=kd_tree, n_neighbors=1, weights=uniform ...............\n",
      "[CV]  algorithm=kd_tree, n_neighbors=1, weights=uniform, score=0.763, total=   0.0s\n",
      "[CV] algorithm=kd_tree, n_neighbors=1, weights=uniform ...............\n",
      "[CV]  algorithm=kd_tree, n_neighbors=1, weights=uniform, score=0.756, total=   0.0s\n",
      "[CV] algorithm=kd_tree, n_neighbors=1, weights=uniform ...............\n",
      "[CV]  algorithm=kd_tree, n_neighbors=1, weights=uniform, score=0.781, total=   0.0s\n",
      "[CV] algorithm=kd_tree, n_neighbors=1, weights=distance ..............\n",
      "[CV]  algorithm=kd_tree, n_neighbors=1, weights=distance, score=0.776, total=   0.0s\n",
      "[CV] algorithm=kd_tree, n_neighbors=1, weights=distance ..............\n",
      "[CV]  algorithm=kd_tree, n_neighbors=1, weights=distance, score=0.763, total=   0.0s\n",
      "[CV] algorithm=kd_tree, n_neighbors=1, weights=distance ..............\n",
      "[CV]  algorithm=kd_tree, n_neighbors=1, weights=distance, score=0.756, total=   0.0s\n",
      "[CV] algorithm=kd_tree, n_neighbors=1, weights=distance ..............\n"
     ]
    },
    {
     "name": "stdout",
     "output_type": "stream",
     "text": [
      "[CV]  algorithm=kd_tree, n_neighbors=1, weights=distance, score=0.781, total=   0.0s\n",
      "[CV] algorithm=kd_tree, n_neighbors=5, weights=uniform ...............\n",
      "[CV]  algorithm=kd_tree, n_neighbors=5, weights=uniform, score=0.859, total=   0.0s\n",
      "[CV] algorithm=kd_tree, n_neighbors=5, weights=uniform ...............\n",
      "[CV]  algorithm=kd_tree, n_neighbors=5, weights=uniform, score=0.776, total=   0.0s\n",
      "[CV] algorithm=kd_tree, n_neighbors=5, weights=uniform ...............\n",
      "[CV]  algorithm=kd_tree, n_neighbors=5, weights=uniform, score=0.795, total=   0.0s\n",
      "[CV] algorithm=kd_tree, n_neighbors=5, weights=uniform ...............\n",
      "[CV]  algorithm=kd_tree, n_neighbors=5, weights=uniform, score=0.768, total=   0.0s\n",
      "[CV] algorithm=kd_tree, n_neighbors=5, weights=distance ..............\n",
      "[CV]  algorithm=kd_tree, n_neighbors=5, weights=distance, score=0.801, total=   0.0s\n",
      "[CV] algorithm=kd_tree, n_neighbors=5, weights=distance ..............\n",
      "[CV]  algorithm=kd_tree, n_neighbors=5, weights=distance, score=0.769, total=   0.0s\n",
      "[CV] algorithm=kd_tree, n_neighbors=5, weights=distance ..............\n",
      "[CV]  algorithm=kd_tree, n_neighbors=5, weights=distance, score=0.769, total=   0.0s\n",
      "[CV] algorithm=kd_tree, n_neighbors=5, weights=distance ..............\n",
      "[CV]  algorithm=kd_tree, n_neighbors=5, weights=distance, score=0.761, total=   0.0s\n",
      "[CV] algorithm=kd_tree, n_neighbors=10, weights=uniform ..............\n",
      "[CV]  algorithm=kd_tree, n_neighbors=10, weights=uniform, score=0.865, total=   0.0s\n",
      "[CV] algorithm=kd_tree, n_neighbors=10, weights=uniform ..............\n",
      "[CV]  algorithm=kd_tree, n_neighbors=10, weights=uniform, score=0.782, total=   0.0s\n",
      "[CV] algorithm=kd_tree, n_neighbors=10, weights=uniform ..............\n",
      "[CV]  algorithm=kd_tree, n_neighbors=10, weights=uniform, score=0.808, total=   0.0s\n",
      "[CV] algorithm=kd_tree, n_neighbors=10, weights=uniform ..............\n",
      "[CV]  algorithm=kd_tree, n_neighbors=10, weights=uniform, score=0.819, total=   0.0s\n",
      "[CV] algorithm=kd_tree, n_neighbors=10, weights=distance .............\n",
      "[CV]  algorithm=kd_tree, n_neighbors=10, weights=distance, score=0.833, total=   0.0s\n",
      "[CV] algorithm=kd_tree, n_neighbors=10, weights=distance .............\n",
      "[CV]  algorithm=kd_tree, n_neighbors=10, weights=distance, score=0.782, total=   0.0s\n",
      "[CV] algorithm=kd_tree, n_neighbors=10, weights=distance .............\n",
      "[CV]  algorithm=kd_tree, n_neighbors=10, weights=distance, score=0.782, total=   0.0s\n",
      "[CV] algorithm=kd_tree, n_neighbors=10, weights=distance .............\n",
      "[CV]  algorithm=kd_tree, n_neighbors=10, weights=distance, score=0.813, total=   0.0s\n",
      "[CV] algorithm=kd_tree, n_neighbors=15, weights=uniform ..............\n",
      "[CV]  algorithm=kd_tree, n_neighbors=15, weights=uniform, score=0.846, total=   0.0s\n",
      "[CV] algorithm=kd_tree, n_neighbors=15, weights=uniform ..............\n",
      "[CV]  algorithm=kd_tree, n_neighbors=15, weights=uniform, score=0.795, total=   0.0s\n",
      "[CV] algorithm=kd_tree, n_neighbors=15, weights=uniform ..............\n",
      "[CV]  algorithm=kd_tree, n_neighbors=15, weights=uniform, score=0.814, total=   0.0s\n",
      "[CV] algorithm=kd_tree, n_neighbors=15, weights=uniform ..............\n",
      "[CV]  algorithm=kd_tree, n_neighbors=15, weights=uniform, score=0.806, total=   0.0s\n",
      "[CV] algorithm=kd_tree, n_neighbors=15, weights=distance .............\n",
      "[CV]  algorithm=kd_tree, n_neighbors=15, weights=distance, score=0.846, total=   0.0s\n",
      "[CV] algorithm=kd_tree, n_neighbors=15, weights=distance .............\n",
      "[CV]  algorithm=kd_tree, n_neighbors=15, weights=distance, score=0.788, total=   0.0s\n",
      "[CV] algorithm=kd_tree, n_neighbors=15, weights=distance .............\n",
      "[CV]  algorithm=kd_tree, n_neighbors=15, weights=distance, score=0.795, total=   0.0s\n",
      "[CV] algorithm=kd_tree, n_neighbors=15, weights=distance .............\n",
      "[CV]  algorithm=kd_tree, n_neighbors=15, weights=distance, score=0.800, total=   0.0s\n",
      "[CV] algorithm=brute, n_neighbors=1, weights=uniform .................\n",
      "[CV]  algorithm=brute, n_neighbors=1, weights=uniform, score=0.776, total=   0.1s\n",
      "[CV] algorithm=brute, n_neighbors=1, weights=uniform .................\n",
      "[CV]  algorithm=brute, n_neighbors=1, weights=uniform, score=0.763, total=   0.1s\n",
      "[CV] algorithm=brute, n_neighbors=1, weights=uniform .................\n",
      "[CV]  algorithm=brute, n_neighbors=1, weights=uniform, score=0.756, total=   0.1s\n",
      "[CV] algorithm=brute, n_neighbors=1, weights=uniform .................\n",
      "[CV]  algorithm=brute, n_neighbors=1, weights=uniform, score=0.774, total=   0.1s\n",
      "[CV] algorithm=brute, n_neighbors=1, weights=distance ................\n",
      "[CV]  algorithm=brute, n_neighbors=1, weights=distance, score=0.776, total=   0.1s\n",
      "[CV] algorithm=brute, n_neighbors=1, weights=distance ................\n",
      "[CV]  algorithm=brute, n_neighbors=1, weights=distance, score=0.763, total=   0.1s\n",
      "[CV] algorithm=brute, n_neighbors=1, weights=distance ................\n",
      "[CV]  algorithm=brute, n_neighbors=1, weights=distance, score=0.756, total=   0.1s\n",
      "[CV] algorithm=brute, n_neighbors=1, weights=distance ................\n",
      "[CV]  algorithm=brute, n_neighbors=1, weights=distance, score=0.774, total=   0.1s\n",
      "[CV] algorithm=brute, n_neighbors=5, weights=uniform .................\n",
      "[CV]  algorithm=brute, n_neighbors=5, weights=uniform, score=0.859, total=   0.1s\n",
      "[CV] algorithm=brute, n_neighbors=5, weights=uniform .................\n",
      "[CV]  algorithm=brute, n_neighbors=5, weights=uniform, score=0.776, total=   0.1s\n",
      "[CV] algorithm=brute, n_neighbors=5, weights=uniform .................\n",
      "[CV]  algorithm=brute, n_neighbors=5, weights=uniform, score=0.788, total=   0.1s\n",
      "[CV] algorithm=brute, n_neighbors=5, weights=uniform .................\n",
      "[CV]  algorithm=brute, n_neighbors=5, weights=uniform, score=0.768, total=   0.1s\n",
      "[CV] algorithm=brute, n_neighbors=5, weights=distance ................\n",
      "[CV]  algorithm=brute, n_neighbors=5, weights=distance, score=0.808, total=   0.1s\n",
      "[CV] algorithm=brute, n_neighbors=5, weights=distance ................\n",
      "[CV]  algorithm=brute, n_neighbors=5, weights=distance, score=0.769, total=   0.1s\n",
      "[CV] algorithm=brute, n_neighbors=5, weights=distance ................\n",
      "[CV]  algorithm=brute, n_neighbors=5, weights=distance, score=0.769, total=   0.1s\n",
      "[CV] algorithm=brute, n_neighbors=5, weights=distance ................\n",
      "[CV]  algorithm=brute, n_neighbors=5, weights=distance, score=0.761, total=   0.1s\n",
      "[CV] algorithm=brute, n_neighbors=10, weights=uniform ................\n",
      "[CV]  algorithm=brute, n_neighbors=10, weights=uniform, score=0.865, total=   0.1s\n",
      "[CV] algorithm=brute, n_neighbors=10, weights=uniform ................\n",
      "[CV]  algorithm=brute, n_neighbors=10, weights=uniform, score=0.782, total=   0.1s\n",
      "[CV] algorithm=brute, n_neighbors=10, weights=uniform ................\n",
      "[CV]  algorithm=brute, n_neighbors=10, weights=uniform, score=0.808, total=   0.1s\n",
      "[CV] algorithm=brute, n_neighbors=10, weights=uniform ................\n",
      "[CV]  algorithm=brute, n_neighbors=10, weights=uniform, score=0.819, total=   0.1s\n",
      "[CV] algorithm=brute, n_neighbors=10, weights=distance ...............\n",
      "[CV]  algorithm=brute, n_neighbors=10, weights=distance, score=0.833, total=   0.1s\n",
      "[CV] algorithm=brute, n_neighbors=10, weights=distance ...............\n",
      "[CV]  algorithm=brute, n_neighbors=10, weights=distance, score=0.782, total=   0.1s\n",
      "[CV] algorithm=brute, n_neighbors=10, weights=distance ...............\n",
      "[CV]  algorithm=brute, n_neighbors=10, weights=distance, score=0.782, total=   0.1s\n",
      "[CV] algorithm=brute, n_neighbors=10, weights=distance ...............\n",
      "[CV]  algorithm=brute, n_neighbors=10, weights=distance, score=0.813, total=   0.1s\n",
      "[CV] algorithm=brute, n_neighbors=15, weights=uniform ................\n",
      "[CV]  algorithm=brute, n_neighbors=15, weights=uniform, score=0.846, total=   0.1s\n",
      "[CV] algorithm=brute, n_neighbors=15, weights=uniform ................\n",
      "[CV]  algorithm=brute, n_neighbors=15, weights=uniform, score=0.795, total=   0.1s\n",
      "[CV] algorithm=brute, n_neighbors=15, weights=uniform ................\n",
      "[CV]  algorithm=brute, n_neighbors=15, weights=uniform, score=0.814, total=   0.1s\n",
      "[CV] algorithm=brute, n_neighbors=15, weights=uniform ................\n",
      "[CV]  algorithm=brute, n_neighbors=15, weights=uniform, score=0.806, total=   0.1s\n",
      "[CV] algorithm=brute, n_neighbors=15, weights=distance ...............\n"
     ]
    },
    {
     "name": "stdout",
     "output_type": "stream",
     "text": [
      "[CV]  algorithm=brute, n_neighbors=15, weights=distance, score=0.846, total=   0.1s\n",
      "[CV] algorithm=brute, n_neighbors=15, weights=distance ...............\n",
      "[CV]  algorithm=brute, n_neighbors=15, weights=distance, score=0.788, total=   0.1s\n",
      "[CV] algorithm=brute, n_neighbors=15, weights=distance ...............\n",
      "[CV]  algorithm=brute, n_neighbors=15, weights=distance, score=0.795, total=   0.1s\n",
      "[CV] algorithm=brute, n_neighbors=15, weights=distance ...............\n",
      "[CV]  algorithm=brute, n_neighbors=15, weights=distance, score=0.800, total=   0.1s\n",
      "Parameters:  <bound method BaseEstimator.get_params of GridSearchCV(cv=StratifiedKFold(n_splits=4, random_state=None, shuffle=False),\n",
      "             error_score=nan,\n",
      "             estimator=KNeighborsClassifier(algorithm='auto', leaf_size=30,\n",
      "                                            metric='minkowski',\n",
      "                                            metric_params=None, n_jobs=-1,\n",
      "                                            n_neighbors=5, p=2,\n",
      "                                            weights='uniform'),\n",
      "             iid='deprecated', n_jobs=None,\n",
      "             param_grid={'algorithm': ['auto', 'ball_tree', 'kd_tree', 'brute'],\n",
      "                         'n_neighbors': [1, 5, 10, 15],\n",
      "                         'weights': ['uniform', 'distance']},\n",
      "             pre_dispatch='2*n_jobs', refit=True, return_train_score=False,\n",
      "             scoring=None, verbose=3)>\n",
      "\n",
      "GridSearchCV best score - k-Nearest Neighbor:  0.8186207609594707\n",
      "\n",
      "GridSearchCV best params - k-Nearest Neighbor:  {'algorithm': 'auto', 'n_neighbors': 10, 'weights': 'uniform'}\n",
      "\n",
      "GridSearchCV best estimator - k-Nearest Neighbor:  KNeighborsClassifier(algorithm='auto', leaf_size=30, metric='minkowski',\n",
      "                     metric_params=None, n_jobs=-1, n_neighbors=10, p=2,\n",
      "                     weights='uniform')\n",
      "\n",
      "GridSearchCV Score for validation data - k-Nearest Neighbor:  0.8283582089552238\n"
     ]
    },
    {
     "name": "stderr",
     "output_type": "stream",
     "text": [
      "[Parallel(n_jobs=1)]: Done 128 out of 128 | elapsed:   11.7s finished\n"
     ]
    }
   ],
   "source": [
    "from sklearn.model_selection import GridSearchCV\n",
    "# param_grid = {'C': [0.001, 0.01, 0.1, 1, 10], 'gamma': [0.001, 0.01, 0.1, 1]}\n",
    "# param_grid = {'C': [0.001, 0.01, 0.1, 1, 10]}\n",
    "param_grid = {'n_neighbors': [1, 5, 10, 15], 'weights': ['uniform', 'distance'], 'algorithm': ['auto', 'ball_tree', 'kd_tree', 'brute']}\n",
    "\n",
    "model_knearest_neighbors_grid = GridSearchCV(KNeighborsClassifier(n_jobs=-1), param_grid=param_grid, cv=cv, verbose=3)\n",
    "model_knearest_neighbors_grid.fit(X, y)\n",
    "\n",
    "results_grid = model_knearest_neighbors_grid.cv_results_\n",
    "\n",
    "print (\"Parameters: \", model_knearest_neighbors_grid.get_params)\n",
    "\n",
    "print(\"\\nGridSearchCV best score - k-Nearest Neighbor: \", model_knearest_neighbors_grid.best_score_)\n",
    "print(\"\\nGridSearchCV best params - k-Nearest Neighbor: \", model_knearest_neighbors_grid.best_params_)\n",
    "print(\"\\nGridSearchCV best estimator - k-Nearest Neighbor: \", model_knearest_neighbors_grid.best_estimator_)\n",
    "\n",
    "print (\"\\nGridSearchCV Score for validation data - k-Nearest Neighbor: \", model_knearest_neighbors_grid.score(val_X, val_y))"
   ]
  },
  {
   "cell_type": "code",
   "execution_count": 38,
   "metadata": {},
   "outputs": [
    {
     "data": {
      "text/plain": [
       "{'mean_fit_time': array([0.00400603, 0.0034942 , 0.00299048, 0.00423938, 0.00523478,\n",
       "        0.00423849, 0.00448811, 0.00249195, 0.00224435, 0.00249892,\n",
       "        0.00224471, 0.00224465, 0.00199461, 0.00323969, 0.00224376,\n",
       "        0.00323856, 0.00448692, 0.00373882, 0.00348973, 0.00299889,\n",
       "        0.00375688, 0.00299942, 0.00324845, 0.00323951, 0.00149626,\n",
       "        0.00124681, 0.00124663, 0.00124705, 0.00174588, 0.00149637,\n",
       "        0.00124693, 0.00124729]),\n",
       " 'std_fit_time': array([1.21546721e-03, 8.71365590e-04, 7.06044771e-04, 1.08796392e-03,\n",
       "        4.30675674e-04, 8.27514680e-04, 4.99963831e-04, 4.98652472e-04,\n",
       "        4.32155839e-04, 1.10298546e-03, 8.27766937e-04, 4.31433962e-04,\n",
       "        6.07850494e-07, 8.28970418e-04, 4.32086597e-04, 4.28576628e-04,\n",
       "        4.98175650e-04, 8.27029675e-04, 8.64586229e-04, 1.72605625e-05,\n",
       "        8.35024825e-04, 1.16855510e-05, 8.23821910e-04, 4.31192392e-04,\n",
       "        4.98354499e-04, 4.32017903e-04, 4.31571229e-04, 4.32018298e-04,\n",
       "        4.32053456e-04, 4.98116109e-04, 4.31811459e-04, 4.31605114e-04]),\n",
       " 'mean_score_time': array([1.61642176, 0.01047421, 0.01845932, 0.01396227, 0.02094442,\n",
       "        0.01396281, 0.0209465 , 0.01072222, 0.01396263, 0.01046777,\n",
       "        0.01321322, 0.00997305, 0.01321489, 0.01371467, 0.01620626,\n",
       "        0.01246756, 0.01720452, 0.01047355, 0.01571   , 0.0102253 ,\n",
       "        0.01520848, 0.01024294, 0.01446205, 0.01072335, 0.11319715,\n",
       "        0.10472006, 0.11519182, 0.10596716, 0.11519134, 0.10496902,\n",
       "        0.11419439, 0.10696399]),\n",
       " 'std_score_time': array([2.77671269e+00, 1.48028963e-03, 2.86268716e-03, 1.57585987e-03,\n",
       "        1.22154143e-03, 1.86585062e-03, 1.41082805e-03, 4.31846091e-04,\n",
       "        1.22115351e-03, 1.12100150e-03, 4.32053094e-04, 7.05538566e-04,\n",
       "        4.33016004e-04, 1.47556820e-03, 1.08606327e-03, 1.49637485e-03,\n",
       "        4.31536377e-04, 4.98712155e-04, 2.15670380e-03, 1.07856016e-03,\n",
       "        1.62170042e-03, 4.41564854e-04, 8.43207971e-04, 8.37013882e-04,\n",
       "        2.05609799e-03, 1.22139562e-03, 2.68523729e-03, 4.32431184e-04,\n",
       "        3.76460144e-03, 4.31948968e-04, 2.28482651e-03, 1.08685642e-03]),\n",
       " 'param_algorithm': masked_array(data=['auto', 'auto', 'auto', 'auto', 'auto', 'auto', 'auto',\n",
       "                    'auto', 'ball_tree', 'ball_tree', 'ball_tree',\n",
       "                    'ball_tree', 'ball_tree', 'ball_tree', 'ball_tree',\n",
       "                    'ball_tree', 'kd_tree', 'kd_tree', 'kd_tree',\n",
       "                    'kd_tree', 'kd_tree', 'kd_tree', 'kd_tree', 'kd_tree',\n",
       "                    'brute', 'brute', 'brute', 'brute', 'brute', 'brute',\n",
       "                    'brute', 'brute'],\n",
       "              mask=[False, False, False, False, False, False, False, False,\n",
       "                    False, False, False, False, False, False, False, False,\n",
       "                    False, False, False, False, False, False, False, False,\n",
       "                    False, False, False, False, False, False, False, False],\n",
       "        fill_value='?',\n",
       "             dtype=object),\n",
       " 'param_n_neighbors': masked_array(data=[1, 1, 5, 5, 10, 10, 15, 15, 1, 1, 5, 5, 10, 10, 15, 15,\n",
       "                    1, 1, 5, 5, 10, 10, 15, 15, 1, 1, 5, 5, 10, 10, 15, 15],\n",
       "              mask=[False, False, False, False, False, False, False, False,\n",
       "                    False, False, False, False, False, False, False, False,\n",
       "                    False, False, False, False, False, False, False, False,\n",
       "                    False, False, False, False, False, False, False, False],\n",
       "        fill_value='?',\n",
       "             dtype=object),\n",
       " 'param_weights': masked_array(data=['uniform', 'distance', 'uniform', 'distance',\n",
       "                    'uniform', 'distance', 'uniform', 'distance',\n",
       "                    'uniform', 'distance', 'uniform', 'distance',\n",
       "                    'uniform', 'distance', 'uniform', 'distance',\n",
       "                    'uniform', 'distance', 'uniform', 'distance',\n",
       "                    'uniform', 'distance', 'uniform', 'distance',\n",
       "                    'uniform', 'distance', 'uniform', 'distance',\n",
       "                    'uniform', 'distance', 'uniform', 'distance'],\n",
       "              mask=[False, False, False, False, False, False, False, False,\n",
       "                    False, False, False, False, False, False, False, False,\n",
       "                    False, False, False, False, False, False, False, False,\n",
       "                    False, False, False, False, False, False, False, False],\n",
       "        fill_value='?',\n",
       "             dtype=object),\n",
       " 'params': [{'algorithm': 'auto', 'n_neighbors': 1, 'weights': 'uniform'},\n",
       "  {'algorithm': 'auto', 'n_neighbors': 1, 'weights': 'distance'},\n",
       "  {'algorithm': 'auto', 'n_neighbors': 5, 'weights': 'uniform'},\n",
       "  {'algorithm': 'auto', 'n_neighbors': 5, 'weights': 'distance'},\n",
       "  {'algorithm': 'auto', 'n_neighbors': 10, 'weights': 'uniform'},\n",
       "  {'algorithm': 'auto', 'n_neighbors': 10, 'weights': 'distance'},\n",
       "  {'algorithm': 'auto', 'n_neighbors': 15, 'weights': 'uniform'},\n",
       "  {'algorithm': 'auto', 'n_neighbors': 15, 'weights': 'distance'},\n",
       "  {'algorithm': 'ball_tree', 'n_neighbors': 1, 'weights': 'uniform'},\n",
       "  {'algorithm': 'ball_tree', 'n_neighbors': 1, 'weights': 'distance'},\n",
       "  {'algorithm': 'ball_tree', 'n_neighbors': 5, 'weights': 'uniform'},\n",
       "  {'algorithm': 'ball_tree', 'n_neighbors': 5, 'weights': 'distance'},\n",
       "  {'algorithm': 'ball_tree', 'n_neighbors': 10, 'weights': 'uniform'},\n",
       "  {'algorithm': 'ball_tree', 'n_neighbors': 10, 'weights': 'distance'},\n",
       "  {'algorithm': 'ball_tree', 'n_neighbors': 15, 'weights': 'uniform'},\n",
       "  {'algorithm': 'ball_tree', 'n_neighbors': 15, 'weights': 'distance'},\n",
       "  {'algorithm': 'kd_tree', 'n_neighbors': 1, 'weights': 'uniform'},\n",
       "  {'algorithm': 'kd_tree', 'n_neighbors': 1, 'weights': 'distance'},\n",
       "  {'algorithm': 'kd_tree', 'n_neighbors': 5, 'weights': 'uniform'},\n",
       "  {'algorithm': 'kd_tree', 'n_neighbors': 5, 'weights': 'distance'},\n",
       "  {'algorithm': 'kd_tree', 'n_neighbors': 10, 'weights': 'uniform'},\n",
       "  {'algorithm': 'kd_tree', 'n_neighbors': 10, 'weights': 'distance'},\n",
       "  {'algorithm': 'kd_tree', 'n_neighbors': 15, 'weights': 'uniform'},\n",
       "  {'algorithm': 'kd_tree', 'n_neighbors': 15, 'weights': 'distance'},\n",
       "  {'algorithm': 'brute', 'n_neighbors': 1, 'weights': 'uniform'},\n",
       "  {'algorithm': 'brute', 'n_neighbors': 1, 'weights': 'distance'},\n",
       "  {'algorithm': 'brute', 'n_neighbors': 5, 'weights': 'uniform'},\n",
       "  {'algorithm': 'brute', 'n_neighbors': 5, 'weights': 'distance'},\n",
       "  {'algorithm': 'brute', 'n_neighbors': 10, 'weights': 'uniform'},\n",
       "  {'algorithm': 'brute', 'n_neighbors': 10, 'weights': 'distance'},\n",
       "  {'algorithm': 'brute', 'n_neighbors': 15, 'weights': 'uniform'},\n",
       "  {'algorithm': 'brute', 'n_neighbors': 15, 'weights': 'distance'}],\n",
       " 'split0_test_score': array([0.77564103, 0.77564103, 0.85897436, 0.80128205, 0.86538462,\n",
       "        0.83333333, 0.84615385, 0.84615385, 0.77564103, 0.77564103,\n",
       "        0.85897436, 0.80128205, 0.86538462, 0.83333333, 0.84615385,\n",
       "        0.84615385, 0.77564103, 0.77564103, 0.85897436, 0.80128205,\n",
       "        0.86538462, 0.83333333, 0.84615385, 0.84615385, 0.77564103,\n",
       "        0.77564103, 0.85897436, 0.80769231, 0.86538462, 0.83333333,\n",
       "        0.84615385, 0.84615385]),\n",
       " 'split1_test_score': array([0.76282051, 0.76282051, 0.77564103, 0.76923077, 0.78205128,\n",
       "        0.78205128, 0.79487179, 0.78846154, 0.76282051, 0.76282051,\n",
       "        0.77564103, 0.76923077, 0.78205128, 0.78205128, 0.79487179,\n",
       "        0.78846154, 0.76282051, 0.76282051, 0.77564103, 0.76923077,\n",
       "        0.78205128, 0.78205128, 0.79487179, 0.78846154, 0.76282051,\n",
       "        0.76282051, 0.77564103, 0.76923077, 0.78205128, 0.78205128,\n",
       "        0.79487179, 0.78846154]),\n",
       " 'split2_test_score': array([0.75641026, 0.75641026, 0.79487179, 0.76923077, 0.80769231,\n",
       "        0.78205128, 0.81410256, 0.79487179, 0.75641026, 0.75641026,\n",
       "        0.79487179, 0.76923077, 0.80769231, 0.78205128, 0.81410256,\n",
       "        0.79487179, 0.75641026, 0.75641026, 0.79487179, 0.76923077,\n",
       "        0.80769231, 0.78205128, 0.81410256, 0.79487179, 0.75641026,\n",
       "        0.75641026, 0.78846154, 0.76923077, 0.80769231, 0.78205128,\n",
       "        0.81410256, 0.79487179]),\n",
       " 'split3_test_score': array([0.78064516, 0.78064516, 0.76774194, 0.76129032, 0.81935484,\n",
       "        0.81290323, 0.80645161, 0.8       , 0.78064516, 0.78064516,\n",
       "        0.76774194, 0.76129032, 0.81935484, 0.81290323, 0.80645161,\n",
       "        0.8       , 0.78064516, 0.78064516, 0.76774194, 0.76129032,\n",
       "        0.81935484, 0.81290323, 0.80645161, 0.8       , 0.77419355,\n",
       "        0.77419355, 0.76774194, 0.76129032, 0.81935484, 0.81290323,\n",
       "        0.80645161, 0.8       ]),\n",
       " 'mean_test_score': array([0.76887924, 0.76887924, 0.79930728, 0.77525848, 0.81862076,\n",
       "        0.80258478, 0.81539495, 0.80737179, 0.76887924, 0.76887924,\n",
       "        0.79930728, 0.77525848, 0.81862076, 0.80258478, 0.81539495,\n",
       "        0.80737179, 0.76887924, 0.76887924, 0.79930728, 0.77525848,\n",
       "        0.81862076, 0.80258478, 0.81539495, 0.80737179, 0.76726634,\n",
       "        0.76726634, 0.79770471, 0.77686104, 0.81862076, 0.80258478,\n",
       "        0.81539495, 0.80737179]),\n",
       " 'std_test_score': array([0.00969977, 0.00969977, 0.03583398, 0.01537044, 0.03018342,\n",
       "        0.02176691, 0.01903262, 0.02276092, 0.00969977, 0.00969977,\n",
       "        0.03583398, 0.01537044, 0.03018342, 0.02176691, 0.01903262,\n",
       "        0.02276092, 0.00969977, 0.00969977, 0.03583398, 0.01537044,\n",
       "        0.03018342, 0.02176691, 0.01903262, 0.02276092, 0.00799596,\n",
       "        0.00799596, 0.03613855, 0.01809321, 0.03018342, 0.02176691,\n",
       "        0.01903262, 0.02276092]),\n",
       " 'rank_test_score': array([25, 25, 17, 22,  1, 13,  5,  9, 25, 25, 17, 22,  1, 13,  5,  9, 25,\n",
       "        25, 17, 22,  1, 13,  5,  9, 31, 31, 20, 21,  1, 13,  5,  9])}"
      ]
     },
     "execution_count": 38,
     "metadata": {},
     "output_type": "execute_result"
    }
   ],
   "source": [
    "results_grid"
   ]
  },
  {
   "cell_type": "code",
   "execution_count": 39,
   "metadata": {},
   "outputs": [
    {
     "name": "stdout",
     "output_type": "stream",
     "text": [
      "Model Parameters:\n",
      "{'cv': StratifiedKFold(n_splits=4, random_state=None, shuffle=False), 'error_score': nan, 'estimator__algorithm': 'auto', 'estimator__leaf_size': 30, 'estimator__metric': 'minkowski', 'estimator__metric_params': None, 'estimator__n_jobs': -1, 'estimator__n_neighbors': 5, 'estimator__p': 2, 'estimator__weights': 'uniform', 'estimator': KNeighborsClassifier(algorithm='auto', leaf_size=30, metric='minkowski',\n",
      "                     metric_params=None, n_jobs=-1, n_neighbors=5, p=2,\n",
      "                     weights='uniform'), 'iid': 'deprecated', 'n_jobs': None, 'param_grid': {'n_neighbors': [1, 5, 10, 15], 'weights': ['uniform', 'distance'], 'algorithm': ['auto', 'ball_tree', 'kd_tree', 'brute']}, 'pre_dispatch': '2*n_jobs', 'refit': True, 'return_train_score': False, 'scoring': None, 'verbose': 3} \n",
      "\n",
      "Count for validation data - actual:  [165 103]\n",
      "Count for validation data - prediction-grid:  [193  75] \n",
      "\n"
     ]
    }
   ],
   "source": [
    "print(\"Model Parameters:\")\n",
    "print(model_knearest_neighbors_grid.get_params(), \"\\n\")\n",
    "\n",
    "predictions_grid = model_knearest_neighbors_grid.predict(val_X)\n",
    "predict_proba_grid = model_knearest_neighbors_grid.predict_proba(val_X)\n",
    "\n",
    "print (\"Count for validation data - actual: \", np.bincount(val_y))\n",
    "print (\"Count for validation data - prediction-grid: \", np.bincount(predictions_grid), \"\\n\")"
   ]
  },
  {
   "cell_type": "code",
   "execution_count": 40,
   "metadata": {},
   "outputs": [
    {
     "name": "stdout",
     "output_type": "stream",
     "text": [
      "Score for training data - Logistic Regression:  0.8314606741573034\n",
      "Score for validation data - Logistic Regression:  0.8283582089552238 \n",
      "\n",
      "Predictions grid:  [0 1 0 0 0 0] \n",
      "\n",
      "Prediction Probabilities grid:\n",
      " [[0.8 0.2]\n",
      " [0.  1. ]\n",
      " [0.9 0.1]\n",
      " [1.  0. ]\n",
      " [0.9 0.1]\n",
      " [0.6 0.4]]\n"
     ]
    }
   ],
   "source": [
    "# Score\n",
    "print (\"Score for training data - Logistic Regression: \", model_knearest_neighbors_grid.score(X, y))\n",
    "score_grid_val_dataset = model_knearest_neighbors_grid.score(val_X, val_y)\n",
    "print (\"Score for validation data - Logistic Regression: \", score_grid_val_dataset, \"\\n\")\n",
    "\n",
    "print(\"Predictions grid: \", predictions_grid[0:6], \"\\n\")\n",
    "print(\"Prediction Probabilities grid:\\n\", predict_proba_grid[0:6])"
   ]
  },
  {
   "cell_type": "markdown",
   "metadata": {},
   "source": [
    "### GridSearch with Scoring"
   ]
  },
  {
   "cell_type": "code",
   "execution_count": 41,
   "metadata": {},
   "outputs": [
    {
     "name": "stdout",
     "output_type": "stream",
     "text": [
      "Fitting 4 folds for each of 32 candidates, totalling 128 fits\n",
      "[CV] algorithm=auto, n_neighbors=1, weights=uniform ..................\n",
      "[CV]  algorithm=auto, n_neighbors=1, weights=uniform, Accuracy=0.776, F1 Score=0.711, total=   0.0s\n",
      "[CV] algorithm=auto, n_neighbors=1, weights=uniform ..................\n",
      "[CV]  algorithm=auto, n_neighbors=1, weights=uniform, Accuracy=0.763, F1 Score=0.634, total=   0.0s\n",
      "[CV] algorithm=auto, n_neighbors=1, weights=uniform ..................\n",
      "[CV]  algorithm=auto, n_neighbors=1, weights=uniform, Accuracy=0.756, F1 Score=0.694, total=   0.0s\n",
      "[CV] algorithm=auto, n_neighbors=1, weights=uniform ..................\n",
      "[CV]  algorithm=auto, n_neighbors=1, weights=uniform, Accuracy=0.781, F1 Score=0.730, total=   0.0s\n",
      "[CV] algorithm=auto, n_neighbors=1, weights=distance .................\n",
      "[CV]  algorithm=auto, n_neighbors=1, weights=distance, Accuracy=0.776, F1 Score=0.711, total=   0.0s\n",
      "[CV] algorithm=auto, n_neighbors=1, weights=distance .................\n",
      "[CV]  algorithm=auto, n_neighbors=1, weights=distance, Accuracy=0.763, F1 Score=0.634, total=   0.0s\n",
      "[CV] algorithm=auto, n_neighbors=1, weights=distance .................\n",
      "[CV]  algorithm=auto, n_neighbors=1, weights=distance, Accuracy=0.756, F1 Score=0.694, total=   0.0s\n",
      "[CV] algorithm=auto, n_neighbors=1, weights=distance .................\n",
      "[CV]  algorithm=auto, n_neighbors=1, weights=distance, Accuracy=0.781, F1 Score=0.730, total=   0.0s\n",
      "[CV] algorithm=auto, n_neighbors=5, weights=uniform ..................\n",
      "[CV]  algorithm=auto, n_neighbors=5, weights=uniform, Accuracy=0.859, F1 Score=0.810, total=   0.0s"
     ]
    },
    {
     "name": "stderr",
     "output_type": "stream",
     "text": [
      "[Parallel(n_jobs=1)]: Using backend SequentialBackend with 1 concurrent workers.\n",
      "[Parallel(n_jobs=1)]: Done   1 out of   1 | elapsed:    0.0s remaining:    0.0s\n",
      "[Parallel(n_jobs=1)]: Done   2 out of   2 | elapsed:    0.0s remaining:    0.0s\n"
     ]
    },
    {
     "name": "stdout",
     "output_type": "stream",
     "text": [
      "\n",
      "[CV] algorithm=auto, n_neighbors=5, weights=uniform ..................\n",
      "[CV]  algorithm=auto, n_neighbors=5, weights=uniform, Accuracy=0.776, F1 Score=0.624, total=   0.0s\n",
      "[CV] algorithm=auto, n_neighbors=5, weights=uniform ..................\n",
      "[CV]  algorithm=auto, n_neighbors=5, weights=uniform, Accuracy=0.795, F1 Score=0.714, total=   0.0s\n",
      "[CV] algorithm=auto, n_neighbors=5, weights=uniform ..................\n",
      "[CV]  algorithm=auto, n_neighbors=5, weights=uniform, Accuracy=0.768, F1 Score=0.700, total=   0.0s\n",
      "[CV] algorithm=auto, n_neighbors=5, weights=distance .................\n",
      "[CV]  algorithm=auto, n_neighbors=5, weights=distance, Accuracy=0.801, F1 Score=0.752, total=   0.0s\n",
      "[CV] algorithm=auto, n_neighbors=5, weights=distance .................\n",
      "[CV]  algorithm=auto, n_neighbors=5, weights=distance, Accuracy=0.769, F1 Score=0.640, total=   0.0s\n",
      "[CV] algorithm=auto, n_neighbors=5, weights=distance .................\n",
      "[CV]  algorithm=auto, n_neighbors=5, weights=distance, Accuracy=0.769, F1 Score=0.700, total=   0.0s\n",
      "[CV] algorithm=auto, n_neighbors=5, weights=distance .................\n",
      "[CV]  algorithm=auto, n_neighbors=5, weights=distance, Accuracy=0.761, F1 Score=0.709, total=   0.0s\n",
      "[CV] algorithm=auto, n_neighbors=10, weights=uniform .................\n",
      "[CV]  algorithm=auto, n_neighbors=10, weights=uniform, Accuracy=0.865, F1 Score=0.814, total=   0.0s\n",
      "[CV] algorithm=auto, n_neighbors=10, weights=uniform .................\n",
      "[CV]  algorithm=auto, n_neighbors=10, weights=uniform, Accuracy=0.782, F1 Score=0.614, total=   0.0s\n",
      "[CV] algorithm=auto, n_neighbors=10, weights=uniform .................\n",
      "[CV]  algorithm=auto, n_neighbors=10, weights=uniform, Accuracy=0.808, F1 Score=0.717, total=   0.0s\n",
      "[CV] algorithm=auto, n_neighbors=10, weights=uniform .................\n",
      "[CV]  algorithm=auto, n_neighbors=10, weights=uniform, Accuracy=0.819, F1 Score=0.741, total=   0.0s\n",
      "[CV] algorithm=auto, n_neighbors=10, weights=distance ................\n",
      "[CV]  algorithm=auto, n_neighbors=10, weights=distance, Accuracy=0.833, F1 Score=0.783, total=   0.0s\n",
      "[CV] algorithm=auto, n_neighbors=10, weights=distance ................\n",
      "[CV]  algorithm=auto, n_neighbors=10, weights=distance, Accuracy=0.782, F1 Score=0.653, total=   0.0s\n",
      "[CV] algorithm=auto, n_neighbors=10, weights=distance ................\n",
      "[CV]  algorithm=auto, n_neighbors=10, weights=distance, Accuracy=0.782, F1 Score=0.717, total=   0.0s\n",
      "[CV] algorithm=auto, n_neighbors=10, weights=distance ................\n",
      "[CV]  algorithm=auto, n_neighbors=10, weights=distance, Accuracy=0.813, F1 Score=0.760, total=   0.0s\n",
      "[CV] algorithm=auto, n_neighbors=15, weights=uniform .................\n",
      "[CV]  algorithm=auto, n_neighbors=15, weights=uniform, Accuracy=0.846, F1 Score=0.789, total=   0.0s\n",
      "[CV] algorithm=auto, n_neighbors=15, weights=uniform .................\n",
      "[CV]  algorithm=auto, n_neighbors=15, weights=uniform, Accuracy=0.795, F1 Score=0.644, total=   0.0s\n",
      "[CV] algorithm=auto, n_neighbors=15, weights=uniform .................\n",
      "[CV]  algorithm=auto, n_neighbors=15, weights=uniform, Accuracy=0.814, F1 Score=0.729, total=   0.0s\n",
      "[CV] algorithm=auto, n_neighbors=15, weights=uniform .................\n",
      "[CV]  algorithm=auto, n_neighbors=15, weights=uniform, Accuracy=0.806, F1 Score=0.722, total=   0.0s\n",
      "[CV] algorithm=auto, n_neighbors=15, weights=distance ................\n",
      "[CV]  algorithm=auto, n_neighbors=15, weights=distance, Accuracy=0.846, F1 Score=0.800, total=   0.0s\n",
      "[CV] algorithm=auto, n_neighbors=15, weights=distance ................\n",
      "[CV]  algorithm=auto, n_neighbors=15, weights=distance, Accuracy=0.788, F1 Score=0.667, total=   0.0s\n",
      "[CV] algorithm=auto, n_neighbors=15, weights=distance ................\n",
      "[CV]  algorithm=auto, n_neighbors=15, weights=distance, Accuracy=0.795, F1 Score=0.729, total=   0.0s\n",
      "[CV] algorithm=auto, n_neighbors=15, weights=distance ................\n",
      "[CV]  algorithm=auto, n_neighbors=15, weights=distance, Accuracy=0.800, F1 Score=0.744, total=   0.0s\n",
      "[CV] algorithm=ball_tree, n_neighbors=1, weights=uniform .............\n",
      "[CV]  algorithm=ball_tree, n_neighbors=1, weights=uniform, Accuracy=0.776, F1 Score=0.711, total=   0.0s\n",
      "[CV] algorithm=ball_tree, n_neighbors=1, weights=uniform .............\n",
      "[CV]  algorithm=ball_tree, n_neighbors=1, weights=uniform, Accuracy=0.763, F1 Score=0.634, total=   0.0s\n",
      "[CV] algorithm=ball_tree, n_neighbors=1, weights=uniform .............\n",
      "[CV]  algorithm=ball_tree, n_neighbors=1, weights=uniform, Accuracy=0.756, F1 Score=0.694, total=   0.0s\n",
      "[CV] algorithm=ball_tree, n_neighbors=1, weights=uniform .............\n",
      "[CV]  algorithm=ball_tree, n_neighbors=1, weights=uniform, Accuracy=0.781, F1 Score=0.730, total=   0.0s\n",
      "[CV] algorithm=ball_tree, n_neighbors=1, weights=distance ............\n",
      "[CV]  algorithm=ball_tree, n_neighbors=1, weights=distance, Accuracy=0.776, F1 Score=0.711, total=   0.0s\n",
      "[CV] algorithm=ball_tree, n_neighbors=1, weights=distance ............\n",
      "[CV]  algorithm=ball_tree, n_neighbors=1, weights=distance, Accuracy=0.763, F1 Score=0.634, total=   0.0s\n",
      "[CV] algorithm=ball_tree, n_neighbors=1, weights=distance ............\n",
      "[CV]  algorithm=ball_tree, n_neighbors=1, weights=distance, Accuracy=0.756, F1 Score=0.694, total=   0.0s\n",
      "[CV] algorithm=ball_tree, n_neighbors=1, weights=distance ............\n",
      "[CV]  algorithm=ball_tree, n_neighbors=1, weights=distance, Accuracy=0.781, F1 Score=0.730, total=   0.0s\n",
      "[CV] algorithm=ball_tree, n_neighbors=5, weights=uniform .............\n",
      "[CV]  algorithm=ball_tree, n_neighbors=5, weights=uniform, Accuracy=0.859, F1 Score=0.810, total=   0.0s\n",
      "[CV] algorithm=ball_tree, n_neighbors=5, weights=uniform .............\n",
      "[CV]  algorithm=ball_tree, n_neighbors=5, weights=uniform, Accuracy=0.776, F1 Score=0.624, total=   0.0s\n",
      "[CV] algorithm=ball_tree, n_neighbors=5, weights=uniform .............\n",
      "[CV]  algorithm=ball_tree, n_neighbors=5, weights=uniform, Accuracy=0.795, F1 Score=0.714, total=   0.0s\n",
      "[CV] algorithm=ball_tree, n_neighbors=5, weights=uniform .............\n",
      "[CV]  algorithm=ball_tree, n_neighbors=5, weights=uniform, Accuracy=0.768, F1 Score=0.700, total=   0.0s\n",
      "[CV] algorithm=ball_tree, n_neighbors=5, weights=distance ............\n",
      "[CV]  algorithm=ball_tree, n_neighbors=5, weights=distance, Accuracy=0.801, F1 Score=0.752, total=   0.0s\n",
      "[CV] algorithm=ball_tree, n_neighbors=5, weights=distance ............\n",
      "[CV]  algorithm=ball_tree, n_neighbors=5, weights=distance, Accuracy=0.769, F1 Score=0.640, total=   0.0s\n",
      "[CV] algorithm=ball_tree, n_neighbors=5, weights=distance ............\n",
      "[CV]  algorithm=ball_tree, n_neighbors=5, weights=distance, Accuracy=0.769, F1 Score=0.700, total=   0.0s\n",
      "[CV] algorithm=ball_tree, n_neighbors=5, weights=distance ............\n",
      "[CV]  algorithm=ball_tree, n_neighbors=5, weights=distance, Accuracy=0.761, F1 Score=0.709, total=   0.0s\n",
      "[CV] algorithm=ball_tree, n_neighbors=10, weights=uniform ............\n",
      "[CV]  algorithm=ball_tree, n_neighbors=10, weights=uniform, Accuracy=0.865, F1 Score=0.814, total=   0.0s\n",
      "[CV] algorithm=ball_tree, n_neighbors=10, weights=uniform ............\n",
      "[CV]  algorithm=ball_tree, n_neighbors=10, weights=uniform, Accuracy=0.782, F1 Score=0.614, total=   0.0s\n",
      "[CV] algorithm=ball_tree, n_neighbors=10, weights=uniform ............\n",
      "[CV]  algorithm=ball_tree, n_neighbors=10, weights=uniform, Accuracy=0.808, F1 Score=0.717, total=   0.0s\n",
      "[CV] algorithm=ball_tree, n_neighbors=10, weights=uniform ............\n",
      "[CV]  algorithm=ball_tree, n_neighbors=10, weights=uniform, Accuracy=0.819, F1 Score=0.741, total=   0.0s\n",
      "[CV] algorithm=ball_tree, n_neighbors=10, weights=distance ...........\n",
      "[CV]  algorithm=ball_tree, n_neighbors=10, weights=distance, Accuracy=0.833, F1 Score=0.783, total=   0.0s\n",
      "[CV] algorithm=ball_tree, n_neighbors=10, weights=distance ...........\n",
      "[CV]  algorithm=ball_tree, n_neighbors=10, weights=distance, Accuracy=0.782, F1 Score=0.653, total=   0.0s\n",
      "[CV] algorithm=ball_tree, n_neighbors=10, weights=distance ...........\n",
      "[CV]  algorithm=ball_tree, n_neighbors=10, weights=distance, Accuracy=0.782, F1 Score=0.717, total=   0.0s\n",
      "[CV] algorithm=ball_tree, n_neighbors=10, weights=distance ...........\n",
      "[CV]  algorithm=ball_tree, n_neighbors=10, weights=distance, Accuracy=0.813, F1 Score=0.760, total=   0.0s\n",
      "[CV] algorithm=ball_tree, n_neighbors=15, weights=uniform ............\n",
      "[CV]  algorithm=ball_tree, n_neighbors=15, weights=uniform, Accuracy=0.846, F1 Score=0.789, total=   0.0s\n",
      "[CV] algorithm=ball_tree, n_neighbors=15, weights=uniform ............\n",
      "[CV]  algorithm=ball_tree, n_neighbors=15, weights=uniform, Accuracy=0.795, F1 Score=0.644, total=   0.0s\n",
      "[CV] algorithm=ball_tree, n_neighbors=15, weights=uniform ............\n"
     ]
    },
    {
     "name": "stdout",
     "output_type": "stream",
     "text": [
      "[CV]  algorithm=ball_tree, n_neighbors=15, weights=uniform, Accuracy=0.814, F1 Score=0.729, total=   0.0s\n",
      "[CV] algorithm=ball_tree, n_neighbors=15, weights=uniform ............\n",
      "[CV]  algorithm=ball_tree, n_neighbors=15, weights=uniform, Accuracy=0.806, F1 Score=0.722, total=   0.0s\n",
      "[CV] algorithm=ball_tree, n_neighbors=15, weights=distance ...........\n",
      "[CV]  algorithm=ball_tree, n_neighbors=15, weights=distance, Accuracy=0.846, F1 Score=0.800, total=   0.0s\n",
      "[CV] algorithm=ball_tree, n_neighbors=15, weights=distance ...........\n",
      "[CV]  algorithm=ball_tree, n_neighbors=15, weights=distance, Accuracy=0.788, F1 Score=0.667, total=   0.0s\n",
      "[CV] algorithm=ball_tree, n_neighbors=15, weights=distance ...........\n",
      "[CV]  algorithm=ball_tree, n_neighbors=15, weights=distance, Accuracy=0.795, F1 Score=0.729, total=   0.0s\n",
      "[CV] algorithm=ball_tree, n_neighbors=15, weights=distance ...........\n",
      "[CV]  algorithm=ball_tree, n_neighbors=15, weights=distance, Accuracy=0.800, F1 Score=0.744, total=   0.0s\n",
      "[CV] algorithm=kd_tree, n_neighbors=1, weights=uniform ...............\n",
      "[CV]  algorithm=kd_tree, n_neighbors=1, weights=uniform, Accuracy=0.776, F1 Score=0.711, total=   0.0s\n",
      "[CV] algorithm=kd_tree, n_neighbors=1, weights=uniform ...............\n",
      "[CV]  algorithm=kd_tree, n_neighbors=1, weights=uniform, Accuracy=0.763, F1 Score=0.634, total=   0.0s\n",
      "[CV] algorithm=kd_tree, n_neighbors=1, weights=uniform ...............\n",
      "[CV]  algorithm=kd_tree, n_neighbors=1, weights=uniform, Accuracy=0.756, F1 Score=0.694, total=   0.0s\n",
      "[CV] algorithm=kd_tree, n_neighbors=1, weights=uniform ...............\n",
      "[CV]  algorithm=kd_tree, n_neighbors=1, weights=uniform, Accuracy=0.781, F1 Score=0.730, total=   0.0s\n",
      "[CV] algorithm=kd_tree, n_neighbors=1, weights=distance ..............\n",
      "[CV]  algorithm=kd_tree, n_neighbors=1, weights=distance, Accuracy=0.776, F1 Score=0.711, total=   0.0s\n",
      "[CV] algorithm=kd_tree, n_neighbors=1, weights=distance ..............\n",
      "[CV]  algorithm=kd_tree, n_neighbors=1, weights=distance, Accuracy=0.763, F1 Score=0.634, total=   0.0s\n",
      "[CV] algorithm=kd_tree, n_neighbors=1, weights=distance ..............\n",
      "[CV]  algorithm=kd_tree, n_neighbors=1, weights=distance, Accuracy=0.756, F1 Score=0.694, total=   0.0s\n",
      "[CV] algorithm=kd_tree, n_neighbors=1, weights=distance ..............\n",
      "[CV]  algorithm=kd_tree, n_neighbors=1, weights=distance, Accuracy=0.781, F1 Score=0.730, total=   0.0s\n",
      "[CV] algorithm=kd_tree, n_neighbors=5, weights=uniform ...............\n",
      "[CV]  algorithm=kd_tree, n_neighbors=5, weights=uniform, Accuracy=0.859, F1 Score=0.810, total=   0.0s\n",
      "[CV] algorithm=kd_tree, n_neighbors=5, weights=uniform ...............\n",
      "[CV]  algorithm=kd_tree, n_neighbors=5, weights=uniform, Accuracy=0.776, F1 Score=0.624, total=   0.0s\n",
      "[CV] algorithm=kd_tree, n_neighbors=5, weights=uniform ...............\n",
      "[CV]  algorithm=kd_tree, n_neighbors=5, weights=uniform, Accuracy=0.795, F1 Score=0.714, total=   0.0s\n",
      "[CV] algorithm=kd_tree, n_neighbors=5, weights=uniform ...............\n",
      "[CV]  algorithm=kd_tree, n_neighbors=5, weights=uniform, Accuracy=0.768, F1 Score=0.700, total=   0.0s\n",
      "[CV] algorithm=kd_tree, n_neighbors=5, weights=distance ..............\n",
      "[CV]  algorithm=kd_tree, n_neighbors=5, weights=distance, Accuracy=0.801, F1 Score=0.752, total=   0.0s\n",
      "[CV] algorithm=kd_tree, n_neighbors=5, weights=distance ..............\n",
      "[CV]  algorithm=kd_tree, n_neighbors=5, weights=distance, Accuracy=0.769, F1 Score=0.640, total=   0.0s\n",
      "[CV] algorithm=kd_tree, n_neighbors=5, weights=distance ..............\n",
      "[CV]  algorithm=kd_tree, n_neighbors=5, weights=distance, Accuracy=0.769, F1 Score=0.700, total=   0.0s\n",
      "[CV] algorithm=kd_tree, n_neighbors=5, weights=distance ..............\n",
      "[CV]  algorithm=kd_tree, n_neighbors=5, weights=distance, Accuracy=0.761, F1 Score=0.709, total=   0.0s\n",
      "[CV] algorithm=kd_tree, n_neighbors=10, weights=uniform ..............\n",
      "[CV]  algorithm=kd_tree, n_neighbors=10, weights=uniform, Accuracy=0.865, F1 Score=0.814, total=   0.0s\n",
      "[CV] algorithm=kd_tree, n_neighbors=10, weights=uniform ..............\n",
      "[CV]  algorithm=kd_tree, n_neighbors=10, weights=uniform, Accuracy=0.782, F1 Score=0.614, total=   0.0s\n",
      "[CV] algorithm=kd_tree, n_neighbors=10, weights=uniform ..............\n",
      "[CV]  algorithm=kd_tree, n_neighbors=10, weights=uniform, Accuracy=0.808, F1 Score=0.717, total=   0.0s\n",
      "[CV] algorithm=kd_tree, n_neighbors=10, weights=uniform ..............\n",
      "[CV]  algorithm=kd_tree, n_neighbors=10, weights=uniform, Accuracy=0.819, F1 Score=0.741, total=   0.0s\n",
      "[CV] algorithm=kd_tree, n_neighbors=10, weights=distance .............\n",
      "[CV]  algorithm=kd_tree, n_neighbors=10, weights=distance, Accuracy=0.833, F1 Score=0.783, total=   0.0s\n",
      "[CV] algorithm=kd_tree, n_neighbors=10, weights=distance .............\n",
      "[CV]  algorithm=kd_tree, n_neighbors=10, weights=distance, Accuracy=0.782, F1 Score=0.653, total=   0.0s\n",
      "[CV] algorithm=kd_tree, n_neighbors=10, weights=distance .............\n",
      "[CV]  algorithm=kd_tree, n_neighbors=10, weights=distance, Accuracy=0.782, F1 Score=0.717, total=   0.0s\n",
      "[CV] algorithm=kd_tree, n_neighbors=10, weights=distance .............\n",
      "[CV]  algorithm=kd_tree, n_neighbors=10, weights=distance, Accuracy=0.813, F1 Score=0.760, total=   0.0s\n",
      "[CV] algorithm=kd_tree, n_neighbors=15, weights=uniform ..............\n",
      "[CV]  algorithm=kd_tree, n_neighbors=15, weights=uniform, Accuracy=0.846, F1 Score=0.789, total=   0.0s\n",
      "[CV] algorithm=kd_tree, n_neighbors=15, weights=uniform ..............\n",
      "[CV]  algorithm=kd_tree, n_neighbors=15, weights=uniform, Accuracy=0.795, F1 Score=0.644, total=   0.0s\n",
      "[CV] algorithm=kd_tree, n_neighbors=15, weights=uniform ..............\n",
      "[CV]  algorithm=kd_tree, n_neighbors=15, weights=uniform, Accuracy=0.814, F1 Score=0.729, total=   0.0s\n",
      "[CV] algorithm=kd_tree, n_neighbors=15, weights=uniform ..............\n",
      "[CV]  algorithm=kd_tree, n_neighbors=15, weights=uniform, Accuracy=0.806, F1 Score=0.722, total=   0.0s\n",
      "[CV] algorithm=kd_tree, n_neighbors=15, weights=distance .............\n",
      "[CV]  algorithm=kd_tree, n_neighbors=15, weights=distance, Accuracy=0.846, F1 Score=0.800, total=   0.0s\n",
      "[CV] algorithm=kd_tree, n_neighbors=15, weights=distance .............\n",
      "[CV]  algorithm=kd_tree, n_neighbors=15, weights=distance, Accuracy=0.788, F1 Score=0.667, total=   0.0s\n",
      "[CV] algorithm=kd_tree, n_neighbors=15, weights=distance .............\n",
      "[CV]  algorithm=kd_tree, n_neighbors=15, weights=distance, Accuracy=0.795, F1 Score=0.729, total=   0.0s\n",
      "[CV] algorithm=kd_tree, n_neighbors=15, weights=distance .............\n",
      "[CV]  algorithm=kd_tree, n_neighbors=15, weights=distance, Accuracy=0.800, F1 Score=0.744, total=   0.0s\n",
      "[CV] algorithm=brute, n_neighbors=1, weights=uniform .................\n",
      "[CV]  algorithm=brute, n_neighbors=1, weights=uniform, Accuracy=0.776, F1 Score=0.711, total=   0.1s\n",
      "[CV] algorithm=brute, n_neighbors=1, weights=uniform .................\n",
      "[CV]  algorithm=brute, n_neighbors=1, weights=uniform, Accuracy=0.763, F1 Score=0.634, total=   0.1s\n",
      "[CV] algorithm=brute, n_neighbors=1, weights=uniform .................\n",
      "[CV]  algorithm=brute, n_neighbors=1, weights=uniform, Accuracy=0.756, F1 Score=0.694, total=   0.1s\n",
      "[CV] algorithm=brute, n_neighbors=1, weights=uniform .................\n",
      "[CV]  algorithm=brute, n_neighbors=1, weights=uniform, Accuracy=0.774, F1 Score=0.724, total=   0.1s\n",
      "[CV] algorithm=brute, n_neighbors=1, weights=distance ................\n",
      "[CV]  algorithm=brute, n_neighbors=1, weights=distance, Accuracy=0.776, F1 Score=0.711, total=   0.1s\n",
      "[CV] algorithm=brute, n_neighbors=1, weights=distance ................\n",
      "[CV]  algorithm=brute, n_neighbors=1, weights=distance, Accuracy=0.763, F1 Score=0.634, total=   0.1s\n",
      "[CV] algorithm=brute, n_neighbors=1, weights=distance ................\n",
      "[CV]  algorithm=brute, n_neighbors=1, weights=distance, Accuracy=0.756, F1 Score=0.694, total=   0.1s\n",
      "[CV] algorithm=brute, n_neighbors=1, weights=distance ................\n",
      "[CV]  algorithm=brute, n_neighbors=1, weights=distance, Accuracy=0.774, F1 Score=0.724, total=   0.1s\n",
      "[CV] algorithm=brute, n_neighbors=5, weights=uniform .................\n",
      "[CV]  algorithm=brute, n_neighbors=5, weights=uniform, Accuracy=0.859, F1 Score=0.810, total=   0.1s\n",
      "[CV] algorithm=brute, n_neighbors=5, weights=uniform .................\n",
      "[CV]  algorithm=brute, n_neighbors=5, weights=uniform, Accuracy=0.776, F1 Score=0.624, total=   0.1s\n",
      "[CV] algorithm=brute, n_neighbors=5, weights=uniform .................\n"
     ]
    },
    {
     "name": "stdout",
     "output_type": "stream",
     "text": [
      "[CV]  algorithm=brute, n_neighbors=5, weights=uniform, Accuracy=0.788, F1 Score=0.703, total=   0.1s\n",
      "[CV] algorithm=brute, n_neighbors=5, weights=uniform .................\n",
      "[CV]  algorithm=brute, n_neighbors=5, weights=uniform, Accuracy=0.768, F1 Score=0.700, total=   0.1s\n",
      "[CV] algorithm=brute, n_neighbors=5, weights=distance ................\n",
      "[CV]  algorithm=brute, n_neighbors=5, weights=distance, Accuracy=0.808, F1 Score=0.758, total=   0.1s\n",
      "[CV] algorithm=brute, n_neighbors=5, weights=distance ................\n",
      "[CV]  algorithm=brute, n_neighbors=5, weights=distance, Accuracy=0.769, F1 Score=0.640, total=   0.1s\n",
      "[CV] algorithm=brute, n_neighbors=5, weights=distance ................\n",
      "[CV]  algorithm=brute, n_neighbors=5, weights=distance, Accuracy=0.769, F1 Score=0.700, total=   0.1s\n",
      "[CV] algorithm=brute, n_neighbors=5, weights=distance ................\n",
      "[CV]  algorithm=brute, n_neighbors=5, weights=distance, Accuracy=0.761, F1 Score=0.709, total=   0.1s\n",
      "[CV] algorithm=brute, n_neighbors=10, weights=uniform ................\n",
      "[CV]  algorithm=brute, n_neighbors=10, weights=uniform, Accuracy=0.865, F1 Score=0.814, total=   0.1s\n",
      "[CV] algorithm=brute, n_neighbors=10, weights=uniform ................\n",
      "[CV]  algorithm=brute, n_neighbors=10, weights=uniform, Accuracy=0.782, F1 Score=0.614, total=   0.1s\n",
      "[CV] algorithm=brute, n_neighbors=10, weights=uniform ................\n",
      "[CV]  algorithm=brute, n_neighbors=10, weights=uniform, Accuracy=0.808, F1 Score=0.717, total=   0.1s\n",
      "[CV] algorithm=brute, n_neighbors=10, weights=uniform ................\n",
      "[CV]  algorithm=brute, n_neighbors=10, weights=uniform, Accuracy=0.819, F1 Score=0.741, total=   0.1s\n",
      "[CV] algorithm=brute, n_neighbors=10, weights=distance ...............\n",
      "[CV]  algorithm=brute, n_neighbors=10, weights=distance, Accuracy=0.833, F1 Score=0.783, total=   0.1s\n",
      "[CV] algorithm=brute, n_neighbors=10, weights=distance ...............\n",
      "[CV]  algorithm=brute, n_neighbors=10, weights=distance, Accuracy=0.782, F1 Score=0.653, total=   0.1s\n",
      "[CV] algorithm=brute, n_neighbors=10, weights=distance ...............\n",
      "[CV]  algorithm=brute, n_neighbors=10, weights=distance, Accuracy=0.782, F1 Score=0.717, total=   0.1s\n",
      "[CV] algorithm=brute, n_neighbors=10, weights=distance ...............\n",
      "[CV]  algorithm=brute, n_neighbors=10, weights=distance, Accuracy=0.813, F1 Score=0.760, total=   0.1s\n",
      "[CV] algorithm=brute, n_neighbors=15, weights=uniform ................\n",
      "[CV]  algorithm=brute, n_neighbors=15, weights=uniform, Accuracy=0.846, F1 Score=0.789, total=   0.1s\n",
      "[CV] algorithm=brute, n_neighbors=15, weights=uniform ................\n",
      "[CV]  algorithm=brute, n_neighbors=15, weights=uniform, Accuracy=0.795, F1 Score=0.644, total=   0.1s\n",
      "[CV] algorithm=brute, n_neighbors=15, weights=uniform ................\n",
      "[CV]  algorithm=brute, n_neighbors=15, weights=uniform, Accuracy=0.814, F1 Score=0.729, total=   0.1s\n",
      "[CV] algorithm=brute, n_neighbors=15, weights=uniform ................\n",
      "[CV]  algorithm=brute, n_neighbors=15, weights=uniform, Accuracy=0.806, F1 Score=0.722, total=   0.1s\n",
      "[CV] algorithm=brute, n_neighbors=15, weights=distance ...............\n",
      "[CV]  algorithm=brute, n_neighbors=15, weights=distance, Accuracy=0.846, F1 Score=0.800, total=   0.1s\n",
      "[CV] algorithm=brute, n_neighbors=15, weights=distance ...............\n",
      "[CV]  algorithm=brute, n_neighbors=15, weights=distance, Accuracy=0.788, F1 Score=0.667, total=   0.1s\n",
      "[CV] algorithm=brute, n_neighbors=15, weights=distance ...............\n",
      "[CV]  algorithm=brute, n_neighbors=15, weights=distance, Accuracy=0.795, F1 Score=0.729, total=   0.1s\n",
      "[CV] algorithm=brute, n_neighbors=15, weights=distance ...............\n",
      "[CV]  algorithm=brute, n_neighbors=15, weights=distance, Accuracy=0.800, F1 Score=0.744, total=   0.1s\n"
     ]
    },
    {
     "name": "stderr",
     "output_type": "stream",
     "text": [
      "[Parallel(n_jobs=1)]: Done 128 out of 128 | elapsed:    5.4s finished\n"
     ]
    }
   ],
   "source": [
    "scoring = {'Accuracy': 'accuracy', 'F1 Score': 'f1'}\n",
    "model_knearest_neighbors_grid_with_scoring = GridSearchCV(KNeighborsClassifier(n_jobs=-1), param_grid=param_grid, cv=cv, verbose=3, scoring = scoring, refit=False)\n",
    "model_knearest_neighbors_grid_with_scoring.fit(X, y)\n",
    "results_grid_with_scoring = model_knearest_neighbors_grid_with_scoring.cv_results_"
   ]
  },
  {
   "cell_type": "code",
   "execution_count": 42,
   "metadata": {},
   "outputs": [],
   "source": [
    "# sorted(sklearn.metrics.SCORERS.keys())\n",
    "results_grid_with_scoring = model_knearest_neighbors_grid_with_scoring.cv_results_"
   ]
  },
  {
   "cell_type": "code",
   "execution_count": 43,
   "metadata": {},
   "outputs": [
    {
     "data": {
      "text/plain": [
       "{'mean_fit_time': array([0.00349104, 0.00373948, 0.00447905, 0.00299042, 0.00375855,\n",
       "        0.00374877, 0.00375551, 0.00424558, 0.00224334, 0.00299013,\n",
       "        0.00274408, 0.00248432, 0.00299203, 0.00224191, 0.00224519,\n",
       "        0.00224423, 0.00274116, 0.00374103, 0.00249296, 0.00349814,\n",
       "        0.00348842, 0.00324941, 0.00351554, 0.00374812, 0.00124657,\n",
       "        0.00149542, 0.00124681, 0.00099784, 0.0009976 , 0.00124657,\n",
       "        0.0014959 , 0.00124639]),\n",
       " 'std_fit_time': array([8.63829856e-04, 4.31880120e-04, 1.49200184e-03, 2.08786486e-06,\n",
       "        4.21770671e-04, 8.22771402e-04, 4.20582212e-04, 4.29556292e-04,\n",
       "        4.30538287e-04, 9.95281157e-04, 8.26799135e-04, 5.07626386e-04,\n",
       "        7.04780009e-04, 4.33300904e-04, 1.08682958e-03, 4.31949955e-04,\n",
       "        4.31983523e-04, 4.32922088e-04, 4.98473651e-04, 4.89571998e-04,\n",
       "        4.96636960e-04, 8.36058815e-04, 4.90096469e-04, 4.15985402e-04,\n",
       "        4.31467299e-04, 4.98473765e-04, 4.28991900e-04, 1.37349589e-06,\n",
       "        5.43024157e-07, 4.31742491e-04, 4.99189078e-04, 4.31157584e-04]),\n",
       " 'mean_score_time': array([0.01845163, 0.01246661, 0.02144384, 0.01073152, 0.01718813,\n",
       "        0.01295561, 0.01893294, 0.01370567, 0.01495987, 0.01172161,\n",
       "        0.01721185, 0.01146942, 0.02343708, 0.01097023, 0.01670432,\n",
       "        0.012716  , 0.01570964, 0.0122171 , 0.0164566 , 0.01147205,\n",
       "        0.01845974, 0.0107314 , 0.01644087, 0.01172912, 0.11469382,\n",
       "        0.1072138 , 0.11494112, 0.1077112 , 0.11544156, 0.10721362,\n",
       "        0.11494273, 0.10895878]),\n",
       " 'std_score_time': array([2.59044368e-03, 1.11467431e-03, 3.19285986e-03, 4.15602920e-04,\n",
       "        2.28481101e-03, 1.56807572e-03, 3.52549462e-03, 2.29792613e-03,\n",
       "        9.96411250e-04, 1.30995326e-03, 1.79120965e-03, 2.05682132e-03,\n",
       "        5.66399684e-03, 7.04442471e-04, 3.02364314e-03, 8.26887508e-04,\n",
       "        1.29593901e-03, 2.47835656e-03, 3.19257992e-03, 1.49756690e-03,\n",
       "        2.68925127e-03, 8.31472589e-04, 2.06292199e-03, 4.38102995e-04,\n",
       "        7.02728398e-07, 8.63450838e-04, 8.26041846e-04, 1.85062584e-06,\n",
       "        4.31673775e-04, 4.98414496e-04, 4.31709044e-04, 1.63539596e-03]),\n",
       " 'param_algorithm': masked_array(data=['auto', 'auto', 'auto', 'auto', 'auto', 'auto', 'auto',\n",
       "                    'auto', 'ball_tree', 'ball_tree', 'ball_tree',\n",
       "                    'ball_tree', 'ball_tree', 'ball_tree', 'ball_tree',\n",
       "                    'ball_tree', 'kd_tree', 'kd_tree', 'kd_tree',\n",
       "                    'kd_tree', 'kd_tree', 'kd_tree', 'kd_tree', 'kd_tree',\n",
       "                    'brute', 'brute', 'brute', 'brute', 'brute', 'brute',\n",
       "                    'brute', 'brute'],\n",
       "              mask=[False, False, False, False, False, False, False, False,\n",
       "                    False, False, False, False, False, False, False, False,\n",
       "                    False, False, False, False, False, False, False, False,\n",
       "                    False, False, False, False, False, False, False, False],\n",
       "        fill_value='?',\n",
       "             dtype=object),\n",
       " 'param_n_neighbors': masked_array(data=[1, 1, 5, 5, 10, 10, 15, 15, 1, 1, 5, 5, 10, 10, 15, 15,\n",
       "                    1, 1, 5, 5, 10, 10, 15, 15, 1, 1, 5, 5, 10, 10, 15, 15],\n",
       "              mask=[False, False, False, False, False, False, False, False,\n",
       "                    False, False, False, False, False, False, False, False,\n",
       "                    False, False, False, False, False, False, False, False,\n",
       "                    False, False, False, False, False, False, False, False],\n",
       "        fill_value='?',\n",
       "             dtype=object),\n",
       " 'param_weights': masked_array(data=['uniform', 'distance', 'uniform', 'distance',\n",
       "                    'uniform', 'distance', 'uniform', 'distance',\n",
       "                    'uniform', 'distance', 'uniform', 'distance',\n",
       "                    'uniform', 'distance', 'uniform', 'distance',\n",
       "                    'uniform', 'distance', 'uniform', 'distance',\n",
       "                    'uniform', 'distance', 'uniform', 'distance',\n",
       "                    'uniform', 'distance', 'uniform', 'distance',\n",
       "                    'uniform', 'distance', 'uniform', 'distance'],\n",
       "              mask=[False, False, False, False, False, False, False, False,\n",
       "                    False, False, False, False, False, False, False, False,\n",
       "                    False, False, False, False, False, False, False, False,\n",
       "                    False, False, False, False, False, False, False, False],\n",
       "        fill_value='?',\n",
       "             dtype=object),\n",
       " 'params': [{'algorithm': 'auto', 'n_neighbors': 1, 'weights': 'uniform'},\n",
       "  {'algorithm': 'auto', 'n_neighbors': 1, 'weights': 'distance'},\n",
       "  {'algorithm': 'auto', 'n_neighbors': 5, 'weights': 'uniform'},\n",
       "  {'algorithm': 'auto', 'n_neighbors': 5, 'weights': 'distance'},\n",
       "  {'algorithm': 'auto', 'n_neighbors': 10, 'weights': 'uniform'},\n",
       "  {'algorithm': 'auto', 'n_neighbors': 10, 'weights': 'distance'},\n",
       "  {'algorithm': 'auto', 'n_neighbors': 15, 'weights': 'uniform'},\n",
       "  {'algorithm': 'auto', 'n_neighbors': 15, 'weights': 'distance'},\n",
       "  {'algorithm': 'ball_tree', 'n_neighbors': 1, 'weights': 'uniform'},\n",
       "  {'algorithm': 'ball_tree', 'n_neighbors': 1, 'weights': 'distance'},\n",
       "  {'algorithm': 'ball_tree', 'n_neighbors': 5, 'weights': 'uniform'},\n",
       "  {'algorithm': 'ball_tree', 'n_neighbors': 5, 'weights': 'distance'},\n",
       "  {'algorithm': 'ball_tree', 'n_neighbors': 10, 'weights': 'uniform'},\n",
       "  {'algorithm': 'ball_tree', 'n_neighbors': 10, 'weights': 'distance'},\n",
       "  {'algorithm': 'ball_tree', 'n_neighbors': 15, 'weights': 'uniform'},\n",
       "  {'algorithm': 'ball_tree', 'n_neighbors': 15, 'weights': 'distance'},\n",
       "  {'algorithm': 'kd_tree', 'n_neighbors': 1, 'weights': 'uniform'},\n",
       "  {'algorithm': 'kd_tree', 'n_neighbors': 1, 'weights': 'distance'},\n",
       "  {'algorithm': 'kd_tree', 'n_neighbors': 5, 'weights': 'uniform'},\n",
       "  {'algorithm': 'kd_tree', 'n_neighbors': 5, 'weights': 'distance'},\n",
       "  {'algorithm': 'kd_tree', 'n_neighbors': 10, 'weights': 'uniform'},\n",
       "  {'algorithm': 'kd_tree', 'n_neighbors': 10, 'weights': 'distance'},\n",
       "  {'algorithm': 'kd_tree', 'n_neighbors': 15, 'weights': 'uniform'},\n",
       "  {'algorithm': 'kd_tree', 'n_neighbors': 15, 'weights': 'distance'},\n",
       "  {'algorithm': 'brute', 'n_neighbors': 1, 'weights': 'uniform'},\n",
       "  {'algorithm': 'brute', 'n_neighbors': 1, 'weights': 'distance'},\n",
       "  {'algorithm': 'brute', 'n_neighbors': 5, 'weights': 'uniform'},\n",
       "  {'algorithm': 'brute', 'n_neighbors': 5, 'weights': 'distance'},\n",
       "  {'algorithm': 'brute', 'n_neighbors': 10, 'weights': 'uniform'},\n",
       "  {'algorithm': 'brute', 'n_neighbors': 10, 'weights': 'distance'},\n",
       "  {'algorithm': 'brute', 'n_neighbors': 15, 'weights': 'uniform'},\n",
       "  {'algorithm': 'brute', 'n_neighbors': 15, 'weights': 'distance'}],\n",
       " 'split0_test_Accuracy': array([0.77564103, 0.77564103, 0.85897436, 0.80128205, 0.86538462,\n",
       "        0.83333333, 0.84615385, 0.84615385, 0.77564103, 0.77564103,\n",
       "        0.85897436, 0.80128205, 0.86538462, 0.83333333, 0.84615385,\n",
       "        0.84615385, 0.77564103, 0.77564103, 0.85897436, 0.80128205,\n",
       "        0.86538462, 0.83333333, 0.84615385, 0.84615385, 0.77564103,\n",
       "        0.77564103, 0.85897436, 0.80769231, 0.86538462, 0.83333333,\n",
       "        0.84615385, 0.84615385]),\n",
       " 'split1_test_Accuracy': array([0.76282051, 0.76282051, 0.77564103, 0.76923077, 0.78205128,\n",
       "        0.78205128, 0.79487179, 0.78846154, 0.76282051, 0.76282051,\n",
       "        0.77564103, 0.76923077, 0.78205128, 0.78205128, 0.79487179,\n",
       "        0.78846154, 0.76282051, 0.76282051, 0.77564103, 0.76923077,\n",
       "        0.78205128, 0.78205128, 0.79487179, 0.78846154, 0.76282051,\n",
       "        0.76282051, 0.77564103, 0.76923077, 0.78205128, 0.78205128,\n",
       "        0.79487179, 0.78846154]),\n",
       " 'split2_test_Accuracy': array([0.75641026, 0.75641026, 0.79487179, 0.76923077, 0.80769231,\n",
       "        0.78205128, 0.81410256, 0.79487179, 0.75641026, 0.75641026,\n",
       "        0.79487179, 0.76923077, 0.80769231, 0.78205128, 0.81410256,\n",
       "        0.79487179, 0.75641026, 0.75641026, 0.79487179, 0.76923077,\n",
       "        0.80769231, 0.78205128, 0.81410256, 0.79487179, 0.75641026,\n",
       "        0.75641026, 0.78846154, 0.76923077, 0.80769231, 0.78205128,\n",
       "        0.81410256, 0.79487179]),\n",
       " 'split3_test_Accuracy': array([0.78064516, 0.78064516, 0.76774194, 0.76129032, 0.81935484,\n",
       "        0.81290323, 0.80645161, 0.8       , 0.78064516, 0.78064516,\n",
       "        0.76774194, 0.76129032, 0.81935484, 0.81290323, 0.80645161,\n",
       "        0.8       , 0.78064516, 0.78064516, 0.76774194, 0.76129032,\n",
       "        0.81935484, 0.81290323, 0.80645161, 0.8       , 0.77419355,\n",
       "        0.77419355, 0.76774194, 0.76129032, 0.81935484, 0.81290323,\n",
       "        0.80645161, 0.8       ]),\n",
       " 'mean_test_Accuracy': array([0.76887924, 0.76887924, 0.79930728, 0.77525848, 0.81862076,\n",
       "        0.80258478, 0.81539495, 0.80737179, 0.76887924, 0.76887924,\n",
       "        0.79930728, 0.77525848, 0.81862076, 0.80258478, 0.81539495,\n",
       "        0.80737179, 0.76887924, 0.76887924, 0.79930728, 0.77525848,\n",
       "        0.81862076, 0.80258478, 0.81539495, 0.80737179, 0.76726634,\n",
       "        0.76726634, 0.79770471, 0.77686104, 0.81862076, 0.80258478,\n",
       "        0.81539495, 0.80737179]),\n",
       " 'std_test_Accuracy': array([0.00969977, 0.00969977, 0.03583398, 0.01537044, 0.03018342,\n",
       "        0.02176691, 0.01903262, 0.02276092, 0.00969977, 0.00969977,\n",
       "        0.03583398, 0.01537044, 0.03018342, 0.02176691, 0.01903262,\n",
       "        0.02276092, 0.00969977, 0.00969977, 0.03583398, 0.01537044,\n",
       "        0.03018342, 0.02176691, 0.01903262, 0.02276092, 0.00799596,\n",
       "        0.00799596, 0.03613855, 0.01809321, 0.03018342, 0.02176691,\n",
       "        0.01903262, 0.02276092]),\n",
       " 'rank_test_Accuracy': array([25, 25, 17, 22,  1, 13,  5,  9, 25, 25, 17, 22,  1, 13,  5,  9, 25,\n",
       "        25, 17, 22,  1, 13,  5,  9, 31, 31, 20, 21,  1, 13,  5,  9]),\n",
       " 'split0_test_F1 Score': array([0.7107438 , 0.7107438 , 0.81034483, 0.752     , 0.81415929,\n",
       "        0.78333333, 0.78947368, 0.8       , 0.7107438 , 0.7107438 ,\n",
       "        0.81034483, 0.752     , 0.81415929, 0.78333333, 0.78947368,\n",
       "        0.8       , 0.7107438 , 0.7107438 , 0.81034483, 0.752     ,\n",
       "        0.81415929, 0.78333333, 0.78947368, 0.8       , 0.7107438 ,\n",
       "        0.7107438 , 0.81034483, 0.75806452, 0.81415929, 0.78333333,\n",
       "        0.78947368, 0.8       ]),\n",
       " 'split1_test_F1 Score': array([0.63366337, 0.63366337, 0.62365591, 0.64      , 0.61363636,\n",
       "        0.65306122, 0.64444444, 0.66666667, 0.63366337, 0.63366337,\n",
       "        0.62365591, 0.64      , 0.61363636, 0.65306122, 0.64444444,\n",
       "        0.66666667, 0.63366337, 0.63366337, 0.62365591, 0.64      ,\n",
       "        0.61363636, 0.65306122, 0.64444444, 0.66666667, 0.63366337,\n",
       "        0.63366337, 0.62365591, 0.64      , 0.61363636, 0.65306122,\n",
       "        0.64444444, 0.66666667]),\n",
       " 'split2_test_F1 Score': array([0.69354839, 0.69354839, 0.71428571, 0.7       , 0.71698113,\n",
       "        0.71666667, 0.72897196, 0.72881356, 0.69354839, 0.69354839,\n",
       "        0.71428571, 0.7       , 0.71698113, 0.71666667, 0.72897196,\n",
       "        0.72881356, 0.69354839, 0.69354839, 0.71428571, 0.7       ,\n",
       "        0.71698113, 0.71666667, 0.72897196, 0.72881356, 0.69354839,\n",
       "        0.69354839, 0.7027027 , 0.7       , 0.71698113, 0.71666667,\n",
       "        0.72897196, 0.72881356]),\n",
       " 'split3_test_F1 Score': array([0.73015873, 0.73015873, 0.7       , 0.70866142, 0.74074074,\n",
       "        0.76033058, 0.72222222, 0.74380165, 0.73015873, 0.73015873,\n",
       "        0.7       , 0.70866142, 0.74074074, 0.76033058, 0.72222222,\n",
       "        0.74380165, 0.73015873, 0.73015873, 0.7       , 0.70866142,\n",
       "        0.74074074, 0.76033058, 0.72222222, 0.74380165, 0.72440945,\n",
       "        0.72440945, 0.7       , 0.70866142, 0.74074074, 0.76033058,\n",
       "        0.72222222, 0.74380165]),\n",
       " 'mean_test_F1 Score': array([0.69202857, 0.69202857, 0.71207161, 0.70016535, 0.72137938,\n",
       "        0.72834795, 0.72127808, 0.73482047, 0.69202857, 0.69202857,\n",
       "        0.71207161, 0.70016535, 0.72137938, 0.72834795, 0.72127808,\n",
       "        0.73482047, 0.69202857, 0.69202857, 0.71207161, 0.70016535,\n",
       "        0.72137938, 0.72834795, 0.72127808, 0.73482047, 0.69059125,\n",
       "        0.69059125, 0.70917586, 0.70168148, 0.72137938, 0.72834795,\n",
       "        0.72127808, 0.73482047]),\n",
       " 'std_test_F1 Score': array([0.03610047, 0.03610047, 0.06638069, 0.03993404, 0.07178244,\n",
       "        0.04962566, 0.05151246, 0.04746066, 0.03610047, 0.03610047,\n",
       "        0.06638069, 0.03993404, 0.07178244, 0.04962566, 0.05151246,\n",
       "        0.04746066, 0.03610047, 0.03610047, 0.06638069, 0.03993404,\n",
       "        0.07178244, 0.04962566, 0.05151246, 0.04746066, 0.03463858,\n",
       "        0.03463858, 0.06647353, 0.04193805, 0.07178244, 0.04962566,\n",
       "        0.05151246, 0.04746066]),\n",
       " 'rank_test_F1 Score': array([25, 25, 17, 22,  9,  5, 13,  1, 25, 25, 17, 22,  9,  5, 13,  1, 25,\n",
       "        25, 17, 22,  9,  5, 13,  1, 31, 31, 20, 21,  9,  5, 13,  1])}"
      ]
     },
     "execution_count": 43,
     "metadata": {},
     "output_type": "execute_result"
    }
   ],
   "source": [
    "results_grid_with_scoring"
   ]
  },
  {
   "cell_type": "code",
   "execution_count": null,
   "metadata": {},
   "outputs": [],
   "source": []
  }
 ],
 "metadata": {
  "kernelspec": {
   "display_name": "Python 3",
   "language": "python",
   "name": "python3"
  },
  "language_info": {
   "codemirror_mode": {
    "name": "ipython",
    "version": 3
   },
   "file_extension": ".py",
   "mimetype": "text/x-python",
   "name": "python",
   "nbconvert_exporter": "python",
   "pygments_lexer": "ipython3",
   "version": "3.7.3"
  }
 },
 "nbformat": 4,
 "nbformat_minor": 1
}
